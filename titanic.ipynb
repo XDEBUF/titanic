{
 "cells": [
  {
   "cell_type": "code",
   "execution_count": 4,
   "id": "initial_id",
   "metadata": {
    "collapsed": true,
    "ExecuteTime": {
     "end_time": "2023-12-14T13:43:17.717977956Z",
     "start_time": "2023-12-14T13:43:17.223308601Z"
    }
   },
   "outputs": [],
   "source": [
    "import pandas as pd"
   ]
  },
  {
   "cell_type": "code",
   "execution_count": 5,
   "outputs": [],
   "source": [
    "import matplotlib.pyplot as plt"
   ],
   "metadata": {
    "collapsed": false,
    "ExecuteTime": {
     "end_time": "2023-12-14T13:43:19.554355459Z",
     "start_time": "2023-12-14T13:43:17.953305871Z"
    }
   },
   "id": "9f789d106f44ccdc"
  },
  {
   "cell_type": "code",
   "execution_count": 6,
   "outputs": [],
   "source": [
    "df_train=pd.read_csv('train.csv')"
   ],
   "metadata": {
    "collapsed": false,
    "ExecuteTime": {
     "end_time": "2023-12-14T13:43:19.555062474Z",
     "start_time": "2023-12-14T13:43:19.404454269Z"
    }
   },
   "id": "ba136a264e0549f"
  },
  {
   "cell_type": "code",
   "execution_count": 7,
   "outputs": [],
   "source": [
    "#df_train.Cabin=df_train.Cabin.fillna(\"Z\")"
   ],
   "metadata": {
    "collapsed": false,
    "ExecuteTime": {
     "end_time": "2023-12-14T13:43:19.555222770Z",
     "start_time": "2023-12-14T13:43:19.445677165Z"
    }
   },
   "id": "aab5ba9162e83502"
  },
  {
   "cell_type": "code",
   "execution_count": 8,
   "outputs": [],
   "source": [
    "#df_train.Age=df_train.Age.fillna(df_train['Age'].median())"
   ],
   "metadata": {
    "collapsed": false,
    "ExecuteTime": {
     "end_time": "2023-12-14T13:43:20.027877039Z",
     "start_time": "2023-12-14T13:43:19.877370861Z"
    }
   },
   "id": "e839e6f02bc5f3c7"
  },
  {
   "cell_type": "code",
   "execution_count": 9,
   "outputs": [
    {
     "data": {
      "text/plain": "     PassengerId  Survived  Pclass  \\\n0              1         0       3   \n1              2         1       1   \n2              3         1       3   \n3              4         1       1   \n4              5         0       3   \n..           ...       ...     ...   \n886          887         0       2   \n887          888         1       1   \n888          889         0       3   \n889          890         1       1   \n890          891         0       3   \n\n                                                  Name     Sex   Age  SibSp  \\\n0                              Braund, Mr. Owen Harris    male  22.0      1   \n1    Cumings, Mrs. John Bradley (Florence Briggs Th...  female  38.0      1   \n2                               Heikkinen, Miss. Laina  female  26.0      0   \n3         Futrelle, Mrs. Jacques Heath (Lily May Peel)  female  35.0      1   \n4                             Allen, Mr. William Henry    male  35.0      0   \n..                                                 ...     ...   ...    ...   \n886                              Montvila, Rev. Juozas    male  27.0      0   \n887                       Graham, Miss. Margaret Edith  female  19.0      0   \n888           Johnston, Miss. Catherine Helen \"Carrie\"  female   NaN      1   \n889                              Behr, Mr. Karl Howell    male  26.0      0   \n890                                Dooley, Mr. Patrick    male  32.0      0   \n\n     Parch            Ticket     Fare Cabin Embarked  \n0        0         A/5 21171   7.2500   NaN        S  \n1        0          PC 17599  71.2833   C85        C  \n2        0  STON/O2. 3101282   7.9250   NaN        S  \n3        0            113803  53.1000  C123        S  \n4        0            373450   8.0500   NaN        S  \n..     ...               ...      ...   ...      ...  \n886      0            211536  13.0000   NaN        S  \n887      0            112053  30.0000   B42        S  \n888      2        W./C. 6607  23.4500   NaN        S  \n889      0            111369  30.0000  C148        C  \n890      0            370376   7.7500   NaN        Q  \n\n[891 rows x 12 columns]",
      "text/html": "<div>\n<style scoped>\n    .dataframe tbody tr th:only-of-type {\n        vertical-align: middle;\n    }\n\n    .dataframe tbody tr th {\n        vertical-align: top;\n    }\n\n    .dataframe thead th {\n        text-align: right;\n    }\n</style>\n<table border=\"1\" class=\"dataframe\">\n  <thead>\n    <tr style=\"text-align: right;\">\n      <th></th>\n      <th>PassengerId</th>\n      <th>Survived</th>\n      <th>Pclass</th>\n      <th>Name</th>\n      <th>Sex</th>\n      <th>Age</th>\n      <th>SibSp</th>\n      <th>Parch</th>\n      <th>Ticket</th>\n      <th>Fare</th>\n      <th>Cabin</th>\n      <th>Embarked</th>\n    </tr>\n  </thead>\n  <tbody>\n    <tr>\n      <th>0</th>\n      <td>1</td>\n      <td>0</td>\n      <td>3</td>\n      <td>Braund, Mr. Owen Harris</td>\n      <td>male</td>\n      <td>22.0</td>\n      <td>1</td>\n      <td>0</td>\n      <td>A/5 21171</td>\n      <td>7.2500</td>\n      <td>NaN</td>\n      <td>S</td>\n    </tr>\n    <tr>\n      <th>1</th>\n      <td>2</td>\n      <td>1</td>\n      <td>1</td>\n      <td>Cumings, Mrs. John Bradley (Florence Briggs Th...</td>\n      <td>female</td>\n      <td>38.0</td>\n      <td>1</td>\n      <td>0</td>\n      <td>PC 17599</td>\n      <td>71.2833</td>\n      <td>C85</td>\n      <td>C</td>\n    </tr>\n    <tr>\n      <th>2</th>\n      <td>3</td>\n      <td>1</td>\n      <td>3</td>\n      <td>Heikkinen, Miss. Laina</td>\n      <td>female</td>\n      <td>26.0</td>\n      <td>0</td>\n      <td>0</td>\n      <td>STON/O2. 3101282</td>\n      <td>7.9250</td>\n      <td>NaN</td>\n      <td>S</td>\n    </tr>\n    <tr>\n      <th>3</th>\n      <td>4</td>\n      <td>1</td>\n      <td>1</td>\n      <td>Futrelle, Mrs. Jacques Heath (Lily May Peel)</td>\n      <td>female</td>\n      <td>35.0</td>\n      <td>1</td>\n      <td>0</td>\n      <td>113803</td>\n      <td>53.1000</td>\n      <td>C123</td>\n      <td>S</td>\n    </tr>\n    <tr>\n      <th>4</th>\n      <td>5</td>\n      <td>0</td>\n      <td>3</td>\n      <td>Allen, Mr. William Henry</td>\n      <td>male</td>\n      <td>35.0</td>\n      <td>0</td>\n      <td>0</td>\n      <td>373450</td>\n      <td>8.0500</td>\n      <td>NaN</td>\n      <td>S</td>\n    </tr>\n    <tr>\n      <th>...</th>\n      <td>...</td>\n      <td>...</td>\n      <td>...</td>\n      <td>...</td>\n      <td>...</td>\n      <td>...</td>\n      <td>...</td>\n      <td>...</td>\n      <td>...</td>\n      <td>...</td>\n      <td>...</td>\n      <td>...</td>\n    </tr>\n    <tr>\n      <th>886</th>\n      <td>887</td>\n      <td>0</td>\n      <td>2</td>\n      <td>Montvila, Rev. Juozas</td>\n      <td>male</td>\n      <td>27.0</td>\n      <td>0</td>\n      <td>0</td>\n      <td>211536</td>\n      <td>13.0000</td>\n      <td>NaN</td>\n      <td>S</td>\n    </tr>\n    <tr>\n      <th>887</th>\n      <td>888</td>\n      <td>1</td>\n      <td>1</td>\n      <td>Graham, Miss. Margaret Edith</td>\n      <td>female</td>\n      <td>19.0</td>\n      <td>0</td>\n      <td>0</td>\n      <td>112053</td>\n      <td>30.0000</td>\n      <td>B42</td>\n      <td>S</td>\n    </tr>\n    <tr>\n      <th>888</th>\n      <td>889</td>\n      <td>0</td>\n      <td>3</td>\n      <td>Johnston, Miss. Catherine Helen \"Carrie\"</td>\n      <td>female</td>\n      <td>NaN</td>\n      <td>1</td>\n      <td>2</td>\n      <td>W./C. 6607</td>\n      <td>23.4500</td>\n      <td>NaN</td>\n      <td>S</td>\n    </tr>\n    <tr>\n      <th>889</th>\n      <td>890</td>\n      <td>1</td>\n      <td>1</td>\n      <td>Behr, Mr. Karl Howell</td>\n      <td>male</td>\n      <td>26.0</td>\n      <td>0</td>\n      <td>0</td>\n      <td>111369</td>\n      <td>30.0000</td>\n      <td>C148</td>\n      <td>C</td>\n    </tr>\n    <tr>\n      <th>890</th>\n      <td>891</td>\n      <td>0</td>\n      <td>3</td>\n      <td>Dooley, Mr. Patrick</td>\n      <td>male</td>\n      <td>32.0</td>\n      <td>0</td>\n      <td>0</td>\n      <td>370376</td>\n      <td>7.7500</td>\n      <td>NaN</td>\n      <td>Q</td>\n    </tr>\n  </tbody>\n</table>\n<p>891 rows × 12 columns</p>\n</div>"
     },
     "execution_count": 9,
     "metadata": {},
     "output_type": "execute_result"
    }
   ],
   "source": [
    "df_train"
   ],
   "metadata": {
    "collapsed": false,
    "ExecuteTime": {
     "end_time": "2023-12-14T13:43:20.835443554Z",
     "start_time": "2023-12-14T13:43:20.490374191Z"
    }
   },
   "id": "344e71be499f6ff4"
  },
  {
   "cell_type": "code",
   "execution_count": 10,
   "outputs": [
    {
     "data": {
      "text/plain": "12"
     },
     "execution_count": 10,
     "metadata": {},
     "output_type": "execute_result"
    }
   ],
   "source": [
    "df_train.isna().count().count()"
   ],
   "metadata": {
    "collapsed": false,
    "ExecuteTime": {
     "end_time": "2023-12-14T13:43:21.490940931Z",
     "start_time": "2023-12-14T13:43:21.293051826Z"
    }
   },
   "id": "e56bc990ef92142f"
  },
  {
   "cell_type": "code",
   "execution_count": 11,
   "outputs": [],
   "source": [
    "#df_train=df_train.dropna(axis = 0)"
   ],
   "metadata": {
    "collapsed": false,
    "ExecuteTime": {
     "end_time": "2023-12-14T13:43:22.437104637Z",
     "start_time": "2023-12-14T13:43:21.839407557Z"
    }
   },
   "id": "616bf9d414e428fc"
  },
  {
   "cell_type": "code",
   "execution_count": 12,
   "outputs": [],
   "source": [
    "#df_train= df_train.drop(['Ticket','Name'], axis=1)"
   ],
   "metadata": {
    "collapsed": false,
    "ExecuteTime": {
     "end_time": "2023-12-14T13:43:22.586363086Z",
     "start_time": "2023-12-14T13:43:22.390546380Z"
    }
   },
   "id": "e32396f61313659c"
  },
  {
   "cell_type": "code",
   "execution_count": 13,
   "outputs": [],
   "source": [
    "#df_train.isna().count().count()"
   ],
   "metadata": {
    "collapsed": false,
    "ExecuteTime": {
     "end_time": "2023-12-14T13:43:23.125260478Z",
     "start_time": "2023-12-14T13:43:22.922389040Z"
    }
   },
   "id": "c687169a6304dcd6"
  },
  {
   "cell_type": "code",
   "execution_count": 14,
   "outputs": [
    {
     "name": "stdout",
     "output_type": "stream",
     "text": [
      "<class 'pandas.core.frame.DataFrame'>\n",
      "RangeIndex: 891 entries, 0 to 890\n",
      "Data columns (total 12 columns):\n",
      " #   Column       Non-Null Count  Dtype  \n",
      "---  ------       --------------  -----  \n",
      " 0   PassengerId  891 non-null    int64  \n",
      " 1   Survived     891 non-null    int64  \n",
      " 2   Pclass       891 non-null    int64  \n",
      " 3   Name         891 non-null    object \n",
      " 4   Sex          891 non-null    object \n",
      " 5   Age          714 non-null    float64\n",
      " 6   SibSp        891 non-null    int64  \n",
      " 7   Parch        891 non-null    int64  \n",
      " 8   Ticket       891 non-null    object \n",
      " 9   Fare         891 non-null    float64\n",
      " 10  Cabin        204 non-null    object \n",
      " 11  Embarked     889 non-null    object \n",
      "dtypes: float64(2), int64(5), object(5)\n",
      "memory usage: 83.7+ KB\n"
     ]
    }
   ],
   "source": [
    "df_train.info()"
   ],
   "metadata": {
    "collapsed": false,
    "ExecuteTime": {
     "end_time": "2023-12-14T13:43:23.812528961Z",
     "start_time": "2023-12-14T13:43:23.595499002Z"
    }
   },
   "id": "cd10b528840e42c1"
  },
  {
   "cell_type": "code",
   "execution_count": 15,
   "outputs": [],
   "source": [
    "#df_train.Cabin=df_train.Cabin.replace(to_replace=r'[0-9]', value='', regex=True)"
   ],
   "metadata": {
    "collapsed": false,
    "ExecuteTime": {
     "end_time": "2023-12-14T13:43:24.393892291Z",
     "start_time": "2023-12-14T13:43:24.307731707Z"
    }
   },
   "id": "21923dc39ec048c5"
  },
  {
   "cell_type": "code",
   "execution_count": 16,
   "outputs": [],
   "source": [
    "def funct_normalize(df_train):\n",
    "    df_train.Cabin = df_train.Cabin.fillna(\"Z\")\n",
    "    df_train.Age = df_train.Age.fillna(df_train['Age'].median())\n",
    "    df_train = df_train.fillna(0)\n",
    "    df_train = df_train.drop(['Ticket', 'Name'], axis=1)\n",
    "    df_train.Cabin=df_train.Cabin.replace(to_replace=r'[0-9]', value='', regex=True)\n",
    "    df_train.Cabin=df_train.Cabin.replace(to_replace=r'\\s.$', value='', regex=True)\n",
    "    df_train.Cabin=df_train.Cabin.replace(to_replace=r'\\s.$', value='', regex=True)\n",
    "    df_train.Cabin=df_train.Cabin.replace(to_replace=r'\\s.$', value='', regex=True)\n",
    "    df_train=pd.get_dummies(df_train, dtype='int')\n",
    "    return df_train\n"
   ],
   "metadata": {
    "collapsed": false,
    "ExecuteTime": {
     "end_time": "2023-12-14T13:43:25.180343899Z",
     "start_time": "2023-12-14T13:43:25.039848171Z"
    }
   },
   "id": "ee1832548504cf18"
  },
  {
   "cell_type": "code",
   "execution_count": 16,
   "outputs": [],
   "source": [],
   "metadata": {
    "collapsed": false,
    "ExecuteTime": {
     "end_time": "2023-12-14T13:43:25.840323648Z",
     "start_time": "2023-12-14T13:43:25.786890891Z"
    }
   },
   "id": "b633bac9eb47d358"
  },
  {
   "cell_type": "code",
   "execution_count": 17,
   "outputs": [],
   "source": [
    "df_exploit=funct_normalize(df_train).drop('Cabin_T', axis=1)"
   ],
   "metadata": {
    "collapsed": false,
    "ExecuteTime": {
     "end_time": "2023-12-14T13:43:26.666555074Z",
     "start_time": "2023-12-14T13:43:26.451762175Z"
    }
   },
   "id": "a6e50cd3ad567550"
  },
  {
   "cell_type": "code",
   "execution_count": 18,
   "outputs": [
    {
     "data": {
      "text/plain": "     PassengerId  Survived  Pclass   Age  SibSp  Parch     Fare  Sex_female  \\\n0              1         0       3  22.0      1      0   7.2500           0   \n1              2         1       1  38.0      1      0  71.2833           1   \n2              3         1       3  26.0      0      0   7.9250           1   \n3              4         1       1  35.0      1      0  53.1000           1   \n4              5         0       3  35.0      0      0   8.0500           0   \n..           ...       ...     ...   ...    ...    ...      ...         ...   \n886          887         0       2  27.0      0      0  13.0000           0   \n887          888         1       1  19.0      0      0  30.0000           1   \n888          889         0       3  28.0      1      2  23.4500           1   \n889          890         1       1  26.0      0      0  30.0000           0   \n890          891         0       3  32.0      0      0   7.7500           0   \n\n     Sex_male  Cabin_A  ...  Cabin_C  Cabin_D  Cabin_E  Cabin_F  Cabin_G  \\\n0           1        0  ...        0        0        0        0        0   \n1           0        0  ...        1        0        0        0        0   \n2           0        0  ...        0        0        0        0        0   \n3           0        0  ...        1        0        0        0        0   \n4           1        0  ...        0        0        0        0        0   \n..        ...      ...  ...      ...      ...      ...      ...      ...   \n886         1        0  ...        0        0        0        0        0   \n887         0        0  ...        0        0        0        0        0   \n888         0        0  ...        0        0        0        0        0   \n889         1        0  ...        1        0        0        0        0   \n890         1        0  ...        0        0        0        0        0   \n\n     Cabin_Z  Embarked_0  Embarked_C  Embarked_Q  Embarked_S  \n0          1           0           0           0           1  \n1          0           0           1           0           0  \n2          1           0           0           0           1  \n3          0           0           0           0           1  \n4          1           0           0           0           1  \n..       ...         ...         ...         ...         ...  \n886        1           0           0           0           1  \n887        0           0           0           0           1  \n888        1           0           0           0           1  \n889        0           0           1           0           0  \n890        1           0           0           1           0  \n\n[891 rows x 21 columns]",
      "text/html": "<div>\n<style scoped>\n    .dataframe tbody tr th:only-of-type {\n        vertical-align: middle;\n    }\n\n    .dataframe tbody tr th {\n        vertical-align: top;\n    }\n\n    .dataframe thead th {\n        text-align: right;\n    }\n</style>\n<table border=\"1\" class=\"dataframe\">\n  <thead>\n    <tr style=\"text-align: right;\">\n      <th></th>\n      <th>PassengerId</th>\n      <th>Survived</th>\n      <th>Pclass</th>\n      <th>Age</th>\n      <th>SibSp</th>\n      <th>Parch</th>\n      <th>Fare</th>\n      <th>Sex_female</th>\n      <th>Sex_male</th>\n      <th>Cabin_A</th>\n      <th>...</th>\n      <th>Cabin_C</th>\n      <th>Cabin_D</th>\n      <th>Cabin_E</th>\n      <th>Cabin_F</th>\n      <th>Cabin_G</th>\n      <th>Cabin_Z</th>\n      <th>Embarked_0</th>\n      <th>Embarked_C</th>\n      <th>Embarked_Q</th>\n      <th>Embarked_S</th>\n    </tr>\n  </thead>\n  <tbody>\n    <tr>\n      <th>0</th>\n      <td>1</td>\n      <td>0</td>\n      <td>3</td>\n      <td>22.0</td>\n      <td>1</td>\n      <td>0</td>\n      <td>7.2500</td>\n      <td>0</td>\n      <td>1</td>\n      <td>0</td>\n      <td>...</td>\n      <td>0</td>\n      <td>0</td>\n      <td>0</td>\n      <td>0</td>\n      <td>0</td>\n      <td>1</td>\n      <td>0</td>\n      <td>0</td>\n      <td>0</td>\n      <td>1</td>\n    </tr>\n    <tr>\n      <th>1</th>\n      <td>2</td>\n      <td>1</td>\n      <td>1</td>\n      <td>38.0</td>\n      <td>1</td>\n      <td>0</td>\n      <td>71.2833</td>\n      <td>1</td>\n      <td>0</td>\n      <td>0</td>\n      <td>...</td>\n      <td>1</td>\n      <td>0</td>\n      <td>0</td>\n      <td>0</td>\n      <td>0</td>\n      <td>0</td>\n      <td>0</td>\n      <td>1</td>\n      <td>0</td>\n      <td>0</td>\n    </tr>\n    <tr>\n      <th>2</th>\n      <td>3</td>\n      <td>1</td>\n      <td>3</td>\n      <td>26.0</td>\n      <td>0</td>\n      <td>0</td>\n      <td>7.9250</td>\n      <td>1</td>\n      <td>0</td>\n      <td>0</td>\n      <td>...</td>\n      <td>0</td>\n      <td>0</td>\n      <td>0</td>\n      <td>0</td>\n      <td>0</td>\n      <td>1</td>\n      <td>0</td>\n      <td>0</td>\n      <td>0</td>\n      <td>1</td>\n    </tr>\n    <tr>\n      <th>3</th>\n      <td>4</td>\n      <td>1</td>\n      <td>1</td>\n      <td>35.0</td>\n      <td>1</td>\n      <td>0</td>\n      <td>53.1000</td>\n      <td>1</td>\n      <td>0</td>\n      <td>0</td>\n      <td>...</td>\n      <td>1</td>\n      <td>0</td>\n      <td>0</td>\n      <td>0</td>\n      <td>0</td>\n      <td>0</td>\n      <td>0</td>\n      <td>0</td>\n      <td>0</td>\n      <td>1</td>\n    </tr>\n    <tr>\n      <th>4</th>\n      <td>5</td>\n      <td>0</td>\n      <td>3</td>\n      <td>35.0</td>\n      <td>0</td>\n      <td>0</td>\n      <td>8.0500</td>\n      <td>0</td>\n      <td>1</td>\n      <td>0</td>\n      <td>...</td>\n      <td>0</td>\n      <td>0</td>\n      <td>0</td>\n      <td>0</td>\n      <td>0</td>\n      <td>1</td>\n      <td>0</td>\n      <td>0</td>\n      <td>0</td>\n      <td>1</td>\n    </tr>\n    <tr>\n      <th>...</th>\n      <td>...</td>\n      <td>...</td>\n      <td>...</td>\n      <td>...</td>\n      <td>...</td>\n      <td>...</td>\n      <td>...</td>\n      <td>...</td>\n      <td>...</td>\n      <td>...</td>\n      <td>...</td>\n      <td>...</td>\n      <td>...</td>\n      <td>...</td>\n      <td>...</td>\n      <td>...</td>\n      <td>...</td>\n      <td>...</td>\n      <td>...</td>\n      <td>...</td>\n      <td>...</td>\n    </tr>\n    <tr>\n      <th>886</th>\n      <td>887</td>\n      <td>0</td>\n      <td>2</td>\n      <td>27.0</td>\n      <td>0</td>\n      <td>0</td>\n      <td>13.0000</td>\n      <td>0</td>\n      <td>1</td>\n      <td>0</td>\n      <td>...</td>\n      <td>0</td>\n      <td>0</td>\n      <td>0</td>\n      <td>0</td>\n      <td>0</td>\n      <td>1</td>\n      <td>0</td>\n      <td>0</td>\n      <td>0</td>\n      <td>1</td>\n    </tr>\n    <tr>\n      <th>887</th>\n      <td>888</td>\n      <td>1</td>\n      <td>1</td>\n      <td>19.0</td>\n      <td>0</td>\n      <td>0</td>\n      <td>30.0000</td>\n      <td>1</td>\n      <td>0</td>\n      <td>0</td>\n      <td>...</td>\n      <td>0</td>\n      <td>0</td>\n      <td>0</td>\n      <td>0</td>\n      <td>0</td>\n      <td>0</td>\n      <td>0</td>\n      <td>0</td>\n      <td>0</td>\n      <td>1</td>\n    </tr>\n    <tr>\n      <th>888</th>\n      <td>889</td>\n      <td>0</td>\n      <td>3</td>\n      <td>28.0</td>\n      <td>1</td>\n      <td>2</td>\n      <td>23.4500</td>\n      <td>1</td>\n      <td>0</td>\n      <td>0</td>\n      <td>...</td>\n      <td>0</td>\n      <td>0</td>\n      <td>0</td>\n      <td>0</td>\n      <td>0</td>\n      <td>1</td>\n      <td>0</td>\n      <td>0</td>\n      <td>0</td>\n      <td>1</td>\n    </tr>\n    <tr>\n      <th>889</th>\n      <td>890</td>\n      <td>1</td>\n      <td>1</td>\n      <td>26.0</td>\n      <td>0</td>\n      <td>0</td>\n      <td>30.0000</td>\n      <td>0</td>\n      <td>1</td>\n      <td>0</td>\n      <td>...</td>\n      <td>1</td>\n      <td>0</td>\n      <td>0</td>\n      <td>0</td>\n      <td>0</td>\n      <td>0</td>\n      <td>0</td>\n      <td>1</td>\n      <td>0</td>\n      <td>0</td>\n    </tr>\n    <tr>\n      <th>890</th>\n      <td>891</td>\n      <td>0</td>\n      <td>3</td>\n      <td>32.0</td>\n      <td>0</td>\n      <td>0</td>\n      <td>7.7500</td>\n      <td>0</td>\n      <td>1</td>\n      <td>0</td>\n      <td>...</td>\n      <td>0</td>\n      <td>0</td>\n      <td>0</td>\n      <td>0</td>\n      <td>0</td>\n      <td>1</td>\n      <td>0</td>\n      <td>0</td>\n      <td>1</td>\n      <td>0</td>\n    </tr>\n  </tbody>\n</table>\n<p>891 rows × 21 columns</p>\n</div>"
     },
     "execution_count": 18,
     "metadata": {},
     "output_type": "execute_result"
    }
   ],
   "source": [
    "df_exploit"
   ],
   "metadata": {
    "collapsed": false,
    "ExecuteTime": {
     "end_time": "2023-12-14T13:43:27.334497619Z",
     "start_time": "2023-12-14T13:43:27.037273841Z"
    }
   },
   "id": "c566575f726803ef"
  },
  {
   "cell_type": "code",
   "execution_count": 19,
   "outputs": [],
   "source": [
    "#df_train=pd.get_dummies(df_train, dtype='int')"
   ],
   "metadata": {
    "collapsed": false,
    "ExecuteTime": {
     "end_time": "2023-12-14T13:43:28.081455420Z",
     "start_time": "2023-12-14T13:43:27.837788973Z"
    }
   },
   "id": "734d5e85fb08dd3"
  },
  {
   "cell_type": "code",
   "execution_count": 20,
   "outputs": [],
   "source": [
    "#df_train=df_train.drop('Cabin_T', axis =1)"
   ],
   "metadata": {
    "collapsed": false,
    "ExecuteTime": {
     "end_time": "2023-12-14T13:43:28.895656399Z",
     "start_time": "2023-12-14T13:43:28.378080794Z"
    }
   },
   "id": "bdd866595486acd8"
  },
  {
   "cell_type": "code",
   "execution_count": 21,
   "outputs": [],
   "source": [
    "df_test=pd.read_csv('test.csv')"
   ],
   "metadata": {
    "collapsed": false,
    "ExecuteTime": {
     "end_time": "2023-12-14T13:43:29.306930584Z",
     "start_time": "2023-12-14T13:43:29.036309165Z"
    }
   },
   "id": "3d57cbb758d0538a"
  },
  {
   "cell_type": "code",
   "execution_count": 22,
   "outputs": [
    {
     "data": {
      "text/plain": "<bound method DataFrame.info of      PassengerId  Pclass                                          Name  \\\n0            892       3                              Kelly, Mr. James   \n1            893       3              Wilkes, Mrs. James (Ellen Needs)   \n2            894       2                     Myles, Mr. Thomas Francis   \n3            895       3                              Wirz, Mr. Albert   \n4            896       3  Hirvonen, Mrs. Alexander (Helga E Lindqvist)   \n..           ...     ...                                           ...   \n413         1305       3                            Spector, Mr. Woolf   \n414         1306       1                  Oliva y Ocana, Dona. Fermina   \n415         1307       3                  Saether, Mr. Simon Sivertsen   \n416         1308       3                           Ware, Mr. Frederick   \n417         1309       3                      Peter, Master. Michael J   \n\n        Sex   Age  SibSp  Parch              Ticket      Fare Cabin Embarked  \n0      male  34.5      0      0              330911    7.8292   NaN        Q  \n1    female  47.0      1      0              363272    7.0000   NaN        S  \n2      male  62.0      0      0              240276    9.6875   NaN        Q  \n3      male  27.0      0      0              315154    8.6625   NaN        S  \n4    female  22.0      1      1             3101298   12.2875   NaN        S  \n..      ...   ...    ...    ...                 ...       ...   ...      ...  \n413    male   NaN      0      0           A.5. 3236    8.0500   NaN        S  \n414  female  39.0      0      0            PC 17758  108.9000  C105        C  \n415    male  38.5      0      0  SOTON/O.Q. 3101262    7.2500   NaN        S  \n416    male   NaN      0      0              359309    8.0500   NaN        S  \n417    male   NaN      1      1                2668   22.3583   NaN        C  \n\n[418 rows x 11 columns]>"
     },
     "execution_count": 22,
     "metadata": {},
     "output_type": "execute_result"
    }
   ],
   "source": [
    "df_test.info"
   ],
   "metadata": {
    "collapsed": false,
    "ExecuteTime": {
     "end_time": "2023-12-14T13:43:29.947733850Z",
     "start_time": "2023-12-14T13:43:29.720105221Z"
    }
   },
   "id": "58ce92d6ce49c817"
  },
  {
   "cell_type": "code",
   "execution_count": 23,
   "outputs": [],
   "source": [
    "df=funct_normalize(df_test)"
   ],
   "metadata": {
    "collapsed": false,
    "ExecuteTime": {
     "end_time": "2023-12-14T13:43:30.649207103Z",
     "start_time": "2023-12-14T13:43:30.433477103Z"
    }
   },
   "id": "264ada8f5c45e886"
  },
  {
   "cell_type": "code",
   "execution_count": 24,
   "outputs": [
    {
     "data": {
      "text/plain": "<bound method DataFrame.info of      PassengerId  Pclass   Age  SibSp  Parch      Fare  Sex_female  Sex_male  \\\n0            892       3  34.5      0      0    7.8292           0         1   \n1            893       3  47.0      1      0    7.0000           1         0   \n2            894       2  62.0      0      0    9.6875           0         1   \n3            895       3  27.0      0      0    8.6625           0         1   \n4            896       3  22.0      1      1   12.2875           1         0   \n..           ...     ...   ...    ...    ...       ...         ...       ...   \n413         1305       3  27.0      0      0    8.0500           0         1   \n414         1306       1  39.0      0      0  108.9000           1         0   \n415         1307       3  38.5      0      0    7.2500           0         1   \n416         1308       3  27.0      0      0    8.0500           0         1   \n417         1309       3  27.0      1      1   22.3583           0         1   \n\n     Cabin_A  Cabin_B  Cabin_C  Cabin_D  Cabin_E  Cabin_F  Cabin_G  Cabin_Z  \\\n0          0        0        0        0        0        0        0        1   \n1          0        0        0        0        0        0        0        1   \n2          0        0        0        0        0        0        0        1   \n3          0        0        0        0        0        0        0        1   \n4          0        0        0        0        0        0        0        1   \n..       ...      ...      ...      ...      ...      ...      ...      ...   \n413        0        0        0        0        0        0        0        1   \n414        0        0        1        0        0        0        0        0   \n415        0        0        0        0        0        0        0        1   \n416        0        0        0        0        0        0        0        1   \n417        0        0        0        0        0        0        0        1   \n\n     Embarked_C  Embarked_Q  Embarked_S  \n0             0           1           0  \n1             0           0           1  \n2             0           1           0  \n3             0           0           1  \n4             0           0           1  \n..          ...         ...         ...  \n413           0           0           1  \n414           1           0           0  \n415           0           0           1  \n416           0           0           1  \n417           1           0           0  \n\n[418 rows x 19 columns]>"
     },
     "execution_count": 24,
     "metadata": {},
     "output_type": "execute_result"
    }
   ],
   "source": [
    "df.info"
   ],
   "metadata": {
    "collapsed": false,
    "ExecuteTime": {
     "end_time": "2023-12-14T13:43:31.163338672Z",
     "start_time": "2023-12-14T13:43:30.985270303Z"
    }
   },
   "id": "6c8b0f1f26d7a4ab"
  },
  {
   "cell_type": "code",
   "execution_count": 25,
   "outputs": [],
   "source": [
    "from sklearn.ensemble import RandomForestClassifier\n",
    "from sklearn.model_selection import train_test_split"
   ],
   "metadata": {
    "collapsed": false,
    "ExecuteTime": {
     "end_time": "2023-12-14T13:43:33.091037038Z",
     "start_time": "2023-12-14T13:43:31.735180297Z"
    }
   },
   "id": "7d4886ebeedce80a"
  },
  {
   "cell_type": "code",
   "execution_count": 26,
   "outputs": [],
   "source": [
    "target = df_exploit['Survived']\n",
    "features = df_exploit.drop('Survived', axis=1)"
   ],
   "metadata": {
    "collapsed": false,
    "ExecuteTime": {
     "end_time": "2023-12-14T13:43:33.103177770Z",
     "start_time": "2023-12-14T13:43:33.077675520Z"
    }
   },
   "id": "1421653e72a5d182"
  },
  {
   "cell_type": "code",
   "execution_count": 27,
   "outputs": [],
   "source": [
    "X_train, X_test,y_train, y_test = train_test_split(features,target, test_size=0.3, random_state=3142)"
   ],
   "metadata": {
    "collapsed": false,
    "ExecuteTime": {
     "end_time": "2023-12-14T13:43:34.569028798Z",
     "start_time": "2023-12-14T13:43:34.431368430Z"
    }
   },
   "id": "7ace707e7507dc59"
  },
  {
   "cell_type": "code",
   "execution_count": 328,
   "outputs": [],
   "source": [
    "clf = RandomForestClassifier(max_depth=2, random_state=0, n_jobs=-1)"
   ],
   "metadata": {
    "collapsed": false,
    "ExecuteTime": {
     "end_time": "2023-11-08T21:13:46.405372166Z",
     "start_time": "2023-11-08T21:13:46.358586773Z"
    }
   },
   "id": "f39a7bc19cf204bf"
  },
  {
   "cell_type": "code",
   "execution_count": 329,
   "outputs": [
    {
     "data": {
      "text/plain": "RandomForestClassifier(max_depth=2, n_jobs=-1, random_state=0)",
      "text/html": "<style>#sk-container-id-2 {color: black;}#sk-container-id-2 pre{padding: 0;}#sk-container-id-2 div.sk-toggleable {background-color: white;}#sk-container-id-2 label.sk-toggleable__label {cursor: pointer;display: block;width: 100%;margin-bottom: 0;padding: 0.3em;box-sizing: border-box;text-align: center;}#sk-container-id-2 label.sk-toggleable__label-arrow:before {content: \"▸\";float: left;margin-right: 0.25em;color: #696969;}#sk-container-id-2 label.sk-toggleable__label-arrow:hover:before {color: black;}#sk-container-id-2 div.sk-estimator:hover label.sk-toggleable__label-arrow:before {color: black;}#sk-container-id-2 div.sk-toggleable__content {max-height: 0;max-width: 0;overflow: hidden;text-align: left;background-color: #f0f8ff;}#sk-container-id-2 div.sk-toggleable__content pre {margin: 0.2em;color: black;border-radius: 0.25em;background-color: #f0f8ff;}#sk-container-id-2 input.sk-toggleable__control:checked~div.sk-toggleable__content {max-height: 200px;max-width: 100%;overflow: auto;}#sk-container-id-2 input.sk-toggleable__control:checked~label.sk-toggleable__label-arrow:before {content: \"▾\";}#sk-container-id-2 div.sk-estimator input.sk-toggleable__control:checked~label.sk-toggleable__label {background-color: #d4ebff;}#sk-container-id-2 div.sk-label input.sk-toggleable__control:checked~label.sk-toggleable__label {background-color: #d4ebff;}#sk-container-id-2 input.sk-hidden--visually {border: 0;clip: rect(1px 1px 1px 1px);clip: rect(1px, 1px, 1px, 1px);height: 1px;margin: -1px;overflow: hidden;padding: 0;position: absolute;width: 1px;}#sk-container-id-2 div.sk-estimator {font-family: monospace;background-color: #f0f8ff;border: 1px dotted black;border-radius: 0.25em;box-sizing: border-box;margin-bottom: 0.5em;}#sk-container-id-2 div.sk-estimator:hover {background-color: #d4ebff;}#sk-container-id-2 div.sk-parallel-item::after {content: \"\";width: 100%;border-bottom: 1px solid gray;flex-grow: 1;}#sk-container-id-2 div.sk-label:hover label.sk-toggleable__label {background-color: #d4ebff;}#sk-container-id-2 div.sk-serial::before {content: \"\";position: absolute;border-left: 1px solid gray;box-sizing: border-box;top: 0;bottom: 0;left: 50%;z-index: 0;}#sk-container-id-2 div.sk-serial {display: flex;flex-direction: column;align-items: center;background-color: white;padding-right: 0.2em;padding-left: 0.2em;position: relative;}#sk-container-id-2 div.sk-item {position: relative;z-index: 1;}#sk-container-id-2 div.sk-parallel {display: flex;align-items: stretch;justify-content: center;background-color: white;position: relative;}#sk-container-id-2 div.sk-item::before, #sk-container-id-2 div.sk-parallel-item::before {content: \"\";position: absolute;border-left: 1px solid gray;box-sizing: border-box;top: 0;bottom: 0;left: 50%;z-index: -1;}#sk-container-id-2 div.sk-parallel-item {display: flex;flex-direction: column;z-index: 1;position: relative;background-color: white;}#sk-container-id-2 div.sk-parallel-item:first-child::after {align-self: flex-end;width: 50%;}#sk-container-id-2 div.sk-parallel-item:last-child::after {align-self: flex-start;width: 50%;}#sk-container-id-2 div.sk-parallel-item:only-child::after {width: 0;}#sk-container-id-2 div.sk-dashed-wrapped {border: 1px dashed gray;margin: 0 0.4em 0.5em 0.4em;box-sizing: border-box;padding-bottom: 0.4em;background-color: white;}#sk-container-id-2 div.sk-label label {font-family: monospace;font-weight: bold;display: inline-block;line-height: 1.2em;}#sk-container-id-2 div.sk-label-container {text-align: center;}#sk-container-id-2 div.sk-container {/* jupyter's `normalize.less` sets `[hidden] { display: none; }` but bootstrap.min.css set `[hidden] { display: none !important; }` so we also need the `!important` here to be able to override the default hidden behavior on the sphinx rendered scikit-learn.org. See: https://github.com/scikit-learn/scikit-learn/issues/21755 */display: inline-block !important;position: relative;}#sk-container-id-2 div.sk-text-repr-fallback {display: none;}</style><div id=\"sk-container-id-2\" class=\"sk-top-container\"><div class=\"sk-text-repr-fallback\"><pre>RandomForestClassifier(max_depth=2, n_jobs=-1, random_state=0)</pre><b>In a Jupyter environment, please rerun this cell to show the HTML representation or trust the notebook. <br />On GitHub, the HTML representation is unable to render, please try loading this page with nbviewer.org.</b></div><div class=\"sk-container\" hidden><div class=\"sk-item\"><div class=\"sk-estimator sk-toggleable\"><input class=\"sk-toggleable__control sk-hidden--visually\" id=\"sk-estimator-id-2\" type=\"checkbox\" checked><label for=\"sk-estimator-id-2\" class=\"sk-toggleable__label sk-toggleable__label-arrow\">RandomForestClassifier</label><div class=\"sk-toggleable__content\"><pre>RandomForestClassifier(max_depth=2, n_jobs=-1, random_state=0)</pre></div></div></div></div></div>"
     },
     "execution_count": 329,
     "metadata": {},
     "output_type": "execute_result"
    }
   ],
   "source": [
    "clf.fit(X_train,y_train)"
   ],
   "metadata": {
    "collapsed": false,
    "ExecuteTime": {
     "end_time": "2023-11-08T21:13:48.709261114Z",
     "start_time": "2023-11-08T21:13:48.132574903Z"
    }
   },
   "id": "5acb8ede6fc2a3cb"
  },
  {
   "cell_type": "code",
   "execution_count": 25,
   "outputs": [
    {
     "data": {
      "text/plain": "(623, 20)"
     },
     "execution_count": 25,
     "metadata": {},
     "output_type": "execute_result"
    }
   ],
   "source": [
    "X_train.shape"
   ],
   "metadata": {
    "collapsed": false,
    "ExecuteTime": {
     "end_time": "2023-12-14T12:07:15.128359860Z",
     "start_time": "2023-12-14T12:07:14.907538546Z"
    }
   },
   "id": "e34c68537dd7abaa"
  },
  {
   "cell_type": "code",
   "execution_count": 26,
   "outputs": [
    {
     "data": {
      "text/plain": "(623,)"
     },
     "execution_count": 26,
     "metadata": {},
     "output_type": "execute_result"
    }
   ],
   "source": [
    "y_train.shape"
   ],
   "metadata": {
    "collapsed": false,
    "ExecuteTime": {
     "end_time": "2023-12-14T12:07:16.196815468Z",
     "start_time": "2023-12-14T12:07:15.965865643Z"
    }
   },
   "id": "ce8b66a9cd85fc2d"
  },
  {
   "cell_type": "code",
   "execution_count": 332,
   "outputs": [
    {
     "data": {
      "text/plain": "0.797752808988764"
     },
     "execution_count": 332,
     "metadata": {},
     "output_type": "execute_result"
    }
   ],
   "source": [
    "clf.score(X_test, y_test)"
   ],
   "metadata": {
    "collapsed": false,
    "ExecuteTime": {
     "end_time": "2023-11-08T21:13:56.783238156Z",
     "start_time": "2023-11-08T21:13:56.219706875Z"
    }
   },
   "id": "cb8bf4ad053501a9"
  },
  {
   "cell_type": "code",
   "execution_count": 333,
   "outputs": [],
   "source": [
    "y_pred = clf.predict(X_test)"
   ],
   "metadata": {
    "collapsed": false,
    "ExecuteTime": {
     "end_time": "2023-11-08T21:14:09.131764685Z",
     "start_time": "2023-11-08T21:14:08.609956049Z"
    }
   },
   "id": "75f8719e23c374f"
  },
  {
   "cell_type": "code",
   "execution_count": 334,
   "outputs": [
    {
     "data": {
      "text/plain": "col_0       0   1\nSurvived         \n0         150  19\n1          35  63",
      "text/html": "<div>\n<style scoped>\n    .dataframe tbody tr th:only-of-type {\n        vertical-align: middle;\n    }\n\n    .dataframe tbody tr th {\n        vertical-align: top;\n    }\n\n    .dataframe thead th {\n        text-align: right;\n    }\n</style>\n<table border=\"1\" class=\"dataframe\">\n  <thead>\n    <tr style=\"text-align: right;\">\n      <th>col_0</th>\n      <th>0</th>\n      <th>1</th>\n    </tr>\n    <tr>\n      <th>Survived</th>\n      <th></th>\n      <th></th>\n    </tr>\n  </thead>\n  <tbody>\n    <tr>\n      <th>0</th>\n      <td>150</td>\n      <td>19</td>\n    </tr>\n    <tr>\n      <th>1</th>\n      <td>35</td>\n      <td>63</td>\n    </tr>\n  </tbody>\n</table>\n</div>"
     },
     "execution_count": 334,
     "metadata": {},
     "output_type": "execute_result"
    }
   ],
   "source": [
    "pd.crosstab(y_test,y_pred)"
   ],
   "metadata": {
    "collapsed": false,
    "ExecuteTime": {
     "end_time": "2023-11-08T21:14:11.145501413Z",
     "start_time": "2023-11-08T21:14:10.794763900Z"
    }
   },
   "id": "f0449500eb9d81a9"
  },
  {
   "cell_type": "code",
   "execution_count": 28,
   "outputs": [],
   "source": [
    "from tensorflow.keras.layers import Input, Dense, Dropout, Flatten, Conv1D, MaxPooling1D,GlobalAveragePooling1D\n",
    "from tensorflow.keras.models import Model, Sequential\n",
    "from tensorflow.keras.utils import to_categorical\n",
    "from tensorflow.keras.callbacks import EarlyStopping, ReduceLROnPlateau\n",
    "from tensorflow.keras.optimizers.legacy import Adam"
   ],
   "metadata": {
    "collapsed": false,
    "ExecuteTime": {
     "end_time": "2023-12-14T13:43:39.201158890Z",
     "start_time": "2023-12-14T13:43:38.790580930Z"
    }
   },
   "id": "97b39dc264a0014a"
  },
  {
   "cell_type": "code",
   "execution_count": 56,
   "outputs": [],
   "source": [
    "from keras.callbacks import ModelCheckpoint\n",
    "\n",
    "early_stopping = EarlyStopping(monitor = 'accuracy',\n",
    "                               min_delta = 0.001,\n",
    "                               patience = 0,\n",
    "                               verbose = 1,\n",
    "                               mode = 'max',\n",
    "                               restore_best_weights = True,\n",
    "                               start_from_epoch =250)\n",
    "\n",
    "reduce_learning_rate = ReduceLROnPlateau(monitor = 'val_loss',\n",
    "                                         min_delta = 0.01,\n",
    "                                         min_lr=0.01,\n",
    "                                         patience = 5,\n",
    "                                         factor = 0.1,\n",
    "                                         cooldown = 4,\n",
    "                                         verbose = 1)\n",
    "preserve_accuracy = ReduceLROnPlateau(monitor = 'val_accuracy',\n",
    "                                         min_delta = 0.01,\n",
    "                                         min_lr=0.01,\n",
    "                                         patience = 5,\n",
    "                                         factor = 0.1,\n",
    "                                         mode = 'max',\n",
    "                                         cooldown = 4,\n",
    "                                         verbose = 1)\n",
    "cp_callback = ModelCheckpoint(filepath='./checkpoint_path',\n",
    "                                                 save_best_only=True,\n",
    "                                                 verbose=1)"
   ],
   "metadata": {
    "collapsed": false,
    "ExecuteTime": {
     "end_time": "2023-12-14T13:51:52.220485967Z",
     "start_time": "2023-12-14T13:51:52.155255308Z"
    }
   },
   "id": "aaf71f812f16b58d"
  },
  {
   "cell_type": "code",
   "execution_count": 57,
   "outputs": [],
   "source": [
    "X_train, X_test,y_train, y_test = train_test_split(features,target, test_size=0.3, random_state=3142)"
   ],
   "metadata": {
    "collapsed": false,
    "ExecuteTime": {
     "end_time": "2023-12-14T13:51:53.078960681Z",
     "start_time": "2023-12-14T13:51:52.876288623Z"
    }
   },
   "id": "38bd7159083b7bc5"
  },
  {
   "cell_type": "code",
   "execution_count": 58,
   "outputs": [
    {
     "name": "stdout",
     "output_type": "stream",
     "text": [
      "Model: \"model_5\"\n",
      "_________________________________________________________________\n",
      " Layer (type)                Output Shape              Param #   \n",
      "=================================================================\n",
      " Input (InputLayer)          [(None, 20)]              0         \n",
      "                                                                 \n",
      " dense4 (Dense)              (None, 40)                840       \n",
      "                                                                 \n",
      " dense6 (Dense)              (None, 10)                410       \n",
      "                                                                 \n",
      " dense8 (Dense)              (None, 6)                 66        \n",
      "                                                                 \n",
      " dense10 (Dense)             (None, 2)                 14        \n",
      "                                                                 \n",
      "=================================================================\n",
      "Total params: 1,330\n",
      "Trainable params: 1,330\n",
      "Non-trainable params: 0\n",
      "_________________________________________________________________\n"
     ]
    }
   ],
   "source": [
    "batch_size = 256\n",
    "epochs = 1500\n",
    "\n",
    "inputs = Input(shape = X_train.shape[1], name = \"Input\")\n",
    "#dense1 = Dense(units = 100, activation = \"tanh\", name = \"dense1\", kernel_initializer=\"normal\")\n",
    "#dense2 = Dense(units = 80, activation = \"relu\", name = \"dense2\", kernel_initializer=\"normal\")\n",
    "#dense3 = Dense(units = 60, activation = \"tanh\", name = \"dense3\", kernel_initializer=\"normal\")\n",
    "dense4 = Dense(units = 40, activation = \"relu\", name = \"dense4\", kernel_initializer=\"normal\")\n",
    "#dense5 = Dense(units = 20, activation = \"tanh\", name = \"dense5\", kernel_initializer=\"normal\")\n",
    "dense6 = Dense(units = 10, activation = \"relu\", name = \"dense6\", kernel_initializer=\"normal\")\n",
    "#dense7 = Dense(units = 8, activation = \"tanh\", name = \"dense7\", kernel_initializer=\"normal\")\n",
    "dense8 = Dense(units = 6, activation = \"relu\", name = \"dense8\", kernel_initializer=\"normal\")\n",
    "#dense9 = Dense(units = 4, activation = \"tanh\", name = \"dense9\", kernel_initializer=\"normal\")\n",
    "dense10 = Dense(units = 2, activation = \"softmax\", name = \"dense10\", kernel_initializer=\"normal\")\n",
    "\n",
    "#x = dense5()\n",
    "#x = dense2(x)\n",
    "#x = dense3(x)\n",
    "x = dense4(inputs)\n",
    "#x = dense5(x)\n",
    "x = dense6(x)\n",
    "#x = dense7(x)\n",
    "x = dense8(x)\n",
    "#x = dense9(x)\n",
    "outputs = dense10(x)\n",
    "\n",
    "model_b = Model(inputs = inputs, outputs = outputs)\n",
    "model_b.summary()\n",
    "\n"
   ],
   "metadata": {
    "collapsed": false,
    "ExecuteTime": {
     "end_time": "2023-12-14T13:51:53.856291890Z",
     "start_time": "2023-12-14T13:51:53.442070008Z"
    }
   },
   "id": "ae3803e1bb2c657"
  },
  {
   "cell_type": "code",
   "execution_count": 59,
   "outputs": [],
   "source": [
    "y_train = to_categorical(y_train,2)\n",
    "y_test = to_categorical(y_test,2)"
   ],
   "metadata": {
    "collapsed": false,
    "ExecuteTime": {
     "end_time": "2023-12-14T13:51:54.576557357Z",
     "start_time": "2023-12-14T13:51:54.451606009Z"
    }
   },
   "id": "7c72b2da8f9b7cfe"
  },
  {
   "cell_type": "code",
   "execution_count": 60,
   "outputs": [
    {
     "name": "stdout",
     "output_type": "stream",
     "text": [
      "Epoch 1/1500\n",
      "2/2 [==============================] - 3s 415ms/step - loss: 0.6941 - accuracy: 0.4036 - val_loss: 0.6934 - val_accuracy: 0.4320 - lr: 0.0010\n",
      "Epoch 2/1500\n",
      "2/2 [==============================] - 0s 67ms/step - loss: 0.6931 - accuracy: 0.5361 - val_loss: 0.6925 - val_accuracy: 0.6640 - lr: 0.0010\n",
      "Epoch 3/1500\n",
      "2/2 [==============================] - 0s 102ms/step - loss: 0.6926 - accuracy: 0.6185 - val_loss: 0.6922 - val_accuracy: 0.6640 - lr: 0.0010\n",
      "Epoch 4/1500\n",
      "2/2 [==============================] - 0s 101ms/step - loss: 0.6924 - accuracy: 0.6185 - val_loss: 0.6919 - val_accuracy: 0.6640 - lr: 0.0010\n",
      "Epoch 5/1500\n",
      "2/2 [==============================] - 0s 96ms/step - loss: 0.6922 - accuracy: 0.6205 - val_loss: 0.6916 - val_accuracy: 0.6640 - lr: 0.0010\n",
      "Epoch 6/1500\n",
      "2/2 [==============================] - 0s 111ms/step - loss: 0.6919 - accuracy: 0.6205 - val_loss: 0.6912 - val_accuracy: 0.6640 - lr: 0.0010\n",
      "Epoch 7/1500\n",
      "2/2 [==============================] - 0s 136ms/step - loss: 0.6917 - accuracy: 0.6205 - val_loss: 0.6909 - val_accuracy: 0.6640 - lr: 0.0010\n",
      "Epoch 8/1500\n",
      "2/2 [==============================] - 0s 147ms/step - loss: 0.6915 - accuracy: 0.6205 - val_loss: 0.6906 - val_accuracy: 0.6640 - lr: 0.0010\n",
      "Epoch 9/1500\n",
      "2/2 [==============================] - 0s 154ms/step - loss: 0.6912 - accuracy: 0.6205 - val_loss: 0.6902 - val_accuracy: 0.6640 - lr: 0.0010\n",
      "Epoch 10/1500\n",
      "2/2 [==============================] - 0s 107ms/step - loss: 0.6910 - accuracy: 0.6225 - val_loss: 0.6899 - val_accuracy: 0.6640 - lr: 0.0010\n",
      "Epoch 11/1500\n",
      "2/2 [==============================] - 0s 131ms/step - loss: 0.6907 - accuracy: 0.6245 - val_loss: 0.6896 - val_accuracy: 0.6720 - lr: 0.0010\n",
      "Epoch 12/1500\n",
      "2/2 [==============================] - 0s 117ms/step - loss: 0.6904 - accuracy: 0.6245 - val_loss: 0.6891 - val_accuracy: 0.6720 - lr: 0.0010\n",
      "Epoch 13/1500\n",
      "2/2 [==============================] - 0s 97ms/step - loss: 0.6901 - accuracy: 0.6265 - val_loss: 0.6887 - val_accuracy: 0.6800 - lr: 0.0010\n",
      "Epoch 14/1500\n",
      "2/2 [==============================] - 0s 88ms/step - loss: 0.6897 - accuracy: 0.6245 - val_loss: 0.6884 - val_accuracy: 0.6880 - lr: 0.0010\n",
      "Epoch 15/1500\n",
      "2/2 [==============================] - 0s 95ms/step - loss: 0.6893 - accuracy: 0.6305 - val_loss: 0.6878 - val_accuracy: 0.6880 - lr: 0.0010\n",
      "Epoch 16/1500\n",
      "2/2 [==============================] - 0s 89ms/step - loss: 0.6889 - accuracy: 0.6345 - val_loss: 0.6873 - val_accuracy: 0.6960 - lr: 0.0010\n",
      "Epoch 17/1500\n",
      "2/2 [==============================] - 0s 112ms/step - loss: 0.6883 - accuracy: 0.6406 - val_loss: 0.6869 - val_accuracy: 0.6880 - lr: 0.0010\n",
      "Epoch 18/1500\n",
      "2/2 [==============================] - 0s 109ms/step - loss: 0.6878 - accuracy: 0.6426 - val_loss: 0.6863 - val_accuracy: 0.6880 - lr: 0.0010\n",
      "Epoch 19/1500\n",
      "2/2 [==============================] - 0s 112ms/step - loss: 0.6872 - accuracy: 0.6546 - val_loss: 0.6858 - val_accuracy: 0.7120 - lr: 0.0010\n",
      "Epoch 20/1500\n",
      "2/2 [==============================] - 0s 110ms/step - loss: 0.6866 - accuracy: 0.6627 - val_loss: 0.6855 - val_accuracy: 0.6960 - lr: 0.0010\n",
      "Epoch 21/1500\n",
      "2/2 [==============================] - 0s 101ms/step - loss: 0.6858 - accuracy: 0.6667 - val_loss: 0.6846 - val_accuracy: 0.7040 - lr: 0.0010\n",
      "Epoch 22/1500\n",
      "2/2 [==============================] - 0s 118ms/step - loss: 0.6851 - accuracy: 0.6687 - val_loss: 0.6841 - val_accuracy: 0.7200 - lr: 0.0010\n",
      "Epoch 23/1500\n",
      "2/2 [==============================] - 0s 124ms/step - loss: 0.6841 - accuracy: 0.6847 - val_loss: 0.6842 - val_accuracy: 0.6720 - lr: 0.0010\n",
      "Epoch 24/1500\n",
      "2/2 [==============================] - 0s 109ms/step - loss: 0.6834 - accuracy: 0.6867 - val_loss: 0.6827 - val_accuracy: 0.6960 - lr: 0.0010\n",
      "Epoch 25/1500\n",
      "2/2 [==============================] - 0s 90ms/step - loss: 0.6825 - accuracy: 0.6827 - val_loss: 0.6817 - val_accuracy: 0.6960 - lr: 0.0010\n",
      "Epoch 26/1500\n",
      "2/2 [==============================] - 0s 103ms/step - loss: 0.6813 - accuracy: 0.6747 - val_loss: 0.6812 - val_accuracy: 0.6640 - lr: 0.0010\n",
      "Epoch 27/1500\n",
      "2/2 [==============================] - 0s 105ms/step - loss: 0.6798 - accuracy: 0.6687 - val_loss: 0.6803 - val_accuracy: 0.6480 - lr: 0.0010\n",
      "Epoch 28/1500\n",
      "2/2 [==============================] - 0s 121ms/step - loss: 0.6781 - accuracy: 0.6727 - val_loss: 0.6776 - val_accuracy: 0.6640 - lr: 0.0010\n",
      "Epoch 29/1500\n",
      "2/2 [==============================] - 0s 103ms/step - loss: 0.6756 - accuracy: 0.6747 - val_loss: 0.6710 - val_accuracy: 0.6720 - lr: 0.0010\n",
      "Epoch 30/1500\n",
      "2/2 [==============================] - 0s 104ms/step - loss: 0.6711 - accuracy: 0.6667 - val_loss: 0.6629 - val_accuracy: 0.6880 - lr: 0.0010\n",
      "Epoch 31/1500\n",
      "2/2 [==============================] - 0s 103ms/step - loss: 0.6651 - accuracy: 0.6586 - val_loss: 0.6552 - val_accuracy: 0.6800 - lr: 0.0010\n",
      "Epoch 32/1500\n",
      "2/2 [==============================] - 0s 101ms/step - loss: 0.6591 - accuracy: 0.6526 - val_loss: 0.6477 - val_accuracy: 0.6800 - lr: 0.0010\n",
      "Epoch 33/1500\n",
      "2/2 [==============================] - 0s 118ms/step - loss: 0.6533 - accuracy: 0.6546 - val_loss: 0.6389 - val_accuracy: 0.6800 - lr: 0.0010\n",
      "Epoch 34/1500\n",
      "2/2 [==============================] - 0s 113ms/step - loss: 0.6463 - accuracy: 0.6546 - val_loss: 0.6328 - val_accuracy: 0.6800 - lr: 0.0010\n",
      "Epoch 35/1500\n",
      "2/2 [==============================] - 0s 113ms/step - loss: 0.6407 - accuracy: 0.6546 - val_loss: 0.6281 - val_accuracy: 0.6720 - lr: 0.0010\n",
      "Epoch 36/1500\n",
      "2/2 [==============================] - 0s 98ms/step - loss: 0.6347 - accuracy: 0.6586 - val_loss: 0.6256 - val_accuracy: 0.6720 - lr: 0.0010\n",
      "Epoch 37/1500\n",
      "2/2 [==============================] - 0s 93ms/step - loss: 0.6308 - accuracy: 0.6647 - val_loss: 0.6196 - val_accuracy: 0.6800 - lr: 0.0010\n",
      "Epoch 38/1500\n",
      "2/2 [==============================] - 0s 115ms/step - loss: 0.6264 - accuracy: 0.6586 - val_loss: 0.6115 - val_accuracy: 0.6720 - lr: 0.0010\n",
      "Epoch 39/1500\n",
      "2/2 [==============================] - 0s 112ms/step - loss: 0.6243 - accuracy: 0.6546 - val_loss: 0.6102 - val_accuracy: 0.6800 - lr: 0.0010\n",
      "Epoch 40/1500\n",
      "2/2 [==============================] - 0s 114ms/step - loss: 0.6215 - accuracy: 0.6586 - val_loss: 0.6153 - val_accuracy: 0.6720 - lr: 0.0010\n",
      "Epoch 41/1500\n",
      "2/2 [==============================] - 0s 119ms/step - loss: 0.6176 - accuracy: 0.6727 - val_loss: 0.6201 - val_accuracy: 0.6640 - lr: 0.0010\n",
      "Epoch 42/1500\n",
      "2/2 [==============================] - 0s 114ms/step - loss: 0.6165 - accuracy: 0.6767 - val_loss: 0.6199 - val_accuracy: 0.6720 - lr: 0.0010\n",
      "Epoch 43/1500\n",
      "2/2 [==============================] - 0s 115ms/step - loss: 0.6123 - accuracy: 0.6787 - val_loss: 0.6118 - val_accuracy: 0.6720 - lr: 0.0010\n",
      "Epoch 44/1500\n",
      "2/2 [==============================] - 0s 93ms/step - loss: 0.6116 - accuracy: 0.6747 - val_loss: 0.6100 - val_accuracy: 0.6720 - lr: 0.0010\n",
      "Epoch 45/1500\n",
      "2/2 [==============================] - 0s 115ms/step - loss: 0.6094 - accuracy: 0.6727 - val_loss: 0.6184 - val_accuracy: 0.6800 - lr: 0.0010\n",
      "Epoch 46/1500\n",
      "2/2 [==============================] - 0s 109ms/step - loss: 0.6071 - accuracy: 0.6847 - val_loss: 0.6239 - val_accuracy: 0.6480 - lr: 0.0010\n",
      "Epoch 47/1500\n",
      "2/2 [==============================] - 0s 114ms/step - loss: 0.6053 - accuracy: 0.6807 - val_loss: 0.6167 - val_accuracy: 0.6800 - lr: 0.0010\n",
      "Epoch 48/1500\n",
      "2/2 [==============================] - 0s 93ms/step - loss: 0.6015 - accuracy: 0.6847 - val_loss: 0.6103 - val_accuracy: 0.6640 - lr: 0.0010\n",
      "Epoch 49/1500\n",
      "2/2 [==============================] - 0s 123ms/step - loss: 0.6021 - accuracy: 0.6787 - val_loss: 0.6086 - val_accuracy: 0.6640 - lr: 0.0010\n",
      "Epoch 50/1500\n",
      "2/2 [==============================] - 0s 113ms/step - loss: 0.5991 - accuracy: 0.6807 - val_loss: 0.6169 - val_accuracy: 0.6480 - lr: 0.0010\n",
      "Epoch 51/1500\n",
      "2/2 [==============================] - 0s 111ms/step - loss: 0.6004 - accuracy: 0.6847 - val_loss: 0.6207 - val_accuracy: 0.6400 - lr: 0.0010\n",
      "Epoch 52/1500\n",
      "2/2 [==============================] - 0s 114ms/step - loss: 0.5942 - accuracy: 0.6867 - val_loss: 0.6068 - val_accuracy: 0.6640 - lr: 0.0010\n",
      "Epoch 53/1500\n",
      "2/2 [==============================] - 0s 103ms/step - loss: 0.5956 - accuracy: 0.6827 - val_loss: 0.6011 - val_accuracy: 0.6800 - lr: 0.0010\n",
      "Epoch 54/1500\n",
      "2/2 [==============================] - 0s 100ms/step - loss: 0.5924 - accuracy: 0.6888 - val_loss: 0.6061 - val_accuracy: 0.6560 - lr: 0.0010\n",
      "Epoch 55/1500\n",
      "2/2 [==============================] - 0s 118ms/step - loss: 0.5885 - accuracy: 0.6867 - val_loss: 0.6141 - val_accuracy: 0.6400 - lr: 0.0010\n",
      "Epoch 56/1500\n",
      "2/2 [==============================] - 0s 123ms/step - loss: 0.5894 - accuracy: 0.6807 - val_loss: 0.6054 - val_accuracy: 0.6480 - lr: 0.0010\n",
      "Epoch 57/1500\n",
      "2/2 [==============================] - 0s 82ms/step - loss: 0.5847 - accuracy: 0.6827 - val_loss: 0.6027 - val_accuracy: 0.6560 - lr: 0.0010\n",
      "Epoch 58/1500\n",
      "2/2 [==============================] - 0s 113ms/step - loss: 0.5831 - accuracy: 0.6807 - val_loss: 0.6008 - val_accuracy: 0.6560 - lr: 0.0010\n",
      "Epoch 59/1500\n",
      "2/2 [==============================] - 0s 85ms/step - loss: 0.5832 - accuracy: 0.6867 - val_loss: 0.6041 - val_accuracy: 0.6480 - lr: 0.0010\n",
      "Epoch 60/1500\n",
      "2/2 [==============================] - 0s 100ms/step - loss: 0.5803 - accuracy: 0.6948 - val_loss: 0.6021 - val_accuracy: 0.6480 - lr: 0.0010\n",
      "Epoch 61/1500\n",
      "2/2 [==============================] - 0s 112ms/step - loss: 0.5788 - accuracy: 0.6968 - val_loss: 0.6009 - val_accuracy: 0.6480 - lr: 0.0010\n",
      "Epoch 62/1500\n",
      "2/2 [==============================] - 0s 123ms/step - loss: 0.5776 - accuracy: 0.6988 - val_loss: 0.6033 - val_accuracy: 0.6480 - lr: 0.0010\n",
      "Epoch 63/1500\n",
      "2/2 [==============================] - 0s 92ms/step - loss: 0.5760 - accuracy: 0.6988 - val_loss: 0.6032 - val_accuracy: 0.6480 - lr: 0.0010\n",
      "Epoch 64/1500\n",
      "2/2 [==============================] - 0s 117ms/step - loss: 0.5751 - accuracy: 0.6988 - val_loss: 0.6020 - val_accuracy: 0.6480 - lr: 0.0010\n",
      "Epoch 65/1500\n",
      "2/2 [==============================] - 0s 140ms/step - loss: 0.5743 - accuracy: 0.7068 - val_loss: 0.6033 - val_accuracy: 0.6480 - lr: 0.0010\n",
      "Epoch 66/1500\n",
      "2/2 [==============================] - 0s 117ms/step - loss: 0.5727 - accuracy: 0.6988 - val_loss: 0.5993 - val_accuracy: 0.6480 - lr: 0.0010\n",
      "Epoch 67/1500\n",
      "2/2 [==============================] - 0s 100ms/step - loss: 0.5725 - accuracy: 0.6948 - val_loss: 0.6016 - val_accuracy: 0.6480 - lr: 0.0010\n",
      "Epoch 68/1500\n",
      "2/2 [==============================] - 0s 88ms/step - loss: 0.5717 - accuracy: 0.7028 - val_loss: 0.6048 - val_accuracy: 0.6400 - lr: 0.0010\n",
      "Epoch 69/1500\n",
      "2/2 [==============================] - 0s 106ms/step - loss: 0.5714 - accuracy: 0.7088 - val_loss: 0.6074 - val_accuracy: 0.6480 - lr: 0.0010\n",
      "Epoch 70/1500\n",
      "2/2 [==============================] - 0s 118ms/step - loss: 0.5707 - accuracy: 0.7149 - val_loss: 0.5896 - val_accuracy: 0.6720 - lr: 0.0010\n",
      "Epoch 71/1500\n",
      "2/2 [==============================] - 0s 112ms/step - loss: 0.5672 - accuracy: 0.6988 - val_loss: 0.5895 - val_accuracy: 0.6640 - lr: 0.0010\n",
      "Epoch 72/1500\n",
      "2/2 [==============================] - 0s 85ms/step - loss: 0.5643 - accuracy: 0.7088 - val_loss: 0.5973 - val_accuracy: 0.6480 - lr: 0.0010\n",
      "Epoch 73/1500\n",
      "2/2 [==============================] - 0s 99ms/step - loss: 0.5639 - accuracy: 0.7209 - val_loss: 0.5943 - val_accuracy: 0.6480 - lr: 0.0010\n",
      "Epoch 74/1500\n",
      "2/2 [==============================] - 0s 118ms/step - loss: 0.5626 - accuracy: 0.7169 - val_loss: 0.5921 - val_accuracy: 0.6480 - lr: 0.0010\n",
      "Epoch 75/1500\n",
      "2/2 [==============================] - 0s 91ms/step - loss: 0.5624 - accuracy: 0.6988 - val_loss: 0.5875 - val_accuracy: 0.6880 - lr: 0.0010\n",
      "Epoch 76/1500\n",
      "2/2 [==============================] - 0s 107ms/step - loss: 0.5595 - accuracy: 0.7088 - val_loss: 0.5972 - val_accuracy: 0.6480 - lr: 0.0010\n",
      "Epoch 77/1500\n",
      "2/2 [==============================] - 0s 115ms/step - loss: 0.5582 - accuracy: 0.7169 - val_loss: 0.5933 - val_accuracy: 0.6560 - lr: 0.0010\n",
      "Epoch 78/1500\n",
      "2/2 [==============================] - 0s 93ms/step - loss: 0.5562 - accuracy: 0.7169 - val_loss: 0.5873 - val_accuracy: 0.6800 - lr: 0.0010\n",
      "Epoch 79/1500\n",
      "2/2 [==============================] - 0s 79ms/step - loss: 0.5558 - accuracy: 0.7149 - val_loss: 0.5830 - val_accuracy: 0.6880 - lr: 0.0010\n",
      "Epoch 80/1500\n",
      "2/2 [==============================] - 0s 102ms/step - loss: 0.5534 - accuracy: 0.7108 - val_loss: 0.5886 - val_accuracy: 0.6640 - lr: 0.0010\n",
      "Epoch 81/1500\n",
      "2/2 [==============================] - 0s 115ms/step - loss: 0.5521 - accuracy: 0.7169 - val_loss: 0.5817 - val_accuracy: 0.6800 - lr: 0.0010\n",
      "Epoch 82/1500\n",
      "2/2 [==============================] - 0s 115ms/step - loss: 0.5513 - accuracy: 0.7108 - val_loss: 0.5788 - val_accuracy: 0.7040 - lr: 0.0010\n",
      "Epoch 83/1500\n",
      "2/2 [==============================] - 0s 115ms/step - loss: 0.5485 - accuracy: 0.7249 - val_loss: 0.5877 - val_accuracy: 0.6720 - lr: 0.0010\n",
      "Epoch 84/1500\n",
      "2/2 [==============================] - 0s 116ms/step - loss: 0.5480 - accuracy: 0.7209 - val_loss: 0.5797 - val_accuracy: 0.6880 - lr: 0.0010\n",
      "Epoch 85/1500\n",
      "2/2 [==============================] - 0s 87ms/step - loss: 0.5447 - accuracy: 0.7249 - val_loss: 0.5735 - val_accuracy: 0.7120 - lr: 0.0010\n",
      "Epoch 86/1500\n",
      "2/2 [==============================] - 0s 111ms/step - loss: 0.5448 - accuracy: 0.7209 - val_loss: 0.5764 - val_accuracy: 0.6960 - lr: 0.0010\n",
      "Epoch 87/1500\n",
      "2/2 [==============================] - 0s 125ms/step - loss: 0.5448 - accuracy: 0.7329 - val_loss: 0.5792 - val_accuracy: 0.6880 - lr: 0.0010\n",
      "Epoch 88/1500\n",
      "2/2 [==============================] - 0s 105ms/step - loss: 0.5391 - accuracy: 0.7349 - val_loss: 0.5662 - val_accuracy: 0.7280 - lr: 0.0010\n",
      "Epoch 89/1500\n",
      "2/2 [==============================] - 0s 87ms/step - loss: 0.5423 - accuracy: 0.7169 - val_loss: 0.5718 - val_accuracy: 0.7040 - lr: 0.0010\n",
      "Epoch 90/1500\n",
      "2/2 [==============================] - 0s 116ms/step - loss: 0.5351 - accuracy: 0.7349 - val_loss: 0.5859 - val_accuracy: 0.7040 - lr: 0.0010\n",
      "Epoch 91/1500\n",
      "2/2 [==============================] - 0s 93ms/step - loss: 0.5380 - accuracy: 0.7450 - val_loss: 0.5665 - val_accuracy: 0.7280 - lr: 0.0010\n",
      "Epoch 92/1500\n",
      "2/2 [==============================] - 0s 88ms/step - loss: 0.5333 - accuracy: 0.7390 - val_loss: 0.5668 - val_accuracy: 0.7280 - lr: 0.0010\n",
      "Epoch 93/1500\n",
      "2/2 [==============================] - 0s 109ms/step - loss: 0.5309 - accuracy: 0.7390 - val_loss: 0.5697 - val_accuracy: 0.7040 - lr: 0.0010\n",
      "Epoch 94/1500\n",
      "2/2 [==============================] - 0s 112ms/step - loss: 0.5301 - accuracy: 0.7390 - val_loss: 0.5635 - val_accuracy: 0.7360 - lr: 0.0010\n",
      "Epoch 95/1500\n",
      "2/2 [==============================] - 0s 118ms/step - loss: 0.5282 - accuracy: 0.7430 - val_loss: 0.5620 - val_accuracy: 0.7440 - lr: 0.0010\n",
      "Epoch 96/1500\n",
      "2/2 [==============================] - 0s 100ms/step - loss: 0.5322 - accuracy: 0.7309 - val_loss: 0.5682 - val_accuracy: 0.7040 - lr: 0.0010\n",
      "Epoch 97/1500\n",
      "2/2 [==============================] - 0s 112ms/step - loss: 0.5266 - accuracy: 0.7530 - val_loss: 0.5790 - val_accuracy: 0.7120 - lr: 0.0010\n",
      "Epoch 98/1500\n",
      "2/2 [==============================] - 0s 119ms/step - loss: 0.5242 - accuracy: 0.7570 - val_loss: 0.5608 - val_accuracy: 0.7440 - lr: 0.0010\n",
      "Epoch 99/1500\n",
      "2/2 [==============================] - 0s 107ms/step - loss: 0.5263 - accuracy: 0.7309 - val_loss: 0.5623 - val_accuracy: 0.7040 - lr: 0.0010\n",
      "Epoch 100/1500\n",
      "2/2 [==============================] - 0s 104ms/step - loss: 0.5225 - accuracy: 0.7530 - val_loss: 0.5721 - val_accuracy: 0.7200 - lr: 0.0010\n",
      "Epoch 101/1500\n",
      "2/2 [==============================] - 0s 115ms/step - loss: 0.5191 - accuracy: 0.7470 - val_loss: 0.5533 - val_accuracy: 0.7440 - lr: 0.0010\n",
      "Epoch 102/1500\n",
      "2/2 [==============================] - 0s 104ms/step - loss: 0.5233 - accuracy: 0.7329 - val_loss: 0.5588 - val_accuracy: 0.7360 - lr: 0.0010\n",
      "Epoch 103/1500\n",
      "2/2 [==============================] - 0s 120ms/step - loss: 0.5157 - accuracy: 0.7450 - val_loss: 0.5576 - val_accuracy: 0.7360 - lr: 0.0010\n",
      "Epoch 104/1500\n",
      "2/2 [==============================] - 0s 85ms/step - loss: 0.5145 - accuracy: 0.7530 - val_loss: 0.5564 - val_accuracy: 0.7280 - lr: 0.0010\n",
      "Epoch 105/1500\n",
      "2/2 [==============================] - 0s 105ms/step - loss: 0.5177 - accuracy: 0.7610 - val_loss: 0.5551 - val_accuracy: 0.7360 - lr: 0.0010\n",
      "Epoch 106/1500\n",
      "2/2 [==============================] - 0s 133ms/step - loss: 0.5118 - accuracy: 0.7470 - val_loss: 0.5513 - val_accuracy: 0.7520 - lr: 0.0010\n",
      "Epoch 107/1500\n",
      "2/2 [==============================] - 0s 107ms/step - loss: 0.5111 - accuracy: 0.7530 - val_loss: 0.5633 - val_accuracy: 0.7440 - lr: 0.0010\n",
      "Epoch 108/1500\n",
      "2/2 [==============================] - 0s 116ms/step - loss: 0.5183 - accuracy: 0.7631 - val_loss: 0.5580 - val_accuracy: 0.7680 - lr: 0.0010\n",
      "Epoch 109/1500\n",
      "2/2 [==============================] - 0s 115ms/step - loss: 0.5086 - accuracy: 0.7610 - val_loss: 0.5471 - val_accuracy: 0.7520 - lr: 0.0010\n",
      "Epoch 110/1500\n",
      "2/2 [==============================] - 0s 107ms/step - loss: 0.5114 - accuracy: 0.7390 - val_loss: 0.5629 - val_accuracy: 0.7440 - lr: 0.0010\n",
      "Epoch 111/1500\n",
      "2/2 [==============================] - 0s 95ms/step - loss: 0.5084 - accuracy: 0.7631 - val_loss: 0.5614 - val_accuracy: 0.7520 - lr: 0.0010\n",
      "Epoch 112/1500\n",
      "2/2 [==============================] - 0s 119ms/step - loss: 0.5069 - accuracy: 0.7590 - val_loss: 0.5449 - val_accuracy: 0.7520 - lr: 0.0010\n",
      "Epoch 113/1500\n",
      "2/2 [==============================] - 0s 108ms/step - loss: 0.5034 - accuracy: 0.7490 - val_loss: 0.5569 - val_accuracy: 0.7600 - lr: 0.0010\n",
      "Epoch 114/1500\n",
      "2/2 [==============================] - 0s 118ms/step - loss: 0.5039 - accuracy: 0.7550 - val_loss: 0.5571 - val_accuracy: 0.7520 - lr: 0.0010\n",
      "Epoch 115/1500\n",
      "2/2 [==============================] - 0s 88ms/step - loss: 0.4985 - accuracy: 0.7510 - val_loss: 0.5406 - val_accuracy: 0.7520 - lr: 0.0010\n",
      "Epoch 116/1500\n",
      "2/2 [==============================] - 0s 121ms/step - loss: 0.5014 - accuracy: 0.7450 - val_loss: 0.5508 - val_accuracy: 0.7680 - lr: 0.0010\n",
      "Epoch 117/1500\n",
      "2/2 [==============================] - 0s 114ms/step - loss: 0.4957 - accuracy: 0.7610 - val_loss: 0.5560 - val_accuracy: 0.7680 - lr: 0.0010\n",
      "Epoch 118/1500\n",
      "2/2 [==============================] - 0s 110ms/step - loss: 0.4954 - accuracy: 0.7550 - val_loss: 0.5377 - val_accuracy: 0.7520 - lr: 0.0010\n",
      "Epoch 119/1500\n",
      "2/2 [==============================] - 0s 85ms/step - loss: 0.4947 - accuracy: 0.7470 - val_loss: 0.5425 - val_accuracy: 0.7680 - lr: 0.0010\n",
      "Epoch 120/1500\n",
      "2/2 [==============================] - 0s 111ms/step - loss: 0.4911 - accuracy: 0.7631 - val_loss: 0.5492 - val_accuracy: 0.7680 - lr: 0.0010\n",
      "Epoch 121/1500\n",
      "2/2 [==============================] - 0s 119ms/step - loss: 0.4897 - accuracy: 0.7651 - val_loss: 0.5350 - val_accuracy: 0.7440 - lr: 0.0010\n",
      "Epoch 122/1500\n",
      "2/2 [==============================] - 0s 100ms/step - loss: 0.4892 - accuracy: 0.7490 - val_loss: 0.5370 - val_accuracy: 0.7680 - lr: 0.0010\n",
      "Epoch 123/1500\n",
      "2/2 [==============================] - 0s 109ms/step - loss: 0.4869 - accuracy: 0.7590 - val_loss: 0.5401 - val_accuracy: 0.7680 - lr: 0.0010\n",
      "Epoch 124/1500\n",
      "2/2 [==============================] - 0s 105ms/step - loss: 0.4872 - accuracy: 0.7510 - val_loss: 0.5324 - val_accuracy: 0.7680 - lr: 0.0010\n",
      "Epoch 125/1500\n",
      "2/2 [==============================] - 0s 106ms/step - loss: 0.4875 - accuracy: 0.7590 - val_loss: 0.5363 - val_accuracy: 0.7760 - lr: 0.0010\n",
      "Epoch 126/1500\n",
      "2/2 [==============================] - 0s 114ms/step - loss: 0.4823 - accuracy: 0.7651 - val_loss: 0.5278 - val_accuracy: 0.7520 - lr: 0.0010\n",
      "Epoch 127/1500\n",
      "2/2 [==============================] - 0s 113ms/step - loss: 0.4843 - accuracy: 0.7610 - val_loss: 0.5362 - val_accuracy: 0.7760 - lr: 0.0010\n",
      "Epoch 128/1500\n",
      "2/2 [==============================] - 0s 86ms/step - loss: 0.4791 - accuracy: 0.7691 - val_loss: 0.5265 - val_accuracy: 0.7680 - lr: 0.0010\n",
      "Epoch 129/1500\n",
      "2/2 [==============================] - 0s 113ms/step - loss: 0.4787 - accuracy: 0.7631 - val_loss: 0.5264 - val_accuracy: 0.7680 - lr: 0.0010\n",
      "Epoch 130/1500\n",
      "2/2 [==============================] - 0s 106ms/step - loss: 0.4799 - accuracy: 0.7731 - val_loss: 0.5269 - val_accuracy: 0.7760 - lr: 0.0010\n",
      "Epoch 131/1500\n",
      "2/2 [==============================] - 0s 110ms/step - loss: 0.4747 - accuracy: 0.7751 - val_loss: 0.5217 - val_accuracy: 0.7520 - lr: 0.0010\n",
      "Epoch 132/1500\n",
      "2/2 [==============================] - 0s 99ms/step - loss: 0.4782 - accuracy: 0.7530 - val_loss: 0.5322 - val_accuracy: 0.7760 - lr: 0.0010\n",
      "Epoch 133/1500\n",
      "2/2 [==============================] - 0s 119ms/step - loss: 0.4778 - accuracy: 0.7871 - val_loss: 0.5373 - val_accuracy: 0.7600 - lr: 0.0010\n",
      "Epoch 134/1500\n",
      "2/2 [==============================] - 0s 121ms/step - loss: 0.4743 - accuracy: 0.7691 - val_loss: 0.5196 - val_accuracy: 0.7600 - lr: 0.0010\n",
      "Epoch 135/1500\n",
      "2/2 [==============================] - 0s 117ms/step - loss: 0.4733 - accuracy: 0.7570 - val_loss: 0.5390 - val_accuracy: 0.7520 - lr: 0.0010\n",
      "Epoch 136/1500\n",
      "2/2 [==============================] - 0s 110ms/step - loss: 0.4732 - accuracy: 0.7892 - val_loss: 0.5268 - val_accuracy: 0.7600 - lr: 0.0010\n",
      "Epoch 137/1500\n",
      "2/2 [==============================] - 0s 100ms/step - loss: 0.4664 - accuracy: 0.7771 - val_loss: 0.5135 - val_accuracy: 0.7600 - lr: 0.0010\n",
      "Epoch 138/1500\n",
      "2/2 [==============================] - 0s 98ms/step - loss: 0.4677 - accuracy: 0.7691 - val_loss: 0.5192 - val_accuracy: 0.7680 - lr: 0.0010\n",
      "Epoch 139/1500\n",
      "2/2 [==============================] - 0s 113ms/step - loss: 0.4639 - accuracy: 0.7791 - val_loss: 0.5199 - val_accuracy: 0.7600 - lr: 0.0010\n",
      "Epoch 140/1500\n",
      "2/2 [==============================] - 0s 89ms/step - loss: 0.4626 - accuracy: 0.7811 - val_loss: 0.5178 - val_accuracy: 0.7680 - lr: 0.0010\n",
      "Epoch 141/1500\n",
      "2/2 [==============================] - 0s 110ms/step - loss: 0.4612 - accuracy: 0.7811 - val_loss: 0.5165 - val_accuracy: 0.7680 - lr: 0.0010\n",
      "Epoch 142/1500\n",
      "2/2 [==============================] - 0s 87ms/step - loss: 0.4597 - accuracy: 0.7811 - val_loss: 0.5193 - val_accuracy: 0.7520 - lr: 0.0010\n",
      "Epoch 143/1500\n",
      "2/2 [==============================] - 0s 116ms/step - loss: 0.4616 - accuracy: 0.7711 - val_loss: 0.5170 - val_accuracy: 0.7520 - lr: 0.0010\n",
      "Epoch 144/1500\n",
      "2/2 [==============================] - 0s 96ms/step - loss: 0.4574 - accuracy: 0.7791 - val_loss: 0.5187 - val_accuracy: 0.7520 - lr: 0.0010\n",
      "Epoch 145/1500\n",
      "2/2 [==============================] - 0s 82ms/step - loss: 0.4562 - accuracy: 0.7871 - val_loss: 0.5091 - val_accuracy: 0.7680 - lr: 0.0010\n",
      "Epoch 146/1500\n",
      "2/2 [==============================] - 0s 97ms/step - loss: 0.4562 - accuracy: 0.7791 - val_loss: 0.5092 - val_accuracy: 0.7520 - lr: 0.0010\n",
      "Epoch 147/1500\n",
      "2/2 [==============================] - 0s 93ms/step - loss: 0.4541 - accuracy: 0.7871 - val_loss: 0.5089 - val_accuracy: 0.7520 - lr: 0.0010\n",
      "Epoch 148/1500\n",
      "2/2 [==============================] - 0s 118ms/step - loss: 0.4525 - accuracy: 0.7791 - val_loss: 0.5054 - val_accuracy: 0.7520 - lr: 0.0010\n",
      "Epoch 149/1500\n",
      "2/2 [==============================] - 0s 121ms/step - loss: 0.4518 - accuracy: 0.7831 - val_loss: 0.5114 - val_accuracy: 0.7440 - lr: 0.0010\n",
      "Epoch 150/1500\n",
      "2/2 [==============================] - 0s 114ms/step - loss: 0.4492 - accuracy: 0.7892 - val_loss: 0.5109 - val_accuracy: 0.7600 - lr: 0.0010\n",
      "Epoch 151/1500\n",
      "2/2 [==============================] - 0s 89ms/step - loss: 0.4480 - accuracy: 0.7892 - val_loss: 0.5056 - val_accuracy: 0.7440 - lr: 0.0010\n",
      "Epoch 152/1500\n",
      "2/2 [==============================] - 0s 108ms/step - loss: 0.4519 - accuracy: 0.7851 - val_loss: 0.5110 - val_accuracy: 0.7600 - lr: 0.0010\n",
      "Epoch 153/1500\n",
      "2/2 [==============================] - 0s 119ms/step - loss: 0.4472 - accuracy: 0.7851 - val_loss: 0.5072 - val_accuracy: 0.7680 - lr: 0.0010\n",
      "Epoch 154/1500\n",
      "2/2 [==============================] - 0s 117ms/step - loss: 0.4459 - accuracy: 0.7912 - val_loss: 0.4990 - val_accuracy: 0.7440 - lr: 0.0010\n",
      "Epoch 155/1500\n",
      "2/2 [==============================] - 0s 110ms/step - loss: 0.4507 - accuracy: 0.7912 - val_loss: 0.5077 - val_accuracy: 0.7600 - lr: 0.0010\n",
      "Epoch 156/1500\n",
      "2/2 [==============================] - 0s 87ms/step - loss: 0.4416 - accuracy: 0.7892 - val_loss: 0.4978 - val_accuracy: 0.7200 - lr: 0.0010\n",
      "Epoch 157/1500\n",
      "2/2 [==============================] - 0s 110ms/step - loss: 0.4509 - accuracy: 0.7871 - val_loss: 0.5148 - val_accuracy: 0.7440 - lr: 0.0010\n",
      "Epoch 158/1500\n",
      "2/2 [==============================] - 0s 105ms/step - loss: 0.4631 - accuracy: 0.7892 - val_loss: 0.5001 - val_accuracy: 0.7680 - lr: 0.0010\n",
      "Epoch 159/1500\n",
      "2/2 [==============================] - 0s 110ms/step - loss: 0.4367 - accuracy: 0.7952 - val_loss: 0.4952 - val_accuracy: 0.7360 - lr: 0.0010\n",
      "Epoch 160/1500\n",
      "2/2 [==============================] - 0s 87ms/step - loss: 0.4474 - accuracy: 0.7992 - val_loss: 0.5253 - val_accuracy: 0.7440 - lr: 0.0010\n",
      "Epoch 161/1500\n",
      "2/2 [==============================] - 0s 97ms/step - loss: 0.4499 - accuracy: 0.8072 - val_loss: 0.4944 - val_accuracy: 0.7760 - lr: 0.0010\n",
      "Epoch 162/1500\n",
      "2/2 [==============================] - 0s 113ms/step - loss: 0.4472 - accuracy: 0.7731 - val_loss: 0.4898 - val_accuracy: 0.7520 - lr: 0.0010\n",
      "Epoch 163/1500\n",
      "2/2 [==============================] - 0s 116ms/step - loss: 0.4590 - accuracy: 0.7851 - val_loss: 0.5150 - val_accuracy: 0.7520 - lr: 0.0010\n",
      "Epoch 164/1500\n",
      "2/2 [==============================] - 0s 95ms/step - loss: 0.4369 - accuracy: 0.8112 - val_loss: 0.4862 - val_accuracy: 0.7600 - lr: 0.0010\n",
      "Epoch 165/1500\n",
      "2/2 [==============================] - 0s 104ms/step - loss: 0.4423 - accuracy: 0.7952 - val_loss: 0.4944 - val_accuracy: 0.7440 - lr: 0.0010\n",
      "Epoch 166/1500\n",
      "2/2 [==============================] - 0s 121ms/step - loss: 0.4333 - accuracy: 0.8072 - val_loss: 0.5044 - val_accuracy: 0.7520 - lr: 0.0010\n",
      "Epoch 167/1500\n",
      "2/2 [==============================] - 0s 107ms/step - loss: 0.4324 - accuracy: 0.8052 - val_loss: 0.4842 - val_accuracy: 0.7520 - lr: 0.0010\n",
      "Epoch 168/1500\n",
      "2/2 [==============================] - 0s 85ms/step - loss: 0.4382 - accuracy: 0.7992 - val_loss: 0.4876 - val_accuracy: 0.7520 - lr: 0.0010\n",
      "Epoch 169/1500\n",
      "2/2 [==============================] - 0s 100ms/step - loss: 0.4309 - accuracy: 0.8092 - val_loss: 0.5034 - val_accuracy: 0.7600 - lr: 0.0010\n",
      "Epoch 170/1500\n",
      "2/2 [==============================] - 0s 110ms/step - loss: 0.4353 - accuracy: 0.7912 - val_loss: 0.4808 - val_accuracy: 0.7360 - lr: 0.0010\n",
      "Epoch 171/1500\n",
      "2/2 [==============================] - 0s 96ms/step - loss: 0.4296 - accuracy: 0.8052 - val_loss: 0.4960 - val_accuracy: 0.7760 - lr: 0.0010\n",
      "Epoch 172/1500\n",
      "2/2 [==============================] - 0s 94ms/step - loss: 0.4278 - accuracy: 0.8032 - val_loss: 0.4852 - val_accuracy: 0.7520 - lr: 0.0010\n",
      "Epoch 173/1500\n",
      "2/2 [==============================] - 0s 106ms/step - loss: 0.4247 - accuracy: 0.8092 - val_loss: 0.4858 - val_accuracy: 0.7760 - lr: 0.0010\n",
      "Epoch 174/1500\n",
      "2/2 [==============================] - 0s 94ms/step - loss: 0.4291 - accuracy: 0.8032 - val_loss: 0.4904 - val_accuracy: 0.7760 - lr: 0.0010\n",
      "Epoch 175/1500\n",
      "2/2 [==============================] - 0s 116ms/step - loss: 0.4246 - accuracy: 0.8072 - val_loss: 0.4883 - val_accuracy: 0.7760 - lr: 0.0010\n",
      "Epoch 176/1500\n",
      "2/2 [==============================] - 0s 97ms/step - loss: 0.4256 - accuracy: 0.8012 - val_loss: 0.4780 - val_accuracy: 0.7520 - lr: 0.0010\n",
      "Epoch 177/1500\n",
      "2/2 [==============================] - 0s 104ms/step - loss: 0.4215 - accuracy: 0.8153 - val_loss: 0.4963 - val_accuracy: 0.7600 - lr: 0.0010\n",
      "Epoch 178/1500\n",
      "2/2 [==============================] - 0s 106ms/step - loss: 0.4232 - accuracy: 0.8092 - val_loss: 0.4834 - val_accuracy: 0.7600 - lr: 0.0010\n",
      "Epoch 179/1500\n",
      "2/2 [==============================] - 0s 110ms/step - loss: 0.4194 - accuracy: 0.8112 - val_loss: 0.4795 - val_accuracy: 0.7760 - lr: 0.0010\n",
      "Epoch 180/1500\n",
      "2/2 [==============================] - 0s 105ms/step - loss: 0.4197 - accuracy: 0.8112 - val_loss: 0.4907 - val_accuracy: 0.7600 - lr: 0.0010\n",
      "Epoch 181/1500\n",
      "2/2 [==============================] - 0s 87ms/step - loss: 0.4248 - accuracy: 0.8112 - val_loss: 0.4824 - val_accuracy: 0.7760 - lr: 0.0010\n",
      "Epoch 182/1500\n",
      "2/2 [==============================] - 0s 94ms/step - loss: 0.4186 - accuracy: 0.8112 - val_loss: 0.4788 - val_accuracy: 0.7760 - lr: 0.0010\n",
      "Epoch 183/1500\n",
      "2/2 [==============================] - 0s 101ms/step - loss: 0.4297 - accuracy: 0.8012 - val_loss: 0.4918 - val_accuracy: 0.7520 - lr: 0.0010\n",
      "Epoch 184/1500\n",
      "2/2 [==============================] - 0s 118ms/step - loss: 0.4182 - accuracy: 0.7972 - val_loss: 0.4771 - val_accuracy: 0.7760 - lr: 0.0010\n",
      "Epoch 185/1500\n",
      "2/2 [==============================] - 0s 115ms/step - loss: 0.4168 - accuracy: 0.8133 - val_loss: 0.4914 - val_accuracy: 0.7520 - lr: 0.0010\n",
      "Epoch 186/1500\n",
      "2/2 [==============================] - 0s 101ms/step - loss: 0.4167 - accuracy: 0.8092 - val_loss: 0.4816 - val_accuracy: 0.7840 - lr: 0.0010\n",
      "Epoch 187/1500\n",
      "2/2 [==============================] - 0s 101ms/step - loss: 0.4138 - accuracy: 0.8092 - val_loss: 0.4781 - val_accuracy: 0.7920 - lr: 0.0010\n",
      "Epoch 188/1500\n",
      "2/2 [==============================] - 0s 98ms/step - loss: 0.4191 - accuracy: 0.8072 - val_loss: 0.4846 - val_accuracy: 0.7840 - lr: 0.0010\n",
      "Epoch 189/1500\n",
      "2/2 [==============================] - 0s 88ms/step - loss: 0.4161 - accuracy: 0.8092 - val_loss: 0.4944 - val_accuracy: 0.7600 - lr: 0.0010\n",
      "Epoch 190/1500\n",
      "2/2 [==============================] - 0s 113ms/step - loss: 0.4262 - accuracy: 0.8032 - val_loss: 0.4782 - val_accuracy: 0.7840 - lr: 0.0010\n",
      "Epoch 191/1500\n",
      "2/2 [==============================] - 0s 107ms/step - loss: 0.4137 - accuracy: 0.8193 - val_loss: 0.5007 - val_accuracy: 0.7760 - lr: 0.0010\n",
      "Epoch 192/1500\n",
      "2/2 [==============================] - 0s 113ms/step - loss: 0.4171 - accuracy: 0.8153 - val_loss: 0.4766 - val_accuracy: 0.7760 - lr: 0.0010\n",
      "Epoch 193/1500\n",
      "2/2 [==============================] - 0s 99ms/step - loss: 0.4197 - accuracy: 0.8213 - val_loss: 0.4770 - val_accuracy: 0.7920 - lr: 0.0010\n",
      "Epoch 194/1500\n",
      "2/2 [==============================] - 0s 89ms/step - loss: 0.4259 - accuracy: 0.8193 - val_loss: 0.4977 - val_accuracy: 0.7600 - lr: 0.0010\n",
      "Epoch 195/1500\n",
      "2/2 [==============================] - 0s 94ms/step - loss: 0.4151 - accuracy: 0.8112 - val_loss: 0.4776 - val_accuracy: 0.7680 - lr: 0.0010\n",
      "Epoch 196/1500\n",
      "2/2 [==============================] - 0s 102ms/step - loss: 0.4156 - accuracy: 0.8133 - val_loss: 0.4957 - val_accuracy: 0.7600 - lr: 0.0010\n",
      "Epoch 197/1500\n",
      "2/2 [==============================] - 0s 78ms/step - loss: 0.4153 - accuracy: 0.8133 - val_loss: 0.4852 - val_accuracy: 0.7760 - lr: 0.0010\n",
      "Epoch 198/1500\n",
      "2/2 [==============================] - 0s 97ms/step - loss: 0.4091 - accuracy: 0.8153 - val_loss: 0.4751 - val_accuracy: 0.7920 - lr: 0.0010\n",
      "Epoch 199/1500\n",
      "2/2 [==============================] - 0s 121ms/step - loss: 0.4106 - accuracy: 0.8153 - val_loss: 0.4897 - val_accuracy: 0.7600 - lr: 0.0010\n",
      "Epoch 200/1500\n",
      "2/2 [==============================] - 0s 123ms/step - loss: 0.4100 - accuracy: 0.8072 - val_loss: 0.4814 - val_accuracy: 0.7840 - lr: 0.0010\n",
      "Epoch 201/1500\n",
      "2/2 [==============================] - 0s 116ms/step - loss: 0.4078 - accuracy: 0.8072 - val_loss: 0.4772 - val_accuracy: 0.7840 - lr: 0.0010\n",
      "Epoch 202/1500\n",
      "2/2 [==============================] - 0s 96ms/step - loss: 0.4069 - accuracy: 0.8193 - val_loss: 0.4837 - val_accuracy: 0.7680 - lr: 0.0010\n",
      "Epoch 203/1500\n",
      "2/2 [==============================] - 0s 103ms/step - loss: 0.4073 - accuracy: 0.8153 - val_loss: 0.4786 - val_accuracy: 0.7840 - lr: 0.0010\n",
      "Epoch 204/1500\n",
      "2/2 [==============================] - 0s 99ms/step - loss: 0.4083 - accuracy: 0.8193 - val_loss: 0.4745 - val_accuracy: 0.8000 - lr: 0.0010\n",
      "Epoch 205/1500\n",
      "2/2 [==============================] - 0s 93ms/step - loss: 0.4147 - accuracy: 0.8133 - val_loss: 0.4841 - val_accuracy: 0.7840 - lr: 0.0010\n",
      "Epoch 206/1500\n",
      "2/2 [==============================] - 0s 110ms/step - loss: 0.4043 - accuracy: 0.8173 - val_loss: 0.4740 - val_accuracy: 0.7920 - lr: 0.0010\n",
      "Epoch 207/1500\n",
      "2/2 [==============================] - 0s 108ms/step - loss: 0.4093 - accuracy: 0.8233 - val_loss: 0.4909 - val_accuracy: 0.7680 - lr: 0.0010\n",
      "Epoch 208/1500\n",
      "2/2 [==============================] - 0s 104ms/step - loss: 0.4187 - accuracy: 0.8213 - val_loss: 0.4874 - val_accuracy: 0.7840 - lr: 0.0010\n",
      "Epoch 209/1500\n",
      "2/2 [==============================] - 0s 72ms/step - loss: 0.4185 - accuracy: 0.8092 - val_loss: 0.4773 - val_accuracy: 0.7760 - lr: 0.0010\n",
      "Epoch 210/1500\n",
      "2/2 [==============================] - 0s 121ms/step - loss: 0.4182 - accuracy: 0.8052 - val_loss: 0.5108 - val_accuracy: 0.7760 - lr: 0.0010\n",
      "Epoch 211/1500\n",
      "2/2 [==============================] - 0s 110ms/step - loss: 0.4115 - accuracy: 0.8112 - val_loss: 0.4743 - val_accuracy: 0.7920 - lr: 0.0010\n",
      "Epoch 212/1500\n",
      "2/2 [==============================] - 0s 113ms/step - loss: 0.4103 - accuracy: 0.8253 - val_loss: 0.4742 - val_accuracy: 0.8000 - lr: 0.0010\n",
      "Epoch 213/1500\n",
      "2/2 [==============================] - 0s 117ms/step - loss: 0.4016 - accuracy: 0.8233 - val_loss: 0.4977 - val_accuracy: 0.7680 - lr: 0.0010\n",
      "Epoch 214/1500\n",
      "2/2 [==============================] - 0s 104ms/step - loss: 0.4061 - accuracy: 0.8112 - val_loss: 0.4718 - val_accuracy: 0.8000 - lr: 0.0010\n",
      "Epoch 215/1500\n",
      "2/2 [==============================] - 0s 94ms/step - loss: 0.4114 - accuracy: 0.8273 - val_loss: 0.4752 - val_accuracy: 0.8000 - lr: 0.0010\n",
      "Epoch 216/1500\n",
      "2/2 [==============================] - 0s 114ms/step - loss: 0.4037 - accuracy: 0.8233 - val_loss: 0.4990 - val_accuracy: 0.7680 - lr: 0.0010\n",
      "Epoch 217/1500\n",
      "2/2 [==============================] - 0s 94ms/step - loss: 0.4073 - accuracy: 0.8133 - val_loss: 0.4731 - val_accuracy: 0.8000 - lr: 0.0010\n",
      "Epoch 218/1500\n",
      "2/2 [==============================] - 0s 92ms/step - loss: 0.4073 - accuracy: 0.8213 - val_loss: 0.4801 - val_accuracy: 0.7920 - lr: 0.0010\n",
      "Epoch 219/1500\n",
      "2/2 [==============================] - 0s 119ms/step - loss: 0.4089 - accuracy: 0.8112 - val_loss: 0.4824 - val_accuracy: 0.7840 - lr: 0.0010\n",
      "Epoch 220/1500\n",
      "2/2 [==============================] - 0s 122ms/step - loss: 0.4037 - accuracy: 0.8173 - val_loss: 0.4903 - val_accuracy: 0.7680 - lr: 0.0010\n",
      "Epoch 221/1500\n",
      "2/2 [==============================] - 0s 101ms/step - loss: 0.4058 - accuracy: 0.8092 - val_loss: 0.4749 - val_accuracy: 0.8080 - lr: 0.0010\n",
      "Epoch 222/1500\n",
      "2/2 [==============================] - 0s 101ms/step - loss: 0.4031 - accuracy: 0.8213 - val_loss: 0.4876 - val_accuracy: 0.7680 - lr: 0.0010\n",
      "Epoch 223/1500\n",
      "2/2 [==============================] - 0s 107ms/step - loss: 0.4011 - accuracy: 0.8193 - val_loss: 0.4763 - val_accuracy: 0.7920 - lr: 0.0010\n",
      "Epoch 224/1500\n",
      "2/2 [==============================] - 0s 119ms/step - loss: 0.3991 - accuracy: 0.8233 - val_loss: 0.4797 - val_accuracy: 0.7920 - lr: 0.0010\n",
      "Epoch 225/1500\n",
      "2/2 [==============================] - 0s 98ms/step - loss: 0.3992 - accuracy: 0.8193 - val_loss: 0.4822 - val_accuracy: 0.7840 - lr: 0.0010\n",
      "Epoch 226/1500\n",
      "2/2 [==============================] - 0s 113ms/step - loss: 0.3980 - accuracy: 0.8193 - val_loss: 0.4786 - val_accuracy: 0.8000 - lr: 0.0010\n",
      "Epoch 227/1500\n",
      "2/2 [==============================] - 0s 127ms/step - loss: 0.4029 - accuracy: 0.8213 - val_loss: 0.4887 - val_accuracy: 0.7760 - lr: 0.0010\n",
      "Epoch 228/1500\n",
      "2/2 [==============================] - 0s 102ms/step - loss: 0.4031 - accuracy: 0.8133 - val_loss: 0.4913 - val_accuracy: 0.7680 - lr: 0.0010\n",
      "Epoch 229/1500\n",
      "2/2 [==============================] - 0s 111ms/step - loss: 0.3996 - accuracy: 0.8233 - val_loss: 0.4783 - val_accuracy: 0.8000 - lr: 0.0010\n",
      "Epoch 230/1500\n",
      "2/2 [==============================] - 0s 91ms/step - loss: 0.4025 - accuracy: 0.8193 - val_loss: 0.4926 - val_accuracy: 0.7600 - lr: 0.0010\n",
      "Epoch 231/1500\n",
      "2/2 [==============================] - 0s 126ms/step - loss: 0.3995 - accuracy: 0.8133 - val_loss: 0.4809 - val_accuracy: 0.7920 - lr: 0.0010\n",
      "Epoch 232/1500\n",
      "2/2 [==============================] - 0s 112ms/step - loss: 0.4007 - accuracy: 0.8213 - val_loss: 0.4781 - val_accuracy: 0.7920 - lr: 0.0010\n",
      "Epoch 233/1500\n",
      "2/2 [==============================] - 0s 85ms/step - loss: 0.3948 - accuracy: 0.8253 - val_loss: 0.4983 - val_accuracy: 0.7680 - lr: 0.0010\n",
      "Epoch 234/1500\n",
      "2/2 [==============================] - 0s 111ms/step - loss: 0.4031 - accuracy: 0.8193 - val_loss: 0.4779 - val_accuracy: 0.7920 - lr: 0.0010\n",
      "Epoch 235/1500\n",
      "2/2 [==============================] - 0s 118ms/step - loss: 0.4016 - accuracy: 0.8273 - val_loss: 0.4755 - val_accuracy: 0.8080 - lr: 0.0010\n",
      "Epoch 236/1500\n",
      "2/2 [==============================] - 0s 103ms/step - loss: 0.3968 - accuracy: 0.8273 - val_loss: 0.5029 - val_accuracy: 0.7680 - lr: 0.0010\n",
      "Epoch 237/1500\n",
      "2/2 [==============================] - 0s 117ms/step - loss: 0.4012 - accuracy: 0.8153 - val_loss: 0.4798 - val_accuracy: 0.7920 - lr: 0.0010\n",
      "Epoch 238/1500\n",
      "2/2 [==============================] - 0s 98ms/step - loss: 0.3960 - accuracy: 0.8173 - val_loss: 0.4815 - val_accuracy: 0.7920 - lr: 0.0010\n",
      "Epoch 239/1500\n",
      "2/2 [==============================] - 0s 113ms/step - loss: 0.3962 - accuracy: 0.8133 - val_loss: 0.4832 - val_accuracy: 0.7920 - lr: 0.0010\n",
      "Epoch 240/1500\n",
      "2/2 [==============================] - 0s 113ms/step - loss: 0.3972 - accuracy: 0.8213 - val_loss: 0.4834 - val_accuracy: 0.7920 - lr: 0.0010\n",
      "Epoch 241/1500\n",
      "2/2 [==============================] - 0s 112ms/step - loss: 0.3936 - accuracy: 0.8193 - val_loss: 0.4951 - val_accuracy: 0.7600 - lr: 0.0010\n",
      "Epoch 242/1500\n",
      "2/2 [==============================] - 0s 87ms/step - loss: 0.3939 - accuracy: 0.8193 - val_loss: 0.4794 - val_accuracy: 0.7920 - lr: 0.0010\n",
      "Epoch 243/1500\n",
      "2/2 [==============================] - 0s 109ms/step - loss: 0.3961 - accuracy: 0.8313 - val_loss: 0.4822 - val_accuracy: 0.7920 - lr: 0.0010\n",
      "Epoch 244/1500\n",
      "2/2 [==============================] - 0s 101ms/step - loss: 0.3909 - accuracy: 0.8213 - val_loss: 0.4978 - val_accuracy: 0.7600 - lr: 0.0010\n",
      "Epoch 245/1500\n",
      "2/2 [==============================] - 0s 108ms/step - loss: 0.3956 - accuracy: 0.8193 - val_loss: 0.4807 - val_accuracy: 0.7920 - lr: 0.0010\n",
      "Epoch 246/1500\n",
      "2/2 [==============================] - 0s 102ms/step - loss: 0.4031 - accuracy: 0.8253 - val_loss: 0.4828 - val_accuracy: 0.7920 - lr: 0.0010\n",
      "Epoch 247/1500\n",
      "2/2 [==============================] - 0s 115ms/step - loss: 0.3977 - accuracy: 0.8293 - val_loss: 0.4991 - val_accuracy: 0.7600 - lr: 0.0010\n",
      "Epoch 248/1500\n",
      "2/2 [==============================] - 0s 91ms/step - loss: 0.4027 - accuracy: 0.8293 - val_loss: 0.4788 - val_accuracy: 0.8080 - lr: 0.0010\n",
      "Epoch 249/1500\n",
      "2/2 [==============================] - 0s 105ms/step - loss: 0.3948 - accuracy: 0.8193 - val_loss: 0.4980 - val_accuracy: 0.7600 - lr: 0.0010\n",
      "Epoch 250/1500\n",
      "2/2 [==============================] - 0s 112ms/step - loss: 0.3959 - accuracy: 0.8193 - val_loss: 0.4847 - val_accuracy: 0.7920 - lr: 0.0010\n",
      "Epoch 251/1500\n",
      "2/2 [==============================] - 0s 106ms/step - loss: 0.3897 - accuracy: 0.8253 - val_loss: 0.4789 - val_accuracy: 0.8160 - lr: 0.0010\n",
      "Epoch 252/1500\n",
      "2/2 [==============================] - 0s 112ms/step - loss: 0.3942 - accuracy: 0.8313 - val_loss: 0.4954 - val_accuracy: 0.7600 - lr: 0.0010\n",
      "Epoch 253/1500\n",
      "1/2 [==============>...............] - ETA: 0s - loss: 0.3757 - accuracy: 0.8320Restoring model weights from the end of the best epoch: 252.\n",
      "2/2 [==============================] - 0s 109ms/step - loss: 0.3927 - accuracy: 0.8273 - val_loss: 0.4827 - val_accuracy: 0.7920 - lr: 0.0010\n",
      "Epoch 253: early stopping\n"
     ]
    }
   ],
   "source": [
    "model_b.compile(optimizer='adam', loss='BinaryCrossentropy', metrics='accuracy')\n",
    "\n",
    "histo_dense = model_b.fit(X_train, y_train, epochs=epochs, validation_split = 0.2,callbacks=[early_stopping, reduce_learning_rate, preserve_accuracy], batch_size=batch_size)"
   ],
   "metadata": {
    "collapsed": false,
    "ExecuteTime": {
     "end_time": "2023-12-14T13:52:38.697659132Z",
     "start_time": "2023-12-14T13:51:55.228430014Z"
    }
   },
   "id": "5b41e5d375b22d95"
  },
  {
   "cell_type": "code",
   "execution_count": 61,
   "outputs": [],
   "source": [
    "import numpy as np\n",
    "from sklearn.metrics import classification_report"
   ],
   "metadata": {
    "collapsed": false,
    "ExecuteTime": {
     "end_time": "2023-12-14T13:52:44.183612166Z",
     "start_time": "2023-12-14T13:52:43.800823602Z"
    }
   },
   "id": "91840e98f885c6d0"
  },
  {
   "cell_type": "code",
   "execution_count": 117,
   "outputs": [
    {
     "name": "stdout",
     "output_type": "stream",
     "text": [
      "9/9 [==============================] - 0s 2ms/step\n",
      "predict    0   1\n",
      "reel            \n",
      "0        129  29\n",
      "1         35  75\n",
      "              precision    recall  f1-score   support\n",
      "\n",
      "           0       0.79      0.82      0.80       158\n",
      "           1       0.72      0.68      0.70       110\n",
      "\n",
      "    accuracy                           0.76       268\n",
      "   macro avg       0.75      0.75      0.75       268\n",
      "weighted avg       0.76      0.76      0.76       268\n"
     ]
    }
   ],
   "source": [
    "pred_class_1 = model_b.predict(X_test).argmax(axis = 1)\n",
    "rounded_labels_1=np.argmax(y_test, axis=1)\n",
    "print(pd.crosstab(rounded_labels_1, pred_class_1, rownames = [\"reel\"], colnames = [\"predict\"]))\n",
    "print(classification_report(rounded_labels_1, pred_class_1))"
   ],
   "metadata": {
    "collapsed": false,
    "ExecuteTime": {
     "end_time": "2023-12-14T13:17:21.632701143Z",
     "start_time": "2023-12-14T13:17:21.142443922Z"
    }
   },
   "id": "2f0603bcca851860"
  },
  {
   "cell_type": "code",
   "execution_count": 62,
   "outputs": [
    {
     "name": "stdout",
     "output_type": "stream",
     "text": [
      "9/9 [==============================] - 0s 3ms/step\n",
      "predict    0   1\n",
      "reel            \n",
      "0        127  31\n",
      "1         29  81\n",
      "              precision    recall  f1-score   support\n",
      "\n",
      "           0       0.81      0.80      0.81       158\n",
      "           1       0.72      0.74      0.73       110\n",
      "\n",
      "    accuracy                           0.78       268\n",
      "   macro avg       0.77      0.77      0.77       268\n",
      "weighted avg       0.78      0.78      0.78       268\n"
     ]
    }
   ],
   "source": [
    "pred_class_1 = model_b.predict(X_test).argmax(axis = 1)\n",
    "rounded_labels_1=np.argmax(y_test, axis=1)\n",
    "print(pd.crosstab(rounded_labels_1, pred_class_1, rownames = [\"reel\"], colnames = [\"predict\"]))\n",
    "print(classification_report(rounded_labels_1, pred_class_1))"
   ],
   "metadata": {
    "collapsed": false,
    "ExecuteTime": {
     "end_time": "2023-12-14T13:52:58.994391173Z",
     "start_time": "2023-12-14T13:52:58.174039160Z"
    }
   },
   "id": "5aa85aa56e22a5b4"
  },
  {
   "cell_type": "code",
   "execution_count": 466,
   "outputs": [],
   "source": [
    "from sklearn.model_selection import KFold\n",
    "from xgboost import XGBRFClassifier as xgb\n",
    "from sklearn.model_selection import GridSearchCV\n",
    "from sklearn.metrics import classification_report"
   ],
   "metadata": {
    "collapsed": false,
    "ExecuteTime": {
     "end_time": "2023-11-10T11:40:20.903979217Z",
     "start_time": "2023-11-10T11:40:20.250077246Z"
    }
   },
   "id": "a0c641aeb8031718"
  },
  {
   "cell_type": "code",
   "execution_count": null,
   "outputs": [],
   "source": [
    "xgb_model = xgb(min_child_weight=0.85, eta=2,gamma=0, max_depth=5,subsample=0.8,random_state=42).fit(X_train, y_train)\n"
   ],
   "metadata": {
    "collapsed": false
   },
   "id": "cbcf89d0463d72ff"
  },
  {
   "cell_type": "code",
   "execution_count": 423,
   "outputs": [],
   "source": [],
   "metadata": {
    "collapsed": false,
    "ExecuteTime": {
     "end_time": "2023-11-08T21:54:33.623772957Z",
     "start_time": "2023-11-08T21:54:33.541218388Z"
    }
   },
   "id": "dab455fe27ceeae7"
  },
  {
   "cell_type": "code",
   "execution_count": 422,
   "outputs": [
    {
     "data": {
      "text/plain": "0.8164794007490637"
     },
     "execution_count": 422,
     "metadata": {},
     "output_type": "execute_result"
    }
   ],
   "source": [
    "xgb_model.score(X_test,y_test)"
   ],
   "metadata": {
    "collapsed": false,
    "ExecuteTime": {
     "end_time": "2023-11-08T21:44:42.777329255Z",
     "start_time": "2023-11-08T21:44:42.167438767Z"
    }
   },
   "id": "dfaf3916b41edb14"
  },
  {
   "cell_type": "code",
   "execution_count": 429,
   "outputs": [],
   "source": [
    "xgb_search = xgb()"
   ],
   "metadata": {
    "collapsed": false,
    "ExecuteTime": {
     "end_time": "2023-11-08T21:58:02.874121743Z",
     "start_time": "2023-11-08T21:58:02.710843101Z"
    }
   },
   "id": "d30223bd1c11c195"
  },
  {
   "cell_type": "code",
   "execution_count": 430,
   "outputs": [],
   "source": [
    "X_train, X_test,y_train, y_test = train_test_split(features,target, test_size=0.3, random_state=3142)\n"
   ],
   "metadata": {
    "collapsed": false,
    "ExecuteTime": {
     "end_time": "2023-11-08T21:58:04.115612554Z",
     "start_time": "2023-11-08T21:58:03.800175973Z"
    }
   },
   "id": "f26f71f18229ccd8"
  },
  {
   "cell_type": "code",
   "execution_count": 431,
   "outputs": [],
   "source": [
    "param_grid = [\n",
    "    {'min_child_weight' : [0.1,0.2,0.3,0.4,0.5,0.6,0.7,0.8,0.85,0.9,1], 'eta' : [1,2,3,4,5,6,7,8,9],'gamma' : [0,1,2,3,4,5,6,6,8,9,10], 'max_depth' : [0,1,2,3,4,5,6,7,8,9,10],'subsample' : [0,0.1,0.2,0.3,0.4,0.5,0.6,0.7,0.8,0.9]},\n",
    "]"
   ],
   "metadata": {
    "collapsed": false,
    "ExecuteTime": {
     "end_time": "2023-11-08T21:58:05.959934794Z",
     "start_time": "2023-11-08T21:58:05.914552431Z"
    }
   },
   "id": "85649d026a71fa96"
  },
  {
   "cell_type": "code",
   "execution_count": 432,
   "outputs": [],
   "source": [
    "clf = GridSearchCV(xgb_search, param_grid)"
   ],
   "metadata": {
    "collapsed": false,
    "ExecuteTime": {
     "end_time": "2023-11-08T21:58:07.094847037Z",
     "start_time": "2023-11-08T21:58:07.044975056Z"
    }
   },
   "id": "4b81f54a3602f838"
  },
  {
   "cell_type": "code",
   "execution_count": 433,
   "outputs": [
    {
     "data": {
      "text/plain": "GridSearchCV(estimator=XGBRFClassifier(base_score=None, booster=None,\n                                       callbacks=None, colsample_bylevel=None,\n                                       colsample_bytree=None, device=None,\n                                       early_stopping_rounds=None,\n                                       enable_categorical=False,\n                                       eval_metric=None, feature_types=None,\n                                       gamma=None, grow_policy=None,\n                                       importance_type=None,\n                                       interaction_constraints=None,\n                                       max_bin=None, max_cat_threshold=None,\n                                       max_cat_...\n                                       multi_strategy=None, n_estimators=None,\n                                       n_jobs=None, num_parallel_tree=None,\n                                       objective='binary:logistic',\n                                       random_state=None, reg_alpha=None, ...),\n             param_grid=[{'eta': [1, 2, 3, 4, 5, 6, 7, 8, 9],\n                          'gamma': [0, 1, 2, 3, 4, 5, 6, 6, 8, 9, 10],\n                          'max_depth': [0, 1, 2, 3, 4, 5, 6, 7, 8, 9, 10],\n                          'min_child_weight': [0.1, 0.2, 0.3, 0.4, 0.5, 0.6,\n                                               0.7, 0.8, 0.85, 0.9, 1],\n                          'subsample': [0, 0.1, 0.2, 0.3, 0.4, 0.5, 0.6, 0.7,\n                                        0.8, 0.9]}])",
      "text/html": "<style>#sk-container-id-3 {color: black;}#sk-container-id-3 pre{padding: 0;}#sk-container-id-3 div.sk-toggleable {background-color: white;}#sk-container-id-3 label.sk-toggleable__label {cursor: pointer;display: block;width: 100%;margin-bottom: 0;padding: 0.3em;box-sizing: border-box;text-align: center;}#sk-container-id-3 label.sk-toggleable__label-arrow:before {content: \"▸\";float: left;margin-right: 0.25em;color: #696969;}#sk-container-id-3 label.sk-toggleable__label-arrow:hover:before {color: black;}#sk-container-id-3 div.sk-estimator:hover label.sk-toggleable__label-arrow:before {color: black;}#sk-container-id-3 div.sk-toggleable__content {max-height: 0;max-width: 0;overflow: hidden;text-align: left;background-color: #f0f8ff;}#sk-container-id-3 div.sk-toggleable__content pre {margin: 0.2em;color: black;border-radius: 0.25em;background-color: #f0f8ff;}#sk-container-id-3 input.sk-toggleable__control:checked~div.sk-toggleable__content {max-height: 200px;max-width: 100%;overflow: auto;}#sk-container-id-3 input.sk-toggleable__control:checked~label.sk-toggleable__label-arrow:before {content: \"▾\";}#sk-container-id-3 div.sk-estimator input.sk-toggleable__control:checked~label.sk-toggleable__label {background-color: #d4ebff;}#sk-container-id-3 div.sk-label input.sk-toggleable__control:checked~label.sk-toggleable__label {background-color: #d4ebff;}#sk-container-id-3 input.sk-hidden--visually {border: 0;clip: rect(1px 1px 1px 1px);clip: rect(1px, 1px, 1px, 1px);height: 1px;margin: -1px;overflow: hidden;padding: 0;position: absolute;width: 1px;}#sk-container-id-3 div.sk-estimator {font-family: monospace;background-color: #f0f8ff;border: 1px dotted black;border-radius: 0.25em;box-sizing: border-box;margin-bottom: 0.5em;}#sk-container-id-3 div.sk-estimator:hover {background-color: #d4ebff;}#sk-container-id-3 div.sk-parallel-item::after {content: \"\";width: 100%;border-bottom: 1px solid gray;flex-grow: 1;}#sk-container-id-3 div.sk-label:hover label.sk-toggleable__label {background-color: #d4ebff;}#sk-container-id-3 div.sk-serial::before {content: \"\";position: absolute;border-left: 1px solid gray;box-sizing: border-box;top: 0;bottom: 0;left: 50%;z-index: 0;}#sk-container-id-3 div.sk-serial {display: flex;flex-direction: column;align-items: center;background-color: white;padding-right: 0.2em;padding-left: 0.2em;position: relative;}#sk-container-id-3 div.sk-item {position: relative;z-index: 1;}#sk-container-id-3 div.sk-parallel {display: flex;align-items: stretch;justify-content: center;background-color: white;position: relative;}#sk-container-id-3 div.sk-item::before, #sk-container-id-3 div.sk-parallel-item::before {content: \"\";position: absolute;border-left: 1px solid gray;box-sizing: border-box;top: 0;bottom: 0;left: 50%;z-index: -1;}#sk-container-id-3 div.sk-parallel-item {display: flex;flex-direction: column;z-index: 1;position: relative;background-color: white;}#sk-container-id-3 div.sk-parallel-item:first-child::after {align-self: flex-end;width: 50%;}#sk-container-id-3 div.sk-parallel-item:last-child::after {align-self: flex-start;width: 50%;}#sk-container-id-3 div.sk-parallel-item:only-child::after {width: 0;}#sk-container-id-3 div.sk-dashed-wrapped {border: 1px dashed gray;margin: 0 0.4em 0.5em 0.4em;box-sizing: border-box;padding-bottom: 0.4em;background-color: white;}#sk-container-id-3 div.sk-label label {font-family: monospace;font-weight: bold;display: inline-block;line-height: 1.2em;}#sk-container-id-3 div.sk-label-container {text-align: center;}#sk-container-id-3 div.sk-container {/* jupyter's `normalize.less` sets `[hidden] { display: none; }` but bootstrap.min.css set `[hidden] { display: none !important; }` so we also need the `!important` here to be able to override the default hidden behavior on the sphinx rendered scikit-learn.org. See: https://github.com/scikit-learn/scikit-learn/issues/21755 */display: inline-block !important;position: relative;}#sk-container-id-3 div.sk-text-repr-fallback {display: none;}</style><div id=\"sk-container-id-3\" class=\"sk-top-container\"><div class=\"sk-text-repr-fallback\"><pre>GridSearchCV(estimator=XGBRFClassifier(base_score=None, booster=None,\n                                       callbacks=None, colsample_bylevel=None,\n                                       colsample_bytree=None, device=None,\n                                       early_stopping_rounds=None,\n                                       enable_categorical=False,\n                                       eval_metric=None, feature_types=None,\n                                       gamma=None, grow_policy=None,\n                                       importance_type=None,\n                                       interaction_constraints=None,\n                                       max_bin=None, max_cat_threshold=None,\n                                       max_cat_...\n                                       multi_strategy=None, n_estimators=None,\n                                       n_jobs=None, num_parallel_tree=None,\n                                       objective=&#x27;binary:logistic&#x27;,\n                                       random_state=None, reg_alpha=None, ...),\n             param_grid=[{&#x27;eta&#x27;: [1, 2, 3, 4, 5, 6, 7, 8, 9],\n                          &#x27;gamma&#x27;: [0, 1, 2, 3, 4, 5, 6, 6, 8, 9, 10],\n                          &#x27;max_depth&#x27;: [0, 1, 2, 3, 4, 5, 6, 7, 8, 9, 10],\n                          &#x27;min_child_weight&#x27;: [0.1, 0.2, 0.3, 0.4, 0.5, 0.6,\n                                               0.7, 0.8, 0.85, 0.9, 1],\n                          &#x27;subsample&#x27;: [0, 0.1, 0.2, 0.3, 0.4, 0.5, 0.6, 0.7,\n                                        0.8, 0.9]}])</pre><b>In a Jupyter environment, please rerun this cell to show the HTML representation or trust the notebook. <br />On GitHub, the HTML representation is unable to render, please try loading this page with nbviewer.org.</b></div><div class=\"sk-container\" hidden><div class=\"sk-item sk-dashed-wrapped\"><div class=\"sk-label-container\"><div class=\"sk-label sk-toggleable\"><input class=\"sk-toggleable__control sk-hidden--visually\" id=\"sk-estimator-id-3\" type=\"checkbox\" ><label for=\"sk-estimator-id-3\" class=\"sk-toggleable__label sk-toggleable__label-arrow\">GridSearchCV</label><div class=\"sk-toggleable__content\"><pre>GridSearchCV(estimator=XGBRFClassifier(base_score=None, booster=None,\n                                       callbacks=None, colsample_bylevel=None,\n                                       colsample_bytree=None, device=None,\n                                       early_stopping_rounds=None,\n                                       enable_categorical=False,\n                                       eval_metric=None, feature_types=None,\n                                       gamma=None, grow_policy=None,\n                                       importance_type=None,\n                                       interaction_constraints=None,\n                                       max_bin=None, max_cat_threshold=None,\n                                       max_cat_...\n                                       multi_strategy=None, n_estimators=None,\n                                       n_jobs=None, num_parallel_tree=None,\n                                       objective=&#x27;binary:logistic&#x27;,\n                                       random_state=None, reg_alpha=None, ...),\n             param_grid=[{&#x27;eta&#x27;: [1, 2, 3, 4, 5, 6, 7, 8, 9],\n                          &#x27;gamma&#x27;: [0, 1, 2, 3, 4, 5, 6, 6, 8, 9, 10],\n                          &#x27;max_depth&#x27;: [0, 1, 2, 3, 4, 5, 6, 7, 8, 9, 10],\n                          &#x27;min_child_weight&#x27;: [0.1, 0.2, 0.3, 0.4, 0.5, 0.6,\n                                               0.7, 0.8, 0.85, 0.9, 1],\n                          &#x27;subsample&#x27;: [0, 0.1, 0.2, 0.3, 0.4, 0.5, 0.6, 0.7,\n                                        0.8, 0.9]}])</pre></div></div></div><div class=\"sk-parallel\"><div class=\"sk-parallel-item\"><div class=\"sk-item\"><div class=\"sk-label-container\"><div class=\"sk-label sk-toggleable\"><input class=\"sk-toggleable__control sk-hidden--visually\" id=\"sk-estimator-id-4\" type=\"checkbox\" ><label for=\"sk-estimator-id-4\" class=\"sk-toggleable__label sk-toggleable__label-arrow\">estimator: XGBRFClassifier</label><div class=\"sk-toggleable__content\"><pre>XGBRFClassifier(base_score=None, booster=None, callbacks=None,\n                colsample_bylevel=None, colsample_bytree=None, device=None,\n                early_stopping_rounds=None, enable_categorical=False,\n                eval_metric=None, feature_types=None, gamma=None,\n                grow_policy=None, importance_type=None,\n                interaction_constraints=None, max_bin=None,\n                max_cat_threshold=None, max_cat_to_onehot=None,\n                max_delta_step=None, max_depth=None, max_leaves=None,\n                min_child_weight=None, missing=nan, monotone_constraints=None,\n                multi_strategy=None, n_estimators=None, n_jobs=None,\n                num_parallel_tree=None, objective=&#x27;binary:logistic&#x27;,\n                random_state=None, reg_alpha=None, ...)</pre></div></div></div><div class=\"sk-serial\"><div class=\"sk-item\"><div class=\"sk-estimator sk-toggleable\"><input class=\"sk-toggleable__control sk-hidden--visually\" id=\"sk-estimator-id-5\" type=\"checkbox\" ><label for=\"sk-estimator-id-5\" class=\"sk-toggleable__label sk-toggleable__label-arrow\">XGBRFClassifier</label><div class=\"sk-toggleable__content\"><pre>XGBRFClassifier(base_score=None, booster=None, callbacks=None,\n                colsample_bylevel=None, colsample_bytree=None, device=None,\n                early_stopping_rounds=None, enable_categorical=False,\n                eval_metric=None, feature_types=None, gamma=None,\n                grow_policy=None, importance_type=None,\n                interaction_constraints=None, max_bin=None,\n                max_cat_threshold=None, max_cat_to_onehot=None,\n                max_delta_step=None, max_depth=None, max_leaves=None,\n                min_child_weight=None, missing=nan, monotone_constraints=None,\n                multi_strategy=None, n_estimators=None, n_jobs=None,\n                num_parallel_tree=None, objective=&#x27;binary:logistic&#x27;,\n                random_state=None, reg_alpha=None, ...)</pre></div></div></div></div></div></div></div></div></div></div>"
     },
     "execution_count": 433,
     "metadata": {},
     "output_type": "execute_result"
    }
   ],
   "source": [
    "clf.fit(X_train, y_train)"
   ],
   "metadata": {
    "collapsed": false,
    "ExecuteTime": {
     "end_time": "2023-11-09T05:47:41.165216272Z",
     "start_time": "2023-11-08T21:58:09.194831327Z"
    }
   },
   "id": "6aefa9d409c64c73"
  },
  {
   "cell_type": "code",
   "execution_count": 434,
   "outputs": [
    {
     "name": "stdout",
     "output_type": "stream",
     "text": [
      "0.8263225806451613 {'eta': 1, 'gamma': 0, 'max_depth': 0, 'min_child_weight': 0.5, 'subsample': 0.8}\n"
     ]
    }
   ],
   "source": [
    "print(clf.best_score_, clf.best_params_)"
   ],
   "metadata": {
    "collapsed": false,
    "ExecuteTime": {
     "end_time": "2023-11-09T12:47:58.196134008Z",
     "start_time": "2023-11-09T12:47:57.311326817Z"
    }
   },
   "id": "6bd3f1c50d3be154"
  },
  {
   "cell_type": "code",
   "execution_count": 445,
   "outputs": [],
   "source": [
    "param_grid2 =[\n",
    "    {'n_estimators' : list(range(0, 1000, 100)),'criterion': ['gini','entropy','log_loss'], 'max_depth':list(range(10)),'min_samples_split':list(range(10)), 'min_samples_leaf': list(range(10)),'max_features' : ['sqrt', 'log2']}\n",
    "]"
   ],
   "metadata": {
    "collapsed": false,
    "ExecuteTime": {
     "end_time": "2023-11-09T13:16:03.391767174Z",
     "start_time": "2023-11-09T13:16:02.987221606Z"
    }
   },
   "id": "1bb92814b62486a6"
  },
  {
   "cell_type": "code",
   "execution_count": 446,
   "outputs": [],
   "source": [
    "clf2 = RandomForestClassifier(n_jobs=-1, random_state=534)"
   ],
   "metadata": {
    "collapsed": false,
    "ExecuteTime": {
     "end_time": "2023-11-09T13:16:03.966601810Z",
     "start_time": "2023-11-09T13:16:03.877013920Z"
    }
   },
   "id": "1f33fe33d338d635"
  },
  {
   "cell_type": "code",
   "execution_count": 447,
   "outputs": [],
   "source": [
    "grid = GridSearchCV(clf2, param_grid2)"
   ],
   "metadata": {
    "collapsed": false,
    "ExecuteTime": {
     "end_time": "2023-11-09T13:16:04.880395600Z",
     "start_time": "2023-11-09T13:16:04.790257136Z"
    }
   },
   "id": "3807749b1b840d78"
  },
  {
   "cell_type": "code",
   "execution_count": 448,
   "outputs": [],
   "source": [
    "X_train, X_test,y_train, y_test = train_test_split(features,target, test_size=0.3, random_state=3142)"
   ],
   "metadata": {
    "collapsed": false,
    "ExecuteTime": {
     "end_time": "2023-11-09T13:16:05.781712419Z",
     "start_time": "2023-11-09T13:16:05.715736130Z"
    }
   },
   "id": "9d296977fee06f8c"
  },
  {
   "cell_type": "code",
   "execution_count": 449,
   "outputs": [
    {
     "ename": "KeyboardInterrupt",
     "evalue": "",
     "output_type": "error",
     "traceback": [
      "\u001B[0;31m---------------------------------------------------------------------------\u001B[0m",
      "\u001B[0;31mKeyboardInterrupt\u001B[0m                         Traceback (most recent call last)",
      "Cell \u001B[0;32mIn[449], line 1\u001B[0m\n\u001B[0;32m----> 1\u001B[0m grid\u001B[38;5;241m.\u001B[39mfit(X_train,y_train)\n",
      "File \u001B[0;32m~/anaconda3/lib/python3.11/site-packages/sklearn/base.py:1151\u001B[0m, in \u001B[0;36m_fit_context.<locals>.decorator.<locals>.wrapper\u001B[0;34m(estimator, *args, **kwargs)\u001B[0m\n\u001B[1;32m   1144\u001B[0m     estimator\u001B[38;5;241m.\u001B[39m_validate_params()\n\u001B[1;32m   1146\u001B[0m \u001B[38;5;28;01mwith\u001B[39;00m config_context(\n\u001B[1;32m   1147\u001B[0m     skip_parameter_validation\u001B[38;5;241m=\u001B[39m(\n\u001B[1;32m   1148\u001B[0m         prefer_skip_nested_validation \u001B[38;5;129;01mor\u001B[39;00m global_skip_validation\n\u001B[1;32m   1149\u001B[0m     )\n\u001B[1;32m   1150\u001B[0m ):\n\u001B[0;32m-> 1151\u001B[0m     \u001B[38;5;28;01mreturn\u001B[39;00m fit_method(estimator, \u001B[38;5;241m*\u001B[39margs, \u001B[38;5;241m*\u001B[39m\u001B[38;5;241m*\u001B[39mkwargs)\n",
      "File \u001B[0;32m~/anaconda3/lib/python3.11/site-packages/sklearn/model_selection/_search.py:898\u001B[0m, in \u001B[0;36mBaseSearchCV.fit\u001B[0;34m(self, X, y, groups, **fit_params)\u001B[0m\n\u001B[1;32m    892\u001B[0m     results \u001B[38;5;241m=\u001B[39m \u001B[38;5;28mself\u001B[39m\u001B[38;5;241m.\u001B[39m_format_results(\n\u001B[1;32m    893\u001B[0m         all_candidate_params, n_splits, all_out, all_more_results\n\u001B[1;32m    894\u001B[0m     )\n\u001B[1;32m    896\u001B[0m     \u001B[38;5;28;01mreturn\u001B[39;00m results\n\u001B[0;32m--> 898\u001B[0m \u001B[38;5;28mself\u001B[39m\u001B[38;5;241m.\u001B[39m_run_search(evaluate_candidates)\n\u001B[1;32m    900\u001B[0m \u001B[38;5;66;03m# multimetric is determined here because in the case of a callable\u001B[39;00m\n\u001B[1;32m    901\u001B[0m \u001B[38;5;66;03m# self.scoring the return type is only known after calling\u001B[39;00m\n\u001B[1;32m    902\u001B[0m first_test_score \u001B[38;5;241m=\u001B[39m all_out[\u001B[38;5;241m0\u001B[39m][\u001B[38;5;124m\"\u001B[39m\u001B[38;5;124mtest_scores\u001B[39m\u001B[38;5;124m\"\u001B[39m]\n",
      "File \u001B[0;32m~/anaconda3/lib/python3.11/site-packages/sklearn/model_selection/_search.py:1419\u001B[0m, in \u001B[0;36mGridSearchCV._run_search\u001B[0;34m(self, evaluate_candidates)\u001B[0m\n\u001B[1;32m   1417\u001B[0m \u001B[38;5;28;01mdef\u001B[39;00m \u001B[38;5;21m_run_search\u001B[39m(\u001B[38;5;28mself\u001B[39m, evaluate_candidates):\n\u001B[1;32m   1418\u001B[0m \u001B[38;5;250m    \u001B[39m\u001B[38;5;124;03m\"\"\"Search all candidates in param_grid\"\"\"\u001B[39;00m\n\u001B[0;32m-> 1419\u001B[0m     evaluate_candidates(ParameterGrid(\u001B[38;5;28mself\u001B[39m\u001B[38;5;241m.\u001B[39mparam_grid))\n",
      "File \u001B[0;32m~/anaconda3/lib/python3.11/site-packages/sklearn/model_selection/_search.py:845\u001B[0m, in \u001B[0;36mBaseSearchCV.fit.<locals>.evaluate_candidates\u001B[0;34m(candidate_params, cv, more_results)\u001B[0m\n\u001B[1;32m    837\u001B[0m \u001B[38;5;28;01mif\u001B[39;00m \u001B[38;5;28mself\u001B[39m\u001B[38;5;241m.\u001B[39mverbose \u001B[38;5;241m>\u001B[39m \u001B[38;5;241m0\u001B[39m:\n\u001B[1;32m    838\u001B[0m     \u001B[38;5;28mprint\u001B[39m(\n\u001B[1;32m    839\u001B[0m         \u001B[38;5;124m\"\u001B[39m\u001B[38;5;124mFitting \u001B[39m\u001B[38;5;132;01m{0}\u001B[39;00m\u001B[38;5;124m folds for each of \u001B[39m\u001B[38;5;132;01m{1}\u001B[39;00m\u001B[38;5;124m candidates,\u001B[39m\u001B[38;5;124m\"\u001B[39m\n\u001B[1;32m    840\u001B[0m         \u001B[38;5;124m\"\u001B[39m\u001B[38;5;124m totalling \u001B[39m\u001B[38;5;132;01m{2}\u001B[39;00m\u001B[38;5;124m fits\u001B[39m\u001B[38;5;124m\"\u001B[39m\u001B[38;5;241m.\u001B[39mformat(\n\u001B[1;32m    841\u001B[0m             n_splits, n_candidates, n_candidates \u001B[38;5;241m*\u001B[39m n_splits\n\u001B[1;32m    842\u001B[0m         )\n\u001B[1;32m    843\u001B[0m     )\n\u001B[0;32m--> 845\u001B[0m out \u001B[38;5;241m=\u001B[39m parallel(\n\u001B[1;32m    846\u001B[0m     delayed(_fit_and_score)(\n\u001B[1;32m    847\u001B[0m         clone(base_estimator),\n\u001B[1;32m    848\u001B[0m         X,\n\u001B[1;32m    849\u001B[0m         y,\n\u001B[1;32m    850\u001B[0m         train\u001B[38;5;241m=\u001B[39mtrain,\n\u001B[1;32m    851\u001B[0m         test\u001B[38;5;241m=\u001B[39mtest,\n\u001B[1;32m    852\u001B[0m         parameters\u001B[38;5;241m=\u001B[39mparameters,\n\u001B[1;32m    853\u001B[0m         split_progress\u001B[38;5;241m=\u001B[39m(split_idx, n_splits),\n\u001B[1;32m    854\u001B[0m         candidate_progress\u001B[38;5;241m=\u001B[39m(cand_idx, n_candidates),\n\u001B[1;32m    855\u001B[0m         \u001B[38;5;241m*\u001B[39m\u001B[38;5;241m*\u001B[39mfit_and_score_kwargs,\n\u001B[1;32m    856\u001B[0m     )\n\u001B[1;32m    857\u001B[0m     \u001B[38;5;28;01mfor\u001B[39;00m (cand_idx, parameters), (split_idx, (train, test)) \u001B[38;5;129;01min\u001B[39;00m product(\n\u001B[1;32m    858\u001B[0m         \u001B[38;5;28menumerate\u001B[39m(candidate_params), \u001B[38;5;28menumerate\u001B[39m(cv\u001B[38;5;241m.\u001B[39msplit(X, y, groups))\n\u001B[1;32m    859\u001B[0m     )\n\u001B[1;32m    860\u001B[0m )\n\u001B[1;32m    862\u001B[0m \u001B[38;5;28;01mif\u001B[39;00m \u001B[38;5;28mlen\u001B[39m(out) \u001B[38;5;241m<\u001B[39m \u001B[38;5;241m1\u001B[39m:\n\u001B[1;32m    863\u001B[0m     \u001B[38;5;28;01mraise\u001B[39;00m \u001B[38;5;167;01mValueError\u001B[39;00m(\n\u001B[1;32m    864\u001B[0m         \u001B[38;5;124m\"\u001B[39m\u001B[38;5;124mNo fits were performed. \u001B[39m\u001B[38;5;124m\"\u001B[39m\n\u001B[1;32m    865\u001B[0m         \u001B[38;5;124m\"\u001B[39m\u001B[38;5;124mWas the CV iterator empty? \u001B[39m\u001B[38;5;124m\"\u001B[39m\n\u001B[1;32m    866\u001B[0m         \u001B[38;5;124m\"\u001B[39m\u001B[38;5;124mWere there no candidates?\u001B[39m\u001B[38;5;124m\"\u001B[39m\n\u001B[1;32m    867\u001B[0m     )\n",
      "File \u001B[0;32m~/anaconda3/lib/python3.11/site-packages/sklearn/utils/parallel.py:65\u001B[0m, in \u001B[0;36mParallel.__call__\u001B[0;34m(self, iterable)\u001B[0m\n\u001B[1;32m     60\u001B[0m config \u001B[38;5;241m=\u001B[39m get_config()\n\u001B[1;32m     61\u001B[0m iterable_with_config \u001B[38;5;241m=\u001B[39m (\n\u001B[1;32m     62\u001B[0m     (_with_config(delayed_func, config), args, kwargs)\n\u001B[1;32m     63\u001B[0m     \u001B[38;5;28;01mfor\u001B[39;00m delayed_func, args, kwargs \u001B[38;5;129;01min\u001B[39;00m iterable\n\u001B[1;32m     64\u001B[0m )\n\u001B[0;32m---> 65\u001B[0m \u001B[38;5;28;01mreturn\u001B[39;00m \u001B[38;5;28msuper\u001B[39m()\u001B[38;5;241m.\u001B[39m\u001B[38;5;21m__call__\u001B[39m(iterable_with_config)\n",
      "File \u001B[0;32m~/anaconda3/lib/python3.11/site-packages/joblib/parallel.py:1088\u001B[0m, in \u001B[0;36mParallel.__call__\u001B[0;34m(self, iterable)\u001B[0m\n\u001B[1;32m   1085\u001B[0m \u001B[38;5;28;01mif\u001B[39;00m \u001B[38;5;28mself\u001B[39m\u001B[38;5;241m.\u001B[39mdispatch_one_batch(iterator):\n\u001B[1;32m   1086\u001B[0m     \u001B[38;5;28mself\u001B[39m\u001B[38;5;241m.\u001B[39m_iterating \u001B[38;5;241m=\u001B[39m \u001B[38;5;28mself\u001B[39m\u001B[38;5;241m.\u001B[39m_original_iterator \u001B[38;5;129;01mis\u001B[39;00m \u001B[38;5;129;01mnot\u001B[39;00m \u001B[38;5;28;01mNone\u001B[39;00m\n\u001B[0;32m-> 1088\u001B[0m \u001B[38;5;28;01mwhile\u001B[39;00m \u001B[38;5;28mself\u001B[39m\u001B[38;5;241m.\u001B[39mdispatch_one_batch(iterator):\n\u001B[1;32m   1089\u001B[0m     \u001B[38;5;28;01mpass\u001B[39;00m\n\u001B[1;32m   1091\u001B[0m \u001B[38;5;28;01mif\u001B[39;00m pre_dispatch \u001B[38;5;241m==\u001B[39m \u001B[38;5;124m\"\u001B[39m\u001B[38;5;124mall\u001B[39m\u001B[38;5;124m\"\u001B[39m \u001B[38;5;129;01mor\u001B[39;00m n_jobs \u001B[38;5;241m==\u001B[39m \u001B[38;5;241m1\u001B[39m:\n\u001B[1;32m   1092\u001B[0m     \u001B[38;5;66;03m# The iterable was consumed all at once by the above for loop.\u001B[39;00m\n\u001B[1;32m   1093\u001B[0m     \u001B[38;5;66;03m# No need to wait for async callbacks to trigger to\u001B[39;00m\n\u001B[1;32m   1094\u001B[0m     \u001B[38;5;66;03m# consumption.\u001B[39;00m\n",
      "File \u001B[0;32m~/anaconda3/lib/python3.11/site-packages/joblib/parallel.py:901\u001B[0m, in \u001B[0;36mParallel.dispatch_one_batch\u001B[0;34m(self, iterator)\u001B[0m\n\u001B[1;32m    899\u001B[0m     \u001B[38;5;28;01mreturn\u001B[39;00m \u001B[38;5;28;01mFalse\u001B[39;00m\n\u001B[1;32m    900\u001B[0m \u001B[38;5;28;01melse\u001B[39;00m:\n\u001B[0;32m--> 901\u001B[0m     \u001B[38;5;28mself\u001B[39m\u001B[38;5;241m.\u001B[39m_dispatch(tasks)\n\u001B[1;32m    902\u001B[0m     \u001B[38;5;28;01mreturn\u001B[39;00m \u001B[38;5;28;01mTrue\u001B[39;00m\n",
      "File \u001B[0;32m~/anaconda3/lib/python3.11/site-packages/joblib/parallel.py:819\u001B[0m, in \u001B[0;36mParallel._dispatch\u001B[0;34m(self, batch)\u001B[0m\n\u001B[1;32m    817\u001B[0m \u001B[38;5;28;01mwith\u001B[39;00m \u001B[38;5;28mself\u001B[39m\u001B[38;5;241m.\u001B[39m_lock:\n\u001B[1;32m    818\u001B[0m     job_idx \u001B[38;5;241m=\u001B[39m \u001B[38;5;28mlen\u001B[39m(\u001B[38;5;28mself\u001B[39m\u001B[38;5;241m.\u001B[39m_jobs)\n\u001B[0;32m--> 819\u001B[0m     job \u001B[38;5;241m=\u001B[39m \u001B[38;5;28mself\u001B[39m\u001B[38;5;241m.\u001B[39m_backend\u001B[38;5;241m.\u001B[39mapply_async(batch, callback\u001B[38;5;241m=\u001B[39mcb)\n\u001B[1;32m    820\u001B[0m     \u001B[38;5;66;03m# A job can complete so quickly than its callback is\u001B[39;00m\n\u001B[1;32m    821\u001B[0m     \u001B[38;5;66;03m# called before we get here, causing self._jobs to\u001B[39;00m\n\u001B[1;32m    822\u001B[0m     \u001B[38;5;66;03m# grow. To ensure correct results ordering, .insert is\u001B[39;00m\n\u001B[1;32m    823\u001B[0m     \u001B[38;5;66;03m# used (rather than .append) in the following line\u001B[39;00m\n\u001B[1;32m    824\u001B[0m     \u001B[38;5;28mself\u001B[39m\u001B[38;5;241m.\u001B[39m_jobs\u001B[38;5;241m.\u001B[39minsert(job_idx, job)\n",
      "File \u001B[0;32m~/anaconda3/lib/python3.11/site-packages/joblib/_parallel_backends.py:208\u001B[0m, in \u001B[0;36mSequentialBackend.apply_async\u001B[0;34m(self, func, callback)\u001B[0m\n\u001B[1;32m    206\u001B[0m \u001B[38;5;28;01mdef\u001B[39;00m \u001B[38;5;21mapply_async\u001B[39m(\u001B[38;5;28mself\u001B[39m, func, callback\u001B[38;5;241m=\u001B[39m\u001B[38;5;28;01mNone\u001B[39;00m):\n\u001B[1;32m    207\u001B[0m \u001B[38;5;250m    \u001B[39m\u001B[38;5;124;03m\"\"\"Schedule a func to be run\"\"\"\u001B[39;00m\n\u001B[0;32m--> 208\u001B[0m     result \u001B[38;5;241m=\u001B[39m ImmediateResult(func)\n\u001B[1;32m    209\u001B[0m     \u001B[38;5;28;01mif\u001B[39;00m callback:\n\u001B[1;32m    210\u001B[0m         callback(result)\n",
      "File \u001B[0;32m~/anaconda3/lib/python3.11/site-packages/joblib/_parallel_backends.py:597\u001B[0m, in \u001B[0;36mImmediateResult.__init__\u001B[0;34m(self, batch)\u001B[0m\n\u001B[1;32m    594\u001B[0m \u001B[38;5;28;01mdef\u001B[39;00m \u001B[38;5;21m__init__\u001B[39m(\u001B[38;5;28mself\u001B[39m, batch):\n\u001B[1;32m    595\u001B[0m     \u001B[38;5;66;03m# Don't delay the application, to avoid keeping the input\u001B[39;00m\n\u001B[1;32m    596\u001B[0m     \u001B[38;5;66;03m# arguments in memory\u001B[39;00m\n\u001B[0;32m--> 597\u001B[0m     \u001B[38;5;28mself\u001B[39m\u001B[38;5;241m.\u001B[39mresults \u001B[38;5;241m=\u001B[39m batch()\n",
      "File \u001B[0;32m~/anaconda3/lib/python3.11/site-packages/joblib/parallel.py:288\u001B[0m, in \u001B[0;36mBatchedCalls.__call__\u001B[0;34m(self)\u001B[0m\n\u001B[1;32m    284\u001B[0m \u001B[38;5;28;01mdef\u001B[39;00m \u001B[38;5;21m__call__\u001B[39m(\u001B[38;5;28mself\u001B[39m):\n\u001B[1;32m    285\u001B[0m     \u001B[38;5;66;03m# Set the default nested backend to self._backend but do not set the\u001B[39;00m\n\u001B[1;32m    286\u001B[0m     \u001B[38;5;66;03m# change the default number of processes to -1\u001B[39;00m\n\u001B[1;32m    287\u001B[0m     \u001B[38;5;28;01mwith\u001B[39;00m parallel_backend(\u001B[38;5;28mself\u001B[39m\u001B[38;5;241m.\u001B[39m_backend, n_jobs\u001B[38;5;241m=\u001B[39m\u001B[38;5;28mself\u001B[39m\u001B[38;5;241m.\u001B[39m_n_jobs):\n\u001B[0;32m--> 288\u001B[0m         \u001B[38;5;28;01mreturn\u001B[39;00m [func(\u001B[38;5;241m*\u001B[39margs, \u001B[38;5;241m*\u001B[39m\u001B[38;5;241m*\u001B[39mkwargs)\n\u001B[1;32m    289\u001B[0m                 \u001B[38;5;28;01mfor\u001B[39;00m func, args, kwargs \u001B[38;5;129;01min\u001B[39;00m \u001B[38;5;28mself\u001B[39m\u001B[38;5;241m.\u001B[39mitems]\n",
      "File \u001B[0;32m~/anaconda3/lib/python3.11/site-packages/joblib/parallel.py:288\u001B[0m, in \u001B[0;36m<listcomp>\u001B[0;34m(.0)\u001B[0m\n\u001B[1;32m    284\u001B[0m \u001B[38;5;28;01mdef\u001B[39;00m \u001B[38;5;21m__call__\u001B[39m(\u001B[38;5;28mself\u001B[39m):\n\u001B[1;32m    285\u001B[0m     \u001B[38;5;66;03m# Set the default nested backend to self._backend but do not set the\u001B[39;00m\n\u001B[1;32m    286\u001B[0m     \u001B[38;5;66;03m# change the default number of processes to -1\u001B[39;00m\n\u001B[1;32m    287\u001B[0m     \u001B[38;5;28;01mwith\u001B[39;00m parallel_backend(\u001B[38;5;28mself\u001B[39m\u001B[38;5;241m.\u001B[39m_backend, n_jobs\u001B[38;5;241m=\u001B[39m\u001B[38;5;28mself\u001B[39m\u001B[38;5;241m.\u001B[39m_n_jobs):\n\u001B[0;32m--> 288\u001B[0m         \u001B[38;5;28;01mreturn\u001B[39;00m [func(\u001B[38;5;241m*\u001B[39margs, \u001B[38;5;241m*\u001B[39m\u001B[38;5;241m*\u001B[39mkwargs)\n\u001B[1;32m    289\u001B[0m                 \u001B[38;5;28;01mfor\u001B[39;00m func, args, kwargs \u001B[38;5;129;01min\u001B[39;00m \u001B[38;5;28mself\u001B[39m\u001B[38;5;241m.\u001B[39mitems]\n",
      "File \u001B[0;32m~/anaconda3/lib/python3.11/site-packages/sklearn/utils/parallel.py:127\u001B[0m, in \u001B[0;36m_FuncWrapper.__call__\u001B[0;34m(self, *args, **kwargs)\u001B[0m\n\u001B[1;32m    125\u001B[0m     config \u001B[38;5;241m=\u001B[39m {}\n\u001B[1;32m    126\u001B[0m \u001B[38;5;28;01mwith\u001B[39;00m config_context(\u001B[38;5;241m*\u001B[39m\u001B[38;5;241m*\u001B[39mconfig):\n\u001B[0;32m--> 127\u001B[0m     \u001B[38;5;28;01mreturn\u001B[39;00m \u001B[38;5;28mself\u001B[39m\u001B[38;5;241m.\u001B[39mfunction(\u001B[38;5;241m*\u001B[39margs, \u001B[38;5;241m*\u001B[39m\u001B[38;5;241m*\u001B[39mkwargs)\n",
      "File \u001B[0;32m~/anaconda3/lib/python3.11/site-packages/sklearn/model_selection/_validation.py:732\u001B[0m, in \u001B[0;36m_fit_and_score\u001B[0;34m(estimator, X, y, scorer, train, test, verbose, parameters, fit_params, return_train_score, return_parameters, return_n_test_samples, return_times, return_estimator, split_progress, candidate_progress, error_score)\u001B[0m\n\u001B[1;32m    730\u001B[0m         estimator\u001B[38;5;241m.\u001B[39mfit(X_train, \u001B[38;5;241m*\u001B[39m\u001B[38;5;241m*\u001B[39mfit_params)\n\u001B[1;32m    731\u001B[0m     \u001B[38;5;28;01melse\u001B[39;00m:\n\u001B[0;32m--> 732\u001B[0m         estimator\u001B[38;5;241m.\u001B[39mfit(X_train, y_train, \u001B[38;5;241m*\u001B[39m\u001B[38;5;241m*\u001B[39mfit_params)\n\u001B[1;32m    734\u001B[0m \u001B[38;5;28;01mexcept\u001B[39;00m \u001B[38;5;167;01mException\u001B[39;00m:\n\u001B[1;32m    735\u001B[0m     \u001B[38;5;66;03m# Note fit time as time until error\u001B[39;00m\n\u001B[1;32m    736\u001B[0m     fit_time \u001B[38;5;241m=\u001B[39m time\u001B[38;5;241m.\u001B[39mtime() \u001B[38;5;241m-\u001B[39m start_time\n",
      "File \u001B[0;32m~/anaconda3/lib/python3.11/site-packages/sklearn/base.py:1151\u001B[0m, in \u001B[0;36m_fit_context.<locals>.decorator.<locals>.wrapper\u001B[0;34m(estimator, *args, **kwargs)\u001B[0m\n\u001B[1;32m   1144\u001B[0m     estimator\u001B[38;5;241m.\u001B[39m_validate_params()\n\u001B[1;32m   1146\u001B[0m \u001B[38;5;28;01mwith\u001B[39;00m config_context(\n\u001B[1;32m   1147\u001B[0m     skip_parameter_validation\u001B[38;5;241m=\u001B[39m(\n\u001B[1;32m   1148\u001B[0m         prefer_skip_nested_validation \u001B[38;5;129;01mor\u001B[39;00m global_skip_validation\n\u001B[1;32m   1149\u001B[0m     )\n\u001B[1;32m   1150\u001B[0m ):\n\u001B[0;32m-> 1151\u001B[0m     \u001B[38;5;28;01mreturn\u001B[39;00m fit_method(estimator, \u001B[38;5;241m*\u001B[39margs, \u001B[38;5;241m*\u001B[39m\u001B[38;5;241m*\u001B[39mkwargs)\n",
      "File \u001B[0;32m~/anaconda3/lib/python3.11/site-packages/sklearn/ensemble/_forest.py:456\u001B[0m, in \u001B[0;36mBaseForest.fit\u001B[0;34m(self, X, y, sample_weight)\u001B[0m\n\u001B[1;32m    445\u001B[0m trees \u001B[38;5;241m=\u001B[39m [\n\u001B[1;32m    446\u001B[0m     \u001B[38;5;28mself\u001B[39m\u001B[38;5;241m.\u001B[39m_make_estimator(append\u001B[38;5;241m=\u001B[39m\u001B[38;5;28;01mFalse\u001B[39;00m, random_state\u001B[38;5;241m=\u001B[39mrandom_state)\n\u001B[1;32m    447\u001B[0m     \u001B[38;5;28;01mfor\u001B[39;00m i \u001B[38;5;129;01min\u001B[39;00m \u001B[38;5;28mrange\u001B[39m(n_more_estimators)\n\u001B[1;32m    448\u001B[0m ]\n\u001B[1;32m    450\u001B[0m \u001B[38;5;66;03m# Parallel loop: we prefer the threading backend as the Cython code\u001B[39;00m\n\u001B[1;32m    451\u001B[0m \u001B[38;5;66;03m# for fitting the trees is internally releasing the Python GIL\u001B[39;00m\n\u001B[1;32m    452\u001B[0m \u001B[38;5;66;03m# making threading more efficient than multiprocessing in\u001B[39;00m\n\u001B[1;32m    453\u001B[0m \u001B[38;5;66;03m# that case. However, for joblib 0.12+ we respect any\u001B[39;00m\n\u001B[1;32m    454\u001B[0m \u001B[38;5;66;03m# parallel_backend contexts set at a higher level,\u001B[39;00m\n\u001B[1;32m    455\u001B[0m \u001B[38;5;66;03m# since correctness does not rely on using threads.\u001B[39;00m\n\u001B[0;32m--> 456\u001B[0m trees \u001B[38;5;241m=\u001B[39m Parallel(\n\u001B[1;32m    457\u001B[0m     n_jobs\u001B[38;5;241m=\u001B[39m\u001B[38;5;28mself\u001B[39m\u001B[38;5;241m.\u001B[39mn_jobs,\n\u001B[1;32m    458\u001B[0m     verbose\u001B[38;5;241m=\u001B[39m\u001B[38;5;28mself\u001B[39m\u001B[38;5;241m.\u001B[39mverbose,\n\u001B[1;32m    459\u001B[0m     prefer\u001B[38;5;241m=\u001B[39m\u001B[38;5;124m\"\u001B[39m\u001B[38;5;124mthreads\u001B[39m\u001B[38;5;124m\"\u001B[39m,\n\u001B[1;32m    460\u001B[0m )(\n\u001B[1;32m    461\u001B[0m     delayed(_parallel_build_trees)(\n\u001B[1;32m    462\u001B[0m         t,\n\u001B[1;32m    463\u001B[0m         \u001B[38;5;28mself\u001B[39m\u001B[38;5;241m.\u001B[39mbootstrap,\n\u001B[1;32m    464\u001B[0m         X,\n\u001B[1;32m    465\u001B[0m         y,\n\u001B[1;32m    466\u001B[0m         sample_weight,\n\u001B[1;32m    467\u001B[0m         i,\n\u001B[1;32m    468\u001B[0m         \u001B[38;5;28mlen\u001B[39m(trees),\n\u001B[1;32m    469\u001B[0m         verbose\u001B[38;5;241m=\u001B[39m\u001B[38;5;28mself\u001B[39m\u001B[38;5;241m.\u001B[39mverbose,\n\u001B[1;32m    470\u001B[0m         class_weight\u001B[38;5;241m=\u001B[39m\u001B[38;5;28mself\u001B[39m\u001B[38;5;241m.\u001B[39mclass_weight,\n\u001B[1;32m    471\u001B[0m         n_samples_bootstrap\u001B[38;5;241m=\u001B[39mn_samples_bootstrap,\n\u001B[1;32m    472\u001B[0m     )\n\u001B[1;32m    473\u001B[0m     \u001B[38;5;28;01mfor\u001B[39;00m i, t \u001B[38;5;129;01min\u001B[39;00m \u001B[38;5;28menumerate\u001B[39m(trees)\n\u001B[1;32m    474\u001B[0m )\n\u001B[1;32m    476\u001B[0m \u001B[38;5;66;03m# Collect newly grown trees\u001B[39;00m\n\u001B[1;32m    477\u001B[0m \u001B[38;5;28mself\u001B[39m\u001B[38;5;241m.\u001B[39mestimators_\u001B[38;5;241m.\u001B[39mextend(trees)\n",
      "File \u001B[0;32m~/anaconda3/lib/python3.11/site-packages/sklearn/utils/parallel.py:65\u001B[0m, in \u001B[0;36mParallel.__call__\u001B[0;34m(self, iterable)\u001B[0m\n\u001B[1;32m     60\u001B[0m config \u001B[38;5;241m=\u001B[39m get_config()\n\u001B[1;32m     61\u001B[0m iterable_with_config \u001B[38;5;241m=\u001B[39m (\n\u001B[1;32m     62\u001B[0m     (_with_config(delayed_func, config), args, kwargs)\n\u001B[1;32m     63\u001B[0m     \u001B[38;5;28;01mfor\u001B[39;00m delayed_func, args, kwargs \u001B[38;5;129;01min\u001B[39;00m iterable\n\u001B[1;32m     64\u001B[0m )\n\u001B[0;32m---> 65\u001B[0m \u001B[38;5;28;01mreturn\u001B[39;00m \u001B[38;5;28msuper\u001B[39m()\u001B[38;5;241m.\u001B[39m\u001B[38;5;21m__call__\u001B[39m(iterable_with_config)\n",
      "File \u001B[0;32m~/anaconda3/lib/python3.11/site-packages/joblib/parallel.py:1088\u001B[0m, in \u001B[0;36mParallel.__call__\u001B[0;34m(self, iterable)\u001B[0m\n\u001B[1;32m   1085\u001B[0m \u001B[38;5;28;01mif\u001B[39;00m \u001B[38;5;28mself\u001B[39m\u001B[38;5;241m.\u001B[39mdispatch_one_batch(iterator):\n\u001B[1;32m   1086\u001B[0m     \u001B[38;5;28mself\u001B[39m\u001B[38;5;241m.\u001B[39m_iterating \u001B[38;5;241m=\u001B[39m \u001B[38;5;28mself\u001B[39m\u001B[38;5;241m.\u001B[39m_original_iterator \u001B[38;5;129;01mis\u001B[39;00m \u001B[38;5;129;01mnot\u001B[39;00m \u001B[38;5;28;01mNone\u001B[39;00m\n\u001B[0;32m-> 1088\u001B[0m \u001B[38;5;28;01mwhile\u001B[39;00m \u001B[38;5;28mself\u001B[39m\u001B[38;5;241m.\u001B[39mdispatch_one_batch(iterator):\n\u001B[1;32m   1089\u001B[0m     \u001B[38;5;28;01mpass\u001B[39;00m\n\u001B[1;32m   1091\u001B[0m \u001B[38;5;28;01mif\u001B[39;00m pre_dispatch \u001B[38;5;241m==\u001B[39m \u001B[38;5;124m\"\u001B[39m\u001B[38;5;124mall\u001B[39m\u001B[38;5;124m\"\u001B[39m \u001B[38;5;129;01mor\u001B[39;00m n_jobs \u001B[38;5;241m==\u001B[39m \u001B[38;5;241m1\u001B[39m:\n\u001B[1;32m   1092\u001B[0m     \u001B[38;5;66;03m# The iterable was consumed all at once by the above for loop.\u001B[39;00m\n\u001B[1;32m   1093\u001B[0m     \u001B[38;5;66;03m# No need to wait for async callbacks to trigger to\u001B[39;00m\n\u001B[1;32m   1094\u001B[0m     \u001B[38;5;66;03m# consumption.\u001B[39;00m\n",
      "File \u001B[0;32m~/anaconda3/lib/python3.11/site-packages/joblib/parallel.py:901\u001B[0m, in \u001B[0;36mParallel.dispatch_one_batch\u001B[0;34m(self, iterator)\u001B[0m\n\u001B[1;32m    899\u001B[0m     \u001B[38;5;28;01mreturn\u001B[39;00m \u001B[38;5;28;01mFalse\u001B[39;00m\n\u001B[1;32m    900\u001B[0m \u001B[38;5;28;01melse\u001B[39;00m:\n\u001B[0;32m--> 901\u001B[0m     \u001B[38;5;28mself\u001B[39m\u001B[38;5;241m.\u001B[39m_dispatch(tasks)\n\u001B[1;32m    902\u001B[0m     \u001B[38;5;28;01mreturn\u001B[39;00m \u001B[38;5;28;01mTrue\u001B[39;00m\n",
      "File \u001B[0;32m~/anaconda3/lib/python3.11/site-packages/joblib/parallel.py:819\u001B[0m, in \u001B[0;36mParallel._dispatch\u001B[0;34m(self, batch)\u001B[0m\n\u001B[1;32m    817\u001B[0m \u001B[38;5;28;01mwith\u001B[39;00m \u001B[38;5;28mself\u001B[39m\u001B[38;5;241m.\u001B[39m_lock:\n\u001B[1;32m    818\u001B[0m     job_idx \u001B[38;5;241m=\u001B[39m \u001B[38;5;28mlen\u001B[39m(\u001B[38;5;28mself\u001B[39m\u001B[38;5;241m.\u001B[39m_jobs)\n\u001B[0;32m--> 819\u001B[0m     job \u001B[38;5;241m=\u001B[39m \u001B[38;5;28mself\u001B[39m\u001B[38;5;241m.\u001B[39m_backend\u001B[38;5;241m.\u001B[39mapply_async(batch, callback\u001B[38;5;241m=\u001B[39mcb)\n\u001B[1;32m    820\u001B[0m     \u001B[38;5;66;03m# A job can complete so quickly than its callback is\u001B[39;00m\n\u001B[1;32m    821\u001B[0m     \u001B[38;5;66;03m# called before we get here, causing self._jobs to\u001B[39;00m\n\u001B[1;32m    822\u001B[0m     \u001B[38;5;66;03m# grow. To ensure correct results ordering, .insert is\u001B[39;00m\n\u001B[1;32m    823\u001B[0m     \u001B[38;5;66;03m# used (rather than .append) in the following line\u001B[39;00m\n\u001B[1;32m    824\u001B[0m     \u001B[38;5;28mself\u001B[39m\u001B[38;5;241m.\u001B[39m_jobs\u001B[38;5;241m.\u001B[39minsert(job_idx, job)\n",
      "File \u001B[0;32m~/anaconda3/lib/python3.11/site-packages/joblib/_parallel_backends.py:208\u001B[0m, in \u001B[0;36mSequentialBackend.apply_async\u001B[0;34m(self, func, callback)\u001B[0m\n\u001B[1;32m    206\u001B[0m \u001B[38;5;28;01mdef\u001B[39;00m \u001B[38;5;21mapply_async\u001B[39m(\u001B[38;5;28mself\u001B[39m, func, callback\u001B[38;5;241m=\u001B[39m\u001B[38;5;28;01mNone\u001B[39;00m):\n\u001B[1;32m    207\u001B[0m \u001B[38;5;250m    \u001B[39m\u001B[38;5;124;03m\"\"\"Schedule a func to be run\"\"\"\u001B[39;00m\n\u001B[0;32m--> 208\u001B[0m     result \u001B[38;5;241m=\u001B[39m ImmediateResult(func)\n\u001B[1;32m    209\u001B[0m     \u001B[38;5;28;01mif\u001B[39;00m callback:\n\u001B[1;32m    210\u001B[0m         callback(result)\n",
      "File \u001B[0;32m~/anaconda3/lib/python3.11/site-packages/joblib/_parallel_backends.py:597\u001B[0m, in \u001B[0;36mImmediateResult.__init__\u001B[0;34m(self, batch)\u001B[0m\n\u001B[1;32m    594\u001B[0m \u001B[38;5;28;01mdef\u001B[39;00m \u001B[38;5;21m__init__\u001B[39m(\u001B[38;5;28mself\u001B[39m, batch):\n\u001B[1;32m    595\u001B[0m     \u001B[38;5;66;03m# Don't delay the application, to avoid keeping the input\u001B[39;00m\n\u001B[1;32m    596\u001B[0m     \u001B[38;5;66;03m# arguments in memory\u001B[39;00m\n\u001B[0;32m--> 597\u001B[0m     \u001B[38;5;28mself\u001B[39m\u001B[38;5;241m.\u001B[39mresults \u001B[38;5;241m=\u001B[39m batch()\n",
      "File \u001B[0;32m~/anaconda3/lib/python3.11/site-packages/joblib/parallel.py:288\u001B[0m, in \u001B[0;36mBatchedCalls.__call__\u001B[0;34m(self)\u001B[0m\n\u001B[1;32m    284\u001B[0m \u001B[38;5;28;01mdef\u001B[39;00m \u001B[38;5;21m__call__\u001B[39m(\u001B[38;5;28mself\u001B[39m):\n\u001B[1;32m    285\u001B[0m     \u001B[38;5;66;03m# Set the default nested backend to self._backend but do not set the\u001B[39;00m\n\u001B[1;32m    286\u001B[0m     \u001B[38;5;66;03m# change the default number of processes to -1\u001B[39;00m\n\u001B[1;32m    287\u001B[0m     \u001B[38;5;28;01mwith\u001B[39;00m parallel_backend(\u001B[38;5;28mself\u001B[39m\u001B[38;5;241m.\u001B[39m_backend, n_jobs\u001B[38;5;241m=\u001B[39m\u001B[38;5;28mself\u001B[39m\u001B[38;5;241m.\u001B[39m_n_jobs):\n\u001B[0;32m--> 288\u001B[0m         \u001B[38;5;28;01mreturn\u001B[39;00m [func(\u001B[38;5;241m*\u001B[39margs, \u001B[38;5;241m*\u001B[39m\u001B[38;5;241m*\u001B[39mkwargs)\n\u001B[1;32m    289\u001B[0m                 \u001B[38;5;28;01mfor\u001B[39;00m func, args, kwargs \u001B[38;5;129;01min\u001B[39;00m \u001B[38;5;28mself\u001B[39m\u001B[38;5;241m.\u001B[39mitems]\n",
      "File \u001B[0;32m~/anaconda3/lib/python3.11/site-packages/joblib/parallel.py:288\u001B[0m, in \u001B[0;36m<listcomp>\u001B[0;34m(.0)\u001B[0m\n\u001B[1;32m    284\u001B[0m \u001B[38;5;28;01mdef\u001B[39;00m \u001B[38;5;21m__call__\u001B[39m(\u001B[38;5;28mself\u001B[39m):\n\u001B[1;32m    285\u001B[0m     \u001B[38;5;66;03m# Set the default nested backend to self._backend but do not set the\u001B[39;00m\n\u001B[1;32m    286\u001B[0m     \u001B[38;5;66;03m# change the default number of processes to -1\u001B[39;00m\n\u001B[1;32m    287\u001B[0m     \u001B[38;5;28;01mwith\u001B[39;00m parallel_backend(\u001B[38;5;28mself\u001B[39m\u001B[38;5;241m.\u001B[39m_backend, n_jobs\u001B[38;5;241m=\u001B[39m\u001B[38;5;28mself\u001B[39m\u001B[38;5;241m.\u001B[39m_n_jobs):\n\u001B[0;32m--> 288\u001B[0m         \u001B[38;5;28;01mreturn\u001B[39;00m [func(\u001B[38;5;241m*\u001B[39margs, \u001B[38;5;241m*\u001B[39m\u001B[38;5;241m*\u001B[39mkwargs)\n\u001B[1;32m    289\u001B[0m                 \u001B[38;5;28;01mfor\u001B[39;00m func, args, kwargs \u001B[38;5;129;01min\u001B[39;00m \u001B[38;5;28mself\u001B[39m\u001B[38;5;241m.\u001B[39mitems]\n",
      "File \u001B[0;32m~/anaconda3/lib/python3.11/site-packages/sklearn/utils/parallel.py:127\u001B[0m, in \u001B[0;36m_FuncWrapper.__call__\u001B[0;34m(self, *args, **kwargs)\u001B[0m\n\u001B[1;32m    125\u001B[0m     config \u001B[38;5;241m=\u001B[39m {}\n\u001B[1;32m    126\u001B[0m \u001B[38;5;28;01mwith\u001B[39;00m config_context(\u001B[38;5;241m*\u001B[39m\u001B[38;5;241m*\u001B[39mconfig):\n\u001B[0;32m--> 127\u001B[0m     \u001B[38;5;28;01mreturn\u001B[39;00m \u001B[38;5;28mself\u001B[39m\u001B[38;5;241m.\u001B[39mfunction(\u001B[38;5;241m*\u001B[39margs, \u001B[38;5;241m*\u001B[39m\u001B[38;5;241m*\u001B[39mkwargs)\n",
      "File \u001B[0;32m~/anaconda3/lib/python3.11/site-packages/sklearn/ensemble/_forest.py:188\u001B[0m, in \u001B[0;36m_parallel_build_trees\u001B[0;34m(tree, bootstrap, X, y, sample_weight, tree_idx, n_trees, verbose, class_weight, n_samples_bootstrap)\u001B[0m\n\u001B[1;32m    185\u001B[0m     \u001B[38;5;28;01melif\u001B[39;00m class_weight \u001B[38;5;241m==\u001B[39m \u001B[38;5;124m\"\u001B[39m\u001B[38;5;124mbalanced_subsample\u001B[39m\u001B[38;5;124m\"\u001B[39m:\n\u001B[1;32m    186\u001B[0m         curr_sample_weight \u001B[38;5;241m*\u001B[39m\u001B[38;5;241m=\u001B[39m compute_sample_weight(\u001B[38;5;124m\"\u001B[39m\u001B[38;5;124mbalanced\u001B[39m\u001B[38;5;124m\"\u001B[39m, y, indices\u001B[38;5;241m=\u001B[39mindices)\n\u001B[0;32m--> 188\u001B[0m     tree\u001B[38;5;241m.\u001B[39mfit(X, y, sample_weight\u001B[38;5;241m=\u001B[39mcurr_sample_weight, check_input\u001B[38;5;241m=\u001B[39m\u001B[38;5;28;01mFalse\u001B[39;00m)\n\u001B[1;32m    189\u001B[0m \u001B[38;5;28;01melse\u001B[39;00m:\n\u001B[1;32m    190\u001B[0m     tree\u001B[38;5;241m.\u001B[39mfit(X, y, sample_weight\u001B[38;5;241m=\u001B[39msample_weight, check_input\u001B[38;5;241m=\u001B[39m\u001B[38;5;28;01mFalse\u001B[39;00m)\n",
      "File \u001B[0;32m~/anaconda3/lib/python3.11/site-packages/sklearn/base.py:1151\u001B[0m, in \u001B[0;36m_fit_context.<locals>.decorator.<locals>.wrapper\u001B[0;34m(estimator, *args, **kwargs)\u001B[0m\n\u001B[1;32m   1144\u001B[0m     estimator\u001B[38;5;241m.\u001B[39m_validate_params()\n\u001B[1;32m   1146\u001B[0m \u001B[38;5;28;01mwith\u001B[39;00m config_context(\n\u001B[1;32m   1147\u001B[0m     skip_parameter_validation\u001B[38;5;241m=\u001B[39m(\n\u001B[1;32m   1148\u001B[0m         prefer_skip_nested_validation \u001B[38;5;129;01mor\u001B[39;00m global_skip_validation\n\u001B[1;32m   1149\u001B[0m     )\n\u001B[1;32m   1150\u001B[0m ):\n\u001B[0;32m-> 1151\u001B[0m     \u001B[38;5;28;01mreturn\u001B[39;00m fit_method(estimator, \u001B[38;5;241m*\u001B[39margs, \u001B[38;5;241m*\u001B[39m\u001B[38;5;241m*\u001B[39mkwargs)\n",
      "File \u001B[0;32m~/anaconda3/lib/python3.11/site-packages/sklearn/tree/_classes.py:959\u001B[0m, in \u001B[0;36mDecisionTreeClassifier.fit\u001B[0;34m(self, X, y, sample_weight, check_input)\u001B[0m\n\u001B[1;32m    928\u001B[0m \u001B[38;5;129m@_fit_context\u001B[39m(prefer_skip_nested_validation\u001B[38;5;241m=\u001B[39m\u001B[38;5;28;01mTrue\u001B[39;00m)\n\u001B[1;32m    929\u001B[0m \u001B[38;5;28;01mdef\u001B[39;00m \u001B[38;5;21mfit\u001B[39m(\u001B[38;5;28mself\u001B[39m, X, y, sample_weight\u001B[38;5;241m=\u001B[39m\u001B[38;5;28;01mNone\u001B[39;00m, check_input\u001B[38;5;241m=\u001B[39m\u001B[38;5;28;01mTrue\u001B[39;00m):\n\u001B[1;32m    930\u001B[0m \u001B[38;5;250m    \u001B[39m\u001B[38;5;124;03m\"\"\"Build a decision tree classifier from the training set (X, y).\u001B[39;00m\n\u001B[1;32m    931\u001B[0m \n\u001B[1;32m    932\u001B[0m \u001B[38;5;124;03m    Parameters\u001B[39;00m\n\u001B[0;32m   (...)\u001B[0m\n\u001B[1;32m    956\u001B[0m \u001B[38;5;124;03m        Fitted estimator.\u001B[39;00m\n\u001B[1;32m    957\u001B[0m \u001B[38;5;124;03m    \"\"\"\u001B[39;00m\n\u001B[0;32m--> 959\u001B[0m     \u001B[38;5;28msuper\u001B[39m()\u001B[38;5;241m.\u001B[39m_fit(\n\u001B[1;32m    960\u001B[0m         X,\n\u001B[1;32m    961\u001B[0m         y,\n\u001B[1;32m    962\u001B[0m         sample_weight\u001B[38;5;241m=\u001B[39msample_weight,\n\u001B[1;32m    963\u001B[0m         check_input\u001B[38;5;241m=\u001B[39mcheck_input,\n\u001B[1;32m    964\u001B[0m     )\n\u001B[1;32m    965\u001B[0m     \u001B[38;5;28;01mreturn\u001B[39;00m \u001B[38;5;28mself\u001B[39m\n",
      "File \u001B[0;32m~/anaconda3/lib/python3.11/site-packages/sklearn/tree/_classes.py:413\u001B[0m, in \u001B[0;36mBaseDecisionTree._fit\u001B[0;34m(self, X, y, sample_weight, check_input, missing_values_in_feature_mask)\u001B[0m\n\u001B[1;32m    404\u001B[0m     splitter \u001B[38;5;241m=\u001B[39m SPLITTERS[\u001B[38;5;28mself\u001B[39m\u001B[38;5;241m.\u001B[39msplitter](\n\u001B[1;32m    405\u001B[0m         criterion,\n\u001B[1;32m    406\u001B[0m         \u001B[38;5;28mself\u001B[39m\u001B[38;5;241m.\u001B[39mmax_features_,\n\u001B[0;32m   (...)\u001B[0m\n\u001B[1;32m    409\u001B[0m         random_state,\n\u001B[1;32m    410\u001B[0m     )\n\u001B[1;32m    412\u001B[0m \u001B[38;5;28;01mif\u001B[39;00m is_classifier(\u001B[38;5;28mself\u001B[39m):\n\u001B[0;32m--> 413\u001B[0m     \u001B[38;5;28mself\u001B[39m\u001B[38;5;241m.\u001B[39mtree_ \u001B[38;5;241m=\u001B[39m Tree(\u001B[38;5;28mself\u001B[39m\u001B[38;5;241m.\u001B[39mn_features_in_, \u001B[38;5;28mself\u001B[39m\u001B[38;5;241m.\u001B[39mn_classes_, \u001B[38;5;28mself\u001B[39m\u001B[38;5;241m.\u001B[39mn_outputs_)\n\u001B[1;32m    414\u001B[0m \u001B[38;5;28;01melse\u001B[39;00m:\n\u001B[1;32m    415\u001B[0m     \u001B[38;5;28mself\u001B[39m\u001B[38;5;241m.\u001B[39mtree_ \u001B[38;5;241m=\u001B[39m Tree(\n\u001B[1;32m    416\u001B[0m         \u001B[38;5;28mself\u001B[39m\u001B[38;5;241m.\u001B[39mn_features_in_,\n\u001B[1;32m    417\u001B[0m         \u001B[38;5;66;03m# TODO: tree shouldn't need this in this case\u001B[39;00m\n\u001B[1;32m    418\u001B[0m         np\u001B[38;5;241m.\u001B[39marray([\u001B[38;5;241m1\u001B[39m] \u001B[38;5;241m*\u001B[39m \u001B[38;5;28mself\u001B[39m\u001B[38;5;241m.\u001B[39mn_outputs_, dtype\u001B[38;5;241m=\u001B[39mnp\u001B[38;5;241m.\u001B[39mintp),\n\u001B[1;32m    419\u001B[0m         \u001B[38;5;28mself\u001B[39m\u001B[38;5;241m.\u001B[39mn_outputs_,\n\u001B[1;32m    420\u001B[0m     )\n",
      "File \u001B[0;32msklearn/tree/_tree.pyx:662\u001B[0m, in \u001B[0;36msklearn.tree._tree.Tree.__cinit__\u001B[0;34m()\u001B[0m\n",
      "File \u001B[0;32m<__array_function__ internals>:200\u001B[0m, in \u001B[0;36mamax\u001B[0;34m(*args, **kwargs)\u001B[0m\n",
      "File \u001B[0;32m~/anaconda3/lib/python3.11/site-packages/numpy/core/fromnumeric.py:2820\u001B[0m, in \u001B[0;36mamax\u001B[0;34m(a, axis, out, keepdims, initial, where)\u001B[0m\n\u001B[1;32m   2703\u001B[0m \u001B[38;5;129m@array_function_dispatch\u001B[39m(_amax_dispatcher)\n\u001B[1;32m   2704\u001B[0m \u001B[38;5;28;01mdef\u001B[39;00m \u001B[38;5;21mamax\u001B[39m(a, axis\u001B[38;5;241m=\u001B[39m\u001B[38;5;28;01mNone\u001B[39;00m, out\u001B[38;5;241m=\u001B[39m\u001B[38;5;28;01mNone\u001B[39;00m, keepdims\u001B[38;5;241m=\u001B[39mnp\u001B[38;5;241m.\u001B[39m_NoValue, initial\u001B[38;5;241m=\u001B[39mnp\u001B[38;5;241m.\u001B[39m_NoValue,\n\u001B[1;32m   2705\u001B[0m          where\u001B[38;5;241m=\u001B[39mnp\u001B[38;5;241m.\u001B[39m_NoValue):\n\u001B[1;32m   2706\u001B[0m \u001B[38;5;250m    \u001B[39m\u001B[38;5;124;03m\"\"\"\u001B[39;00m\n\u001B[1;32m   2707\u001B[0m \u001B[38;5;124;03m    Return the maximum of an array or maximum along an axis.\u001B[39;00m\n\u001B[1;32m   2708\u001B[0m \n\u001B[0;32m   (...)\u001B[0m\n\u001B[1;32m   2818\u001B[0m \u001B[38;5;124;03m    5\u001B[39;00m\n\u001B[1;32m   2819\u001B[0m \u001B[38;5;124;03m    \"\"\"\u001B[39;00m\n\u001B[0;32m-> 2820\u001B[0m     \u001B[38;5;28;01mreturn\u001B[39;00m _wrapreduction(a, np\u001B[38;5;241m.\u001B[39mmaximum, \u001B[38;5;124m'\u001B[39m\u001B[38;5;124mmax\u001B[39m\u001B[38;5;124m'\u001B[39m, axis, \u001B[38;5;28;01mNone\u001B[39;00m, out,\n\u001B[1;32m   2821\u001B[0m                           keepdims\u001B[38;5;241m=\u001B[39mkeepdims, initial\u001B[38;5;241m=\u001B[39minitial, where\u001B[38;5;241m=\u001B[39mwhere)\n",
      "File \u001B[0;32m~/anaconda3/lib/python3.11/site-packages/numpy/core/fromnumeric.py:86\u001B[0m, in \u001B[0;36m_wrapreduction\u001B[0;34m(obj, ufunc, method, axis, dtype, out, **kwargs)\u001B[0m\n\u001B[1;32m     83\u001B[0m         \u001B[38;5;28;01melse\u001B[39;00m:\n\u001B[1;32m     84\u001B[0m             \u001B[38;5;28;01mreturn\u001B[39;00m reduction(axis\u001B[38;5;241m=\u001B[39maxis, out\u001B[38;5;241m=\u001B[39mout, \u001B[38;5;241m*\u001B[39m\u001B[38;5;241m*\u001B[39mpasskwargs)\n\u001B[0;32m---> 86\u001B[0m \u001B[38;5;28;01mreturn\u001B[39;00m ufunc\u001B[38;5;241m.\u001B[39mreduce(obj, axis, dtype, out, \u001B[38;5;241m*\u001B[39m\u001B[38;5;241m*\u001B[39mpasskwargs)\n",
      "\u001B[0;31mKeyboardInterrupt\u001B[0m: "
     ]
    }
   ],
   "source": [
    "grid.fit(X_train,y_train)"
   ],
   "metadata": {
    "collapsed": false,
    "ExecuteTime": {
     "end_time": "2023-11-10T11:30:21.472397690Z",
     "start_time": "2023-11-09T13:16:06.604498708Z"
    }
   },
   "id": "3505fc89e488be80"
  },
  {
   "cell_type": "code",
   "execution_count": 459,
   "outputs": [],
   "source": [
    "xgb_best = xgb(eta= 1, gamma= 0, max_depth= 0, min_child_weight= 0.5, subsample= 0.8, n_jobs=-1)"
   ],
   "metadata": {
    "collapsed": false,
    "ExecuteTime": {
     "end_time": "2023-11-10T11:36:24.113799892Z",
     "start_time": "2023-11-10T11:36:23.886634723Z"
    }
   },
   "id": "cbcd9d00a54eeec7"
  },
  {
   "cell_type": "code",
   "execution_count": 460,
   "outputs": [],
   "source": [
    "X_train, X_test,y_train, y_test = train_test_split(features,target, test_size=0.3, random_state=3142)"
   ],
   "metadata": {
    "collapsed": false,
    "ExecuteTime": {
     "end_time": "2023-11-10T11:36:25.423164495Z",
     "start_time": "2023-11-10T11:36:25.239746005Z"
    }
   },
   "id": "663dede1a1d4d46b"
  },
  {
   "cell_type": "code",
   "execution_count": 461,
   "outputs": [
    {
     "data": {
      "text/plain": "XGBRFClassifier(base_score=None, booster=None, callbacks=None,\n                colsample_bylevel=None, colsample_bytree=None, device=None,\n                early_stopping_rounds=None, enable_categorical=False, eta=1,\n                eval_metric=None, feature_types=None, gamma=0, grow_policy=None,\n                importance_type=None, interaction_constraints=None,\n                max_bin=None, max_cat_threshold=None, max_cat_to_onehot=None,\n                max_delta_step=None, max_depth=0, max_leaves=None,\n                min_child_weight=0.5, missing=nan, monotone_constraints=None,\n                multi_strategy=None, n_estimators=None, n_jobs=-1,\n                num_parallel_tree=None, objective='binary:logistic',\n                random_state=None, ...)",
      "text/html": "<style>#sk-container-id-6 {color: black;}#sk-container-id-6 pre{padding: 0;}#sk-container-id-6 div.sk-toggleable {background-color: white;}#sk-container-id-6 label.sk-toggleable__label {cursor: pointer;display: block;width: 100%;margin-bottom: 0;padding: 0.3em;box-sizing: border-box;text-align: center;}#sk-container-id-6 label.sk-toggleable__label-arrow:before {content: \"▸\";float: left;margin-right: 0.25em;color: #696969;}#sk-container-id-6 label.sk-toggleable__label-arrow:hover:before {color: black;}#sk-container-id-6 div.sk-estimator:hover label.sk-toggleable__label-arrow:before {color: black;}#sk-container-id-6 div.sk-toggleable__content {max-height: 0;max-width: 0;overflow: hidden;text-align: left;background-color: #f0f8ff;}#sk-container-id-6 div.sk-toggleable__content pre {margin: 0.2em;color: black;border-radius: 0.25em;background-color: #f0f8ff;}#sk-container-id-6 input.sk-toggleable__control:checked~div.sk-toggleable__content {max-height: 200px;max-width: 100%;overflow: auto;}#sk-container-id-6 input.sk-toggleable__control:checked~label.sk-toggleable__label-arrow:before {content: \"▾\";}#sk-container-id-6 div.sk-estimator input.sk-toggleable__control:checked~label.sk-toggleable__label {background-color: #d4ebff;}#sk-container-id-6 div.sk-label input.sk-toggleable__control:checked~label.sk-toggleable__label {background-color: #d4ebff;}#sk-container-id-6 input.sk-hidden--visually {border: 0;clip: rect(1px 1px 1px 1px);clip: rect(1px, 1px, 1px, 1px);height: 1px;margin: -1px;overflow: hidden;padding: 0;position: absolute;width: 1px;}#sk-container-id-6 div.sk-estimator {font-family: monospace;background-color: #f0f8ff;border: 1px dotted black;border-radius: 0.25em;box-sizing: border-box;margin-bottom: 0.5em;}#sk-container-id-6 div.sk-estimator:hover {background-color: #d4ebff;}#sk-container-id-6 div.sk-parallel-item::after {content: \"\";width: 100%;border-bottom: 1px solid gray;flex-grow: 1;}#sk-container-id-6 div.sk-label:hover label.sk-toggleable__label {background-color: #d4ebff;}#sk-container-id-6 div.sk-serial::before {content: \"\";position: absolute;border-left: 1px solid gray;box-sizing: border-box;top: 0;bottom: 0;left: 50%;z-index: 0;}#sk-container-id-6 div.sk-serial {display: flex;flex-direction: column;align-items: center;background-color: white;padding-right: 0.2em;padding-left: 0.2em;position: relative;}#sk-container-id-6 div.sk-item {position: relative;z-index: 1;}#sk-container-id-6 div.sk-parallel {display: flex;align-items: stretch;justify-content: center;background-color: white;position: relative;}#sk-container-id-6 div.sk-item::before, #sk-container-id-6 div.sk-parallel-item::before {content: \"\";position: absolute;border-left: 1px solid gray;box-sizing: border-box;top: 0;bottom: 0;left: 50%;z-index: -1;}#sk-container-id-6 div.sk-parallel-item {display: flex;flex-direction: column;z-index: 1;position: relative;background-color: white;}#sk-container-id-6 div.sk-parallel-item:first-child::after {align-self: flex-end;width: 50%;}#sk-container-id-6 div.sk-parallel-item:last-child::after {align-self: flex-start;width: 50%;}#sk-container-id-6 div.sk-parallel-item:only-child::after {width: 0;}#sk-container-id-6 div.sk-dashed-wrapped {border: 1px dashed gray;margin: 0 0.4em 0.5em 0.4em;box-sizing: border-box;padding-bottom: 0.4em;background-color: white;}#sk-container-id-6 div.sk-label label {font-family: monospace;font-weight: bold;display: inline-block;line-height: 1.2em;}#sk-container-id-6 div.sk-label-container {text-align: center;}#sk-container-id-6 div.sk-container {/* jupyter's `normalize.less` sets `[hidden] { display: none; }` but bootstrap.min.css set `[hidden] { display: none !important; }` so we also need the `!important` here to be able to override the default hidden behavior on the sphinx rendered scikit-learn.org. See: https://github.com/scikit-learn/scikit-learn/issues/21755 */display: inline-block !important;position: relative;}#sk-container-id-6 div.sk-text-repr-fallback {display: none;}</style><div id=\"sk-container-id-6\" class=\"sk-top-container\"><div class=\"sk-text-repr-fallback\"><pre>XGBRFClassifier(base_score=None, booster=None, callbacks=None,\n                colsample_bylevel=None, colsample_bytree=None, device=None,\n                early_stopping_rounds=None, enable_categorical=False, eta=1,\n                eval_metric=None, feature_types=None, gamma=0, grow_policy=None,\n                importance_type=None, interaction_constraints=None,\n                max_bin=None, max_cat_threshold=None, max_cat_to_onehot=None,\n                max_delta_step=None, max_depth=0, max_leaves=None,\n                min_child_weight=0.5, missing=nan, monotone_constraints=None,\n                multi_strategy=None, n_estimators=None, n_jobs=-1,\n                num_parallel_tree=None, objective=&#x27;binary:logistic&#x27;,\n                random_state=None, ...)</pre><b>In a Jupyter environment, please rerun this cell to show the HTML representation or trust the notebook. <br />On GitHub, the HTML representation is unable to render, please try loading this page with nbviewer.org.</b></div><div class=\"sk-container\" hidden><div class=\"sk-item\"><div class=\"sk-estimator sk-toggleable\"><input class=\"sk-toggleable__control sk-hidden--visually\" id=\"sk-estimator-id-8\" type=\"checkbox\" checked><label for=\"sk-estimator-id-8\" class=\"sk-toggleable__label sk-toggleable__label-arrow\">XGBRFClassifier</label><div class=\"sk-toggleable__content\"><pre>XGBRFClassifier(base_score=None, booster=None, callbacks=None,\n                colsample_bylevel=None, colsample_bytree=None, device=None,\n                early_stopping_rounds=None, enable_categorical=False, eta=1,\n                eval_metric=None, feature_types=None, gamma=0, grow_policy=None,\n                importance_type=None, interaction_constraints=None,\n                max_bin=None, max_cat_threshold=None, max_cat_to_onehot=None,\n                max_delta_step=None, max_depth=0, max_leaves=None,\n                min_child_weight=0.5, missing=nan, monotone_constraints=None,\n                multi_strategy=None, n_estimators=None, n_jobs=-1,\n                num_parallel_tree=None, objective=&#x27;binary:logistic&#x27;,\n                random_state=None, ...)</pre></div></div></div></div></div>"
     },
     "execution_count": 461,
     "metadata": {},
     "output_type": "execute_result"
    }
   ],
   "source": [
    "xgb_best.fit(X_train, y_train)"
   ],
   "metadata": {
    "collapsed": false,
    "ExecuteTime": {
     "end_time": "2023-11-10T11:36:27.696036839Z",
     "start_time": "2023-11-10T11:36:26.710206102Z"
    }
   },
   "id": "f784b9ff37e083d2"
  },
  {
   "cell_type": "code",
   "execution_count": 462,
   "outputs": [
    {
     "name": "stdout",
     "output_type": "stream",
     "text": [
      "0.8127340823970037\n"
     ]
    }
   ],
   "source": [
    "print(xgb_best.score(X_test,y_test))"
   ],
   "metadata": {
    "collapsed": false,
    "ExecuteTime": {
     "end_time": "2023-11-10T11:36:31.399536856Z",
     "start_time": "2023-11-10T11:36:30.727783885Z"
    }
   },
   "id": "6e8fac53dd32f483"
  },
  {
   "cell_type": "code",
   "execution_count": 463,
   "outputs": [],
   "source": [
    "y_pred=xgb_best.predict(X_test)"
   ],
   "metadata": {
    "collapsed": false,
    "ExecuteTime": {
     "end_time": "2023-11-10T11:37:27.990523668Z",
     "start_time": "2023-11-10T11:37:27.542215833Z"
    }
   },
   "id": "832d5ef60a5c952e"
  },
  {
   "cell_type": "code",
   "execution_count": 465,
   "outputs": [
    {
     "name": "stdout",
     "output_type": "stream",
     "text": [
      "Survived    0   1\n",
      "row_0            \n",
      "0         150  31\n",
      "1          19  67\n"
     ]
    }
   ],
   "source": [
    "print(pd.crosstab(y_pred,y_test))"
   ],
   "metadata": {
    "collapsed": false,
    "ExecuteTime": {
     "end_time": "2023-11-10T11:38:49.628920871Z",
     "start_time": "2023-11-10T11:38:49.552275811Z"
    }
   },
   "id": "e01b8b0717fb8705"
  },
  {
   "cell_type": "code",
   "execution_count": 469,
   "outputs": [
    {
     "name": "stdout",
     "output_type": "stream",
     "text": [
      "              precision    recall  f1-score   support\n",
      "\n",
      "           0       0.83      0.89      0.86       169\n",
      "           1       0.78      0.68      0.73        98\n",
      "\n",
      "    accuracy                           0.81       267\n",
      "   macro avg       0.80      0.79      0.79       267\n",
      "weighted avg       0.81      0.81      0.81       267\n"
     ]
    }
   ],
   "source": [
    "print(classification_report(y_test, y_pred))"
   ],
   "metadata": {
    "collapsed": false,
    "ExecuteTime": {
     "end_time": "2023-11-10T11:41:23.612878021Z",
     "start_time": "2023-11-10T11:41:23.490180601Z"
    }
   },
   "id": "f9db8938ed41e12c"
  },
  {
   "cell_type": "code",
   "execution_count": 502,
   "outputs": [],
   "source": [
    "df['Survived'] = xgb_best.predict(df)"
   ],
   "metadata": {
    "collapsed": false,
    "ExecuteTime": {
     "end_time": "2023-11-10T12:21:14.130445480Z",
     "start_time": "2023-11-10T12:21:13.880191221Z"
    }
   },
   "id": "c41722ee25ae40fb"
  },
  {
   "cell_type": "code",
   "execution_count": 473,
   "outputs": [
    {
     "data": {
      "text/plain": "   PassengerId  Pclass   Age  SibSp  Parch     Fare  Sex_female  Sex_male  \\\n0          892       3  34.5      0      0   7.8292           0         1   \n1          893       3  47.0      1      0   7.0000           1         0   \n2          894       2  62.0      0      0   9.6875           0         1   \n3          895       3  27.0      0      0   8.6625           0         1   \n4          896       3  22.0      1      1  12.2875           1         0   \n\n   Cabin_A  Cabin_B  Cabin_C  Cabin_D  Cabin_E  Cabin_F  Cabin_G  Cabin_Z  \\\n0        0        0        0        0        0        0        0        1   \n1        0        0        0        0        0        0        0        1   \n2        0        0        0        0        0        0        0        1   \n3        0        0        0        0        0        0        0        1   \n4        0        0        0        0        0        0        0        1   \n\n   Embarked_C  Embarked_Q  Embarked_S  Survived  \n0           0           1           0         0  \n1           0           0           1         1  \n2           0           1           0         0  \n3           0           0           1         0  \n4           0           0           1         0  ",
      "text/html": "<div>\n<style scoped>\n    .dataframe tbody tr th:only-of-type {\n        vertical-align: middle;\n    }\n\n    .dataframe tbody tr th {\n        vertical-align: top;\n    }\n\n    .dataframe thead th {\n        text-align: right;\n    }\n</style>\n<table border=\"1\" class=\"dataframe\">\n  <thead>\n    <tr style=\"text-align: right;\">\n      <th></th>\n      <th>PassengerId</th>\n      <th>Pclass</th>\n      <th>Age</th>\n      <th>SibSp</th>\n      <th>Parch</th>\n      <th>Fare</th>\n      <th>Sex_female</th>\n      <th>Sex_male</th>\n      <th>Cabin_A</th>\n      <th>Cabin_B</th>\n      <th>Cabin_C</th>\n      <th>Cabin_D</th>\n      <th>Cabin_E</th>\n      <th>Cabin_F</th>\n      <th>Cabin_G</th>\n      <th>Cabin_Z</th>\n      <th>Embarked_C</th>\n      <th>Embarked_Q</th>\n      <th>Embarked_S</th>\n      <th>Survived</th>\n    </tr>\n  </thead>\n  <tbody>\n    <tr>\n      <th>0</th>\n      <td>892</td>\n      <td>3</td>\n      <td>34.5</td>\n      <td>0</td>\n      <td>0</td>\n      <td>7.8292</td>\n      <td>0</td>\n      <td>1</td>\n      <td>0</td>\n      <td>0</td>\n      <td>0</td>\n      <td>0</td>\n      <td>0</td>\n      <td>0</td>\n      <td>0</td>\n      <td>1</td>\n      <td>0</td>\n      <td>1</td>\n      <td>0</td>\n      <td>0</td>\n    </tr>\n    <tr>\n      <th>1</th>\n      <td>893</td>\n      <td>3</td>\n      <td>47.0</td>\n      <td>1</td>\n      <td>0</td>\n      <td>7.0000</td>\n      <td>1</td>\n      <td>0</td>\n      <td>0</td>\n      <td>0</td>\n      <td>0</td>\n      <td>0</td>\n      <td>0</td>\n      <td>0</td>\n      <td>0</td>\n      <td>1</td>\n      <td>0</td>\n      <td>0</td>\n      <td>1</td>\n      <td>1</td>\n    </tr>\n    <tr>\n      <th>2</th>\n      <td>894</td>\n      <td>2</td>\n      <td>62.0</td>\n      <td>0</td>\n      <td>0</td>\n      <td>9.6875</td>\n      <td>0</td>\n      <td>1</td>\n      <td>0</td>\n      <td>0</td>\n      <td>0</td>\n      <td>0</td>\n      <td>0</td>\n      <td>0</td>\n      <td>0</td>\n      <td>1</td>\n      <td>0</td>\n      <td>1</td>\n      <td>0</td>\n      <td>0</td>\n    </tr>\n    <tr>\n      <th>3</th>\n      <td>895</td>\n      <td>3</td>\n      <td>27.0</td>\n      <td>0</td>\n      <td>0</td>\n      <td>8.6625</td>\n      <td>0</td>\n      <td>1</td>\n      <td>0</td>\n      <td>0</td>\n      <td>0</td>\n      <td>0</td>\n      <td>0</td>\n      <td>0</td>\n      <td>0</td>\n      <td>1</td>\n      <td>0</td>\n      <td>0</td>\n      <td>1</td>\n      <td>0</td>\n    </tr>\n    <tr>\n      <th>4</th>\n      <td>896</td>\n      <td>3</td>\n      <td>22.0</td>\n      <td>1</td>\n      <td>1</td>\n      <td>12.2875</td>\n      <td>1</td>\n      <td>0</td>\n      <td>0</td>\n      <td>0</td>\n      <td>0</td>\n      <td>0</td>\n      <td>0</td>\n      <td>0</td>\n      <td>0</td>\n      <td>1</td>\n      <td>0</td>\n      <td>0</td>\n      <td>1</td>\n      <td>0</td>\n    </tr>\n  </tbody>\n</table>\n</div>"
     },
     "execution_count": 473,
     "metadata": {},
     "output_type": "execute_result"
    }
   ],
   "source": [
    "df.head()"
   ],
   "metadata": {
    "collapsed": false,
    "ExecuteTime": {
     "end_time": "2023-11-10T11:47:42.952085988Z",
     "start_time": "2023-11-10T11:47:42.449522659Z"
    }
   },
   "id": "477b1db9cb36f781"
  },
  {
   "cell_type": "code",
   "execution_count": 503,
   "outputs": [],
   "source": [
    "df_res=pd.DataFrame()\n",
    "df_res['PassengerId']=df['PassengerId']\n",
    "df_res['Survived']=df['Survived']\n",
    "df_result=df_res.set_index('PassengerId')"
   ],
   "metadata": {
    "collapsed": false,
    "ExecuteTime": {
     "end_time": "2023-11-10T12:21:21.682610756Z",
     "start_time": "2023-11-10T12:21:20.999769358Z"
    }
   },
   "id": "c7d6b7aa0abfee13"
  },
  {
   "cell_type": "code",
   "execution_count": 504,
   "outputs": [
    {
     "data": {
      "text/plain": "             Survived\nPassengerId          \n892                 0\n893                 1\n894                 0\n895                 0\n896                 0\n...               ...\n1305                0\n1306                1\n1307                0\n1308                0\n1309                0\n\n[418 rows x 1 columns]",
      "text/html": "<div>\n<style scoped>\n    .dataframe tbody tr th:only-of-type {\n        vertical-align: middle;\n    }\n\n    .dataframe tbody tr th {\n        vertical-align: top;\n    }\n\n    .dataframe thead th {\n        text-align: right;\n    }\n</style>\n<table border=\"1\" class=\"dataframe\">\n  <thead>\n    <tr style=\"text-align: right;\">\n      <th></th>\n      <th>Survived</th>\n    </tr>\n    <tr>\n      <th>PassengerId</th>\n      <th></th>\n    </tr>\n  </thead>\n  <tbody>\n    <tr>\n      <th>892</th>\n      <td>0</td>\n    </tr>\n    <tr>\n      <th>893</th>\n      <td>1</td>\n    </tr>\n    <tr>\n      <th>894</th>\n      <td>0</td>\n    </tr>\n    <tr>\n      <th>895</th>\n      <td>0</td>\n    </tr>\n    <tr>\n      <th>896</th>\n      <td>0</td>\n    </tr>\n    <tr>\n      <th>...</th>\n      <td>...</td>\n    </tr>\n    <tr>\n      <th>1305</th>\n      <td>0</td>\n    </tr>\n    <tr>\n      <th>1306</th>\n      <td>1</td>\n    </tr>\n    <tr>\n      <th>1307</th>\n      <td>0</td>\n    </tr>\n    <tr>\n      <th>1308</th>\n      <td>0</td>\n    </tr>\n    <tr>\n      <th>1309</th>\n      <td>0</td>\n    </tr>\n  </tbody>\n</table>\n<p>418 rows × 1 columns</p>\n</div>"
     },
     "execution_count": 504,
     "metadata": {},
     "output_type": "execute_result"
    }
   ],
   "source": [
    "df_result"
   ],
   "metadata": {
    "collapsed": false,
    "ExecuteTime": {
     "end_time": "2023-11-10T12:21:24.938970698Z",
     "start_time": "2023-11-10T12:21:24.656001344Z"
    }
   },
   "id": "13ef77252c9ef696"
  },
  {
   "cell_type": "code",
   "execution_count": 505,
   "outputs": [],
   "source": [
    "df_result.to_csv('submission.csv')"
   ],
   "metadata": {
    "collapsed": false,
    "ExecuteTime": {
     "end_time": "2023-11-10T12:21:31.089092494Z",
     "start_time": "2023-11-10T12:21:30.620036732Z"
    }
   },
   "id": "60ec6b9e3987a629"
  },
  {
   "cell_type": "code",
   "execution_count": 506,
   "outputs": [
    {
     "data": {
      "text/plain": "<bound method DataFrame.info of              Survived\nPassengerId          \n892                 0\n893                 1\n894                 0\n895                 0\n896                 0\n...               ...\n1305                0\n1306                1\n1307                0\n1308                0\n1309                0\n\n[418 rows x 1 columns]>"
     },
     "execution_count": 506,
     "metadata": {},
     "output_type": "execute_result"
    }
   ],
   "source": [
    "df_result.info"
   ],
   "metadata": {
    "collapsed": false,
    "ExecuteTime": {
     "end_time": "2023-11-10T12:21:33.351940369Z",
     "start_time": "2023-11-10T12:21:33.116368237Z"
    }
   },
   "id": "334ebee8d6a88b93"
  },
  {
   "cell_type": "code",
   "execution_count": null,
   "outputs": [],
   "source": [],
   "metadata": {
    "collapsed": false
   },
   "id": "3c06e4e8d617ebba"
  }
 ],
 "metadata": {
  "kernelspec": {
   "display_name": "Python 3",
   "language": "python",
   "name": "python3"
  },
  "language_info": {
   "codemirror_mode": {
    "name": "ipython",
    "version": 2
   },
   "file_extension": ".py",
   "mimetype": "text/x-python",
   "name": "python",
   "nbconvert_exporter": "python",
   "pygments_lexer": "ipython2",
   "version": "2.7.6"
  }
 },
 "nbformat": 4,
 "nbformat_minor": 5
}
